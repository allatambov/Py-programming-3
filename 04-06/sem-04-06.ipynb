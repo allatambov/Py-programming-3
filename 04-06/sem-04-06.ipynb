{
 "cells": [
  {
   "cell_type": "markdown",
   "metadata": {},
   "source": [
    "# Основы программирования в Python\n",
    "\n",
    "*Алла Тамбовцева, НИУ ВШЭ*"
   ]
  },
  {
   "cell_type": "markdown",
   "metadata": {},
   "source": [
    "## Семинар 9"
   ]
  },
  {
   "cell_type": "markdown",
   "metadata": {},
   "source": [
    "### Задача:\n",
    "\n",
    "Зайти на сайт [nplus1.ru](https://nplus1.ru) и сгрузить все новости с главной страницы (их там немного). На выходе должен получиться датафрейм *pandas* со следующими столбцами:\n",
    "\n",
    "* *link* ‒ ссылка на текст новости\n",
    "* *date* ‒ дата\n",
    "* *author* ‒ автор\n",
    "* *desc* ‒ краткое описание\n",
    "* *title* - заголовок\n",
    "* *text* ‒ текст новости\n",
    "* *rubric* ‒ рубрика\n",
    "* *diff* ‒ сложность статьи"
   ]
  },
  {
   "cell_type": "markdown",
   "metadata": {},
   "source": [
    "**Подсказки:**\n",
    "    \n",
    "1. Посмотрите [лекцию](https://nbviewer.jupyter.org/github/allatambov/Py-programming-3/blob/master/01-06/lect-web-scrape.ipynb).\n",
    "2. Чтобы получить не текст, а адрес ссылки из кусочка html-кода, заключенного в определенные тэги,  можно воспользоваться методом `get('href')`.\n",
    "3. Посмотрите, с чего начинаются ссылки, соответствующие новостям.\n",
    "4. Изучите страницу, соответствующую какой-нибудь одной новости. Найдите, в какие тэги заключена информация об авторе, дате, сложности и проч.\n",
    "5. Для того, чтобы выгрузка новостей была похожа на \"ручную\", импортируйте функцию `sleep` из библиотеки `time` и выставите задержку в несколько секунд на каждой итерации цикла:"
   ]
  },
  {
   "cell_type": "code",
   "execution_count": 1,
   "metadata": {},
   "outputs": [],
   "source": [
    "from time import sleep"
   ]
  },
  {
   "cell_type": "code",
   "execution_count": 2,
   "metadata": {},
   "outputs": [],
   "source": [
    "sleep(2) # 2 секунды"
   ]
  }
 ],
 "metadata": {
  "kernelspec": {
   "display_name": "Python 3",
   "language": "python",
   "name": "python3"
  },
  "language_info": {
   "codemirror_mode": {
    "name": "ipython",
    "version": 3
   },
   "file_extension": ".py",
   "mimetype": "text/x-python",
   "name": "python",
   "nbconvert_exporter": "python",
   "pygments_lexer": "ipython3",
   "version": "3.5.2"
  }
 },
 "nbformat": 4,
 "nbformat_minor": 2
}
