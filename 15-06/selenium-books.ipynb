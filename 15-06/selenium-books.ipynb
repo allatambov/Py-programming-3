{
 "cells": [
  {
   "cell_type": "markdown",
   "metadata": {},
   "source": [
    "# Основы программирования в Python\n",
    "\n",
    "*Алла Тамбовцева, НИУ ВШЭ*"
   ]
  },
  {
   "cell_type": "markdown",
   "metadata": {},
   "source": [
    "Посмотрим на другие примеры использования `selenium`. \n",
    "\n",
    "**Пример.** Зайдем на сайт книжного магазина и найдем все книги В.Пелевина. Загрузим библиотеку, веб-драйвер и откроем страницу в браузере через Python."
   ]
  },
  {
   "cell_type": "code",
   "execution_count": 11,
   "metadata": {},
   "outputs": [],
   "source": [
    "from selenium import webdriver as wb\n",
    "br = wb.Chrome()\n",
    "\n",
    "# открываем страницу в Chrome в автоматическом режиме\n",
    "br.get(\"http://www.biblio-globus.ru/\")"
   ]
  },
  {
   "cell_type": "markdown",
   "metadata": {},
   "source": [
    "Найдем с помощью CSS Selector'а поле для ввода названия книги или автора. "
   ]
  },
  {
   "cell_type": "code",
   "execution_count": 12,
   "metadata": {},
   "outputs": [],
   "source": [
    "field = br.find_element_by_css_selector(\"input\")"
   ]
  },
  {
   "cell_type": "markdown",
   "metadata": {},
   "source": [
    "Сохраним фамилию автора:"
   ]
  },
  {
   "cell_type": "code",
   "execution_count": 13,
   "metadata": {},
   "outputs": [],
   "source": [
    "author = \"Пелевин\""
   ]
  },
  {
   "cell_type": "markdown",
   "metadata": {},
   "source": [
    "Введем фамилию автора в поле для поиска (`.send_keys`) и подождем чуть-чуть:"
   ]
  },
  {
   "cell_type": "code",
   "execution_count": 14,
   "metadata": {},
   "outputs": [],
   "source": [
    "field.send_keys(\"Пелевин\")\n",
    "br.implicitly_wait(2) # подождем пару секунд"
   ]
  },
  {
   "cell_type": "markdown",
   "metadata": {},
   "source": [
    "Теперь найдем кнопку для поиска (значок *лупа* рядом со строкой поиска) через CSS Selector:"
   ]
  },
  {
   "cell_type": "code",
   "execution_count": 17,
   "metadata": {},
   "outputs": [],
   "source": [
    "submit = br.find_element_by_css_selector(\"#search_submit\")"
   ]
  },
  {
   "cell_type": "markdown",
   "metadata": {},
   "source": [
    "Кликнем на нее:"
   ]
  },
  {
   "cell_type": "code",
   "execution_count": 18,
   "metadata": {},
   "outputs": [],
   "source": [
    "submit.click()"
   ]
  },
  {
   "cell_type": "markdown",
   "metadata": {},
   "source": [
    "Сохраним первую страницу с результатами в переменную `page1`."
   ]
  },
  {
   "cell_type": "code",
   "execution_count": 22,
   "metadata": {},
   "outputs": [],
   "source": [
    "page1 = br.page_source"
   ]
  },
  {
   "cell_type": "code",
   "execution_count": null,
   "metadata": {},
   "outputs": [],
   "source": [
    "page1"
   ]
  },
  {
   "cell_type": "markdown",
   "metadata": {},
   "source": [
    "Теперь обработаем эту страницу через `BeautifulSoup`:"
   ]
  },
  {
   "cell_type": "code",
   "execution_count": 29,
   "metadata": {},
   "outputs": [],
   "source": [
    "from bs4 import BeautifulSoup"
   ]
  },
  {
   "cell_type": "code",
   "execution_count": 31,
   "metadata": {},
   "outputs": [],
   "source": [
    "soup1 = BeautifulSoup(page1, 'lxml')"
   ]
  },
  {
   "cell_type": "markdown",
   "metadata": {},
   "source": [
    "Найдем все названия книг на этой странице. По исходному коду можно увидеть, что они имеют тэг 'a' с атрибутом `class`, равным `name`:"
   ]
  },
  {
   "cell_type": "code",
   "execution_count": 33,
   "metadata": {},
   "outputs": [
    {
     "data": {
      "text/plain": [
       "[<a class=\"name\" href=\"/search/catalog/details/10234458\">Чапаев и Пустота</a>,\n",
       " <a class=\"name\" href=\"/search/catalog/details/10480299\">Бэтман Аполло</a>,\n",
       " <a class=\"name\" href=\"/search/catalog/details/10231526\">Священная книга оборотня</a>,\n",
       " <a class=\"name\" href=\"/search/catalog/details/10332074\">Бубен Верхнего Мира</a>,\n",
       " <a class=\"name\" href=\"/search/catalog/details/10474602\">Чапаев и Пустота</a>,\n",
       " <a class=\"name\" href=\"/search/catalog/details/10477404\">S.N.U.F.F.</a>,\n",
       " <a class=\"name\" href=\"/search/catalog/details/9548086\">Empire \"V\"</a>,\n",
       " <a class=\"name\" href=\"/search/catalog/details/10215096\">Смотритель. Книга 1. Орден желтого флага</a>,\n",
       " <a class=\"name\" href=\"/search/catalog/details/10222210\">Смотритель. В 2 т. Т. 2 : Железная бездна</a>,\n",
       " <a class=\"name\" href=\"/search/catalog/details/10423839\">iPhuck 10</a>]"
      ]
     },
     "execution_count": 33,
     "metadata": {},
     "output_type": "execute_result"
    }
   ],
   "source": [
    "soup1.find_all('a', {'class':'name'})"
   ]
  },
  {
   "cell_type": "markdown",
   "metadata": {},
   "source": [
    "С помощью списковых включений выберем из ссылок с тэгом `<a>` текст (так мы уже делали, и не раз)."
   ]
  },
  {
   "cell_type": "code",
   "execution_count": 34,
   "metadata": {},
   "outputs": [],
   "source": [
    "books1 = [b.text for b in soup1.find_all('a', {'class':'name'})]"
   ]
  },
  {
   "cell_type": "code",
   "execution_count": 35,
   "metadata": {},
   "outputs": [
    {
     "data": {
      "text/plain": [
       "['Чапаев и Пустота',\n",
       " 'Бэтман Аполло',\n",
       " 'Священная книга оборотня',\n",
       " 'Бубен Верхнего Мира',\n",
       " 'Чапаев и Пустота',\n",
       " 'S.N.U.F.F.',\n",
       " 'Empire \"V\"',\n",
       " 'Смотритель. Книга 1. Орден желтого флага',\n",
       " 'Смотритель. В 2 т. Т. 2 : Железная бездна',\n",
       " 'iPhuck 10']"
      ]
     },
     "execution_count": 35,
     "metadata": {},
     "output_type": "execute_result"
    }
   ],
   "source": [
    "books1"
   ]
  },
  {
   "cell_type": "markdown",
   "metadata": {},
   "source": [
    "Теперь аналогичным образом сгрузим информацию о наличии книг:"
   ]
  },
  {
   "cell_type": "code",
   "execution_count": 36,
   "metadata": {},
   "outputs": [],
   "source": [
    "instore1 = [s.text for s in soup1.find_all('div', {'class':'title_data green'})]"
   ]
  },
  {
   "cell_type": "code",
   "execution_count": 37,
   "metadata": {},
   "outputs": [
    {
     "data": {
      "text/plain": [
       "['\\n                        В наличии\\n                    ',\n",
       " '\\n                        В наличии\\n                    ',\n",
       " '\\n                        В наличии\\n                    ',\n",
       " '\\n                        В наличии\\n                    ',\n",
       " '\\n                        В наличии\\n                    ',\n",
       " '\\n                        В наличии\\n                    ',\n",
       " '\\n                        В наличии\\n                    ',\n",
       " '\\n                        В наличии\\n                    ',\n",
       " '\\n                        В наличии\\n                    ',\n",
       " '\\n                        В наличии\\n                    ']"
      ]
     },
     "execution_count": 37,
     "metadata": {},
     "output_type": "execute_result"
    }
   ],
   "source": [
    "instore1"
   ]
  },
  {
   "cell_type": "markdown",
   "metadata": {},
   "source": [
    "Уберем лишнее:"
   ]
  },
  {
   "cell_type": "code",
   "execution_count": 38,
   "metadata": {},
   "outputs": [],
   "source": [
    "instore1 = [i.strip() for i in instore1] # убираем лишние пробелы"
   ]
  },
  {
   "cell_type": "code",
   "execution_count": 39,
   "metadata": {},
   "outputs": [
    {
     "data": {
      "text/plain": [
       "['В наличии',\n",
       " 'В наличии',\n",
       " 'В наличии',\n",
       " 'В наличии',\n",
       " 'В наличии',\n",
       " 'В наличии',\n",
       " 'В наличии',\n",
       " 'В наличии',\n",
       " 'В наличии',\n",
       " 'В наличии']"
      ]
     },
     "execution_count": 39,
     "metadata": {},
     "output_type": "execute_result"
    }
   ],
   "source": [
    "instore1"
   ]
  },
  {
   "cell_type": "markdown",
   "metadata": {},
   "source": [
    "Сгрузим расположение:"
   ]
  },
  {
   "cell_type": "code",
   "execution_count": 40,
   "metadata": {},
   "outputs": [],
   "source": [
    "place1 = [p.text for p in soup1.find_all('div', {'class':'placement'})]"
   ]
  },
  {
   "cell_type": "code",
   "execution_count": 41,
   "metadata": {},
   "outputs": [
    {
     "data": {
      "text/plain": [
       "['Расположение в торговом зале: Уровень 2, зал № 12, секция 07, шкаф 70, полка 05',\n",
       " 'Расположение в торговом зале: Уровень 2, зал № 12, секция 07, шкаф 70, полка 05',\n",
       " 'Расположение в торговом зале: Уровень 2, зал № 12, секция 07, шкаф 70, полка 05',\n",
       " 'Расположение в торговом зале: Уровень 2, зал № 12, секция 07, шкаф 70, полка 05',\n",
       " 'Расположение в торговом зале: Уровень 2, зал № 12, секция 07, шкаф 70, полка 04',\n",
       " 'Расположение в торговом зале: Уровень 2, зал № 12, секция 05, шкаф 54, полка 07',\n",
       " 'Расположение в торговом зале: Уровень 2, зал № 12, секция 07, шкаф 70, полка 05',\n",
       " 'Расположение в торговом зале: Уровень 2, зал № 12, секция 07, шкаф 70, полка 04',\n",
       " 'Расположение в торговом зале: Уровень 2, зал № 12, секция 07, шкаф 70, полка 04',\n",
       " 'Расположение в торговом зале: Уровень 2, зал № 12, секция 07, шкаф 70, полка 05']"
      ]
     },
     "execution_count": 41,
     "metadata": {},
     "output_type": "execute_result"
    }
   ],
   "source": [
    "place1"
   ]
  },
  {
   "cell_type": "markdown",
   "metadata": {},
   "source": [
    "И, конечно, цену:"
   ]
  },
  {
   "cell_type": "code",
   "execution_count": 42,
   "metadata": {},
   "outputs": [],
   "source": [
    "price1 = [p.text for p in soup1.find_all('div', {'class':'title_data price'})]"
   ]
  },
  {
   "cell_type": "code",
   "execution_count": 43,
   "metadata": {},
   "outputs": [
    {
     "data": {
      "text/plain": [
       "['Цена: 339,00 руб.',\n",
       " 'Цена: 279,00 руб.',\n",
       " 'Цена: 229,00 руб.',\n",
       " 'Цена: 259,00 руб.',\n",
       " 'Цена: 639,00 руб.',\n",
       " 'Цена: 299,00 руб.',\n",
       " 'Цена: 299,00 руб.',\n",
       " 'Цена: 549,00 руб.',\n",
       " 'Цена: 549,00 руб.',\n",
       " 'Цена: 709,00 руб.']"
      ]
     },
     "execution_count": 43,
     "metadata": {},
     "output_type": "execute_result"
    }
   ],
   "source": [
    "price1"
   ]
  },
  {
   "cell_type": "markdown",
   "metadata": {},
   "source": [
    "Осталось пройтись по всем страницам, которые были выданы в результате поиска. Для примера перейдем на страницу 2 и на этом остановимся."
   ]
  },
  {
   "cell_type": "code",
   "execution_count": 44,
   "metadata": {},
   "outputs": [],
   "source": [
    "next_p = br.find_element_by_css_selector('.next_page')"
   ]
  },
  {
   "cell_type": "code",
   "execution_count": 45,
   "metadata": {},
   "outputs": [],
   "source": [
    "next_p.click()"
   ]
  },
  {
   "cell_type": "markdown",
   "metadata": {},
   "source": [
    "Проделаем то же самое, что и с первой страницей. По-хорошему нужно написать функцию, которая будет искать на странице названия книг, их расположение и цену. Но оставим это в качестве задания читателю :)"
   ]
  },
  {
   "cell_type": "code",
   "execution_count": 46,
   "metadata": {},
   "outputs": [],
   "source": [
    "page2 = br.page_source\n",
    "soup2 = BeautifulSoup(page2, 'lxml')\n",
    "books2 = [b.text for b in soup2.find_all('a', {'class':'name'})]\n",
    "instore2 = [s.text for s in soup2.find_all('div', {'class':'title_data green'})]\n",
    "instore2 = [i.strip() for i in instore2] \n",
    "place2 = [p.text for p in soup2.find_all('div', {'class':'placement'})]\n",
    "price2 = [p.text for p in soup2.find_all('div', {'class':'title_data price'})]"
   ]
  },
  {
   "cell_type": "markdown",
   "metadata": {},
   "source": [
    "Расширим списки результатов с первой страницы данными, полученными со второй страницы, используя метод `.extend()`."
   ]
  },
  {
   "cell_type": "code",
   "execution_count": 47,
   "metadata": {},
   "outputs": [],
   "source": [
    "books1.extend(books2)\n",
    "instore1.extend(instore2)\n",
    "place1.extend(place2)\n",
    "price1.extend(price2)"
   ]
  },
  {
   "cell_type": "markdown",
   "metadata": {},
   "source": [
    "Осталось импортировать библиотеку `pandas` и создать датафрейм."
   ]
  },
  {
   "cell_type": "code",
   "execution_count": 48,
   "metadata": {},
   "outputs": [],
   "source": [
    "import pandas as pd"
   ]
  },
  {
   "cell_type": "markdown",
   "metadata": {},
   "source": [
    "Для разнообразия создадим датафрейм не из списка списков, а из словаря. Ключами словаря будут названия столбцов в таблице, а значениями ‒ списки с сохраненной информацией (названия книг, цены и проч.)."
   ]
  },
  {
   "cell_type": "code",
   "execution_count": 51,
   "metadata": {},
   "outputs": [],
   "source": [
    "df = pd.DataFrame({'books': books1, 'in_store': instore1, 'placement': place1, 'price': price1})"
   ]
  },
  {
   "cell_type": "code",
   "execution_count": 52,
   "metadata": {},
   "outputs": [
    {
     "data": {
      "text/html": [
       "<div>\n",
       "<style scoped>\n",
       "    .dataframe tbody tr th:only-of-type {\n",
       "        vertical-align: middle;\n",
       "    }\n",
       "\n",
       "    .dataframe tbody tr th {\n",
       "        vertical-align: top;\n",
       "    }\n",
       "\n",
       "    .dataframe thead th {\n",
       "        text-align: right;\n",
       "    }\n",
       "</style>\n",
       "<table border=\"1\" class=\"dataframe\">\n",
       "  <thead>\n",
       "    <tr style=\"text-align: right;\">\n",
       "      <th></th>\n",
       "      <th>books</th>\n",
       "      <th>in_store</th>\n",
       "      <th>placement</th>\n",
       "      <th>price</th>\n",
       "    </tr>\n",
       "  </thead>\n",
       "  <tbody>\n",
       "    <tr>\n",
       "      <th>0</th>\n",
       "      <td>Чапаев и Пустота</td>\n",
       "      <td>В наличии</td>\n",
       "      <td>Расположение в торговом зале: Уровень 2, зал №...</td>\n",
       "      <td>Цена: 339,00 руб.</td>\n",
       "    </tr>\n",
       "    <tr>\n",
       "      <th>1</th>\n",
       "      <td>Бэтман Аполло</td>\n",
       "      <td>В наличии</td>\n",
       "      <td>Расположение в торговом зале: Уровень 2, зал №...</td>\n",
       "      <td>Цена: 279,00 руб.</td>\n",
       "    </tr>\n",
       "    <tr>\n",
       "      <th>2</th>\n",
       "      <td>Священная книга оборотня</td>\n",
       "      <td>В наличии</td>\n",
       "      <td>Расположение в торговом зале: Уровень 2, зал №...</td>\n",
       "      <td>Цена: 229,00 руб.</td>\n",
       "    </tr>\n",
       "    <tr>\n",
       "      <th>3</th>\n",
       "      <td>Бубен Верхнего Мира</td>\n",
       "      <td>В наличии</td>\n",
       "      <td>Расположение в торговом зале: Уровень 2, зал №...</td>\n",
       "      <td>Цена: 259,00 руб.</td>\n",
       "    </tr>\n",
       "    <tr>\n",
       "      <th>4</th>\n",
       "      <td>Чапаев и Пустота</td>\n",
       "      <td>В наличии</td>\n",
       "      <td>Расположение в торговом зале: Уровень 2, зал №...</td>\n",
       "      <td>Цена: 639,00 руб.</td>\n",
       "    </tr>\n",
       "  </tbody>\n",
       "</table>\n",
       "</div>"
      ],
      "text/plain": [
       "                      books   in_store  \\\n",
       "0          Чапаев и Пустота  В наличии   \n",
       "1             Бэтман Аполло  В наличии   \n",
       "2  Священная книга оборотня  В наличии   \n",
       "3       Бубен Верхнего Мира  В наличии   \n",
       "4          Чапаев и Пустота  В наличии   \n",
       "\n",
       "                                           placement              price  \n",
       "0  Расположение в торговом зале: Уровень 2, зал №...  Цена: 339,00 руб.  \n",
       "1  Расположение в торговом зале: Уровень 2, зал №...  Цена: 279,00 руб.  \n",
       "2  Расположение в торговом зале: Уровень 2, зал №...  Цена: 229,00 руб.  \n",
       "3  Расположение в торговом зале: Уровень 2, зал №...  Цена: 259,00 руб.  \n",
       "4  Расположение в торговом зале: Уровень 2, зал №...  Цена: 639,00 руб.  "
      ]
     },
     "execution_count": 52,
     "metadata": {},
     "output_type": "execute_result"
    }
   ],
   "source": [
    "df.head()"
   ]
  },
  {
   "cell_type": "markdown",
   "metadata": {},
   "source": [
    "Давайте приведем столбец с ценой к числовому типу. Уберем слова *Цена* и *руб*, а потом сконвертируем строки в числа с плавающей точкой. Напишем функцию `get_price()`,"
   ]
  },
  {
   "cell_type": "code",
   "execution_count": 53,
   "metadata": {},
   "outputs": [],
   "source": [
    "def get_price(price):\n",
    "    book_price = price.split(' ')[1] # разобьем строку по пробелу и возьмем второй элемент\n",
    "    book_price = book_price.replace(',', '.') # заменим запятую на точку\n",
    "    price_num = float(book_price) # сконвертируем в float\n",
    "    return price_num"
   ]
  },
  {
   "cell_type": "code",
   "execution_count": 54,
   "metadata": {},
   "outputs": [
    {
     "data": {
      "text/plain": [
       "339.0"
      ]
     },
     "execution_count": 54,
     "metadata": {},
     "output_type": "execute_result"
    }
   ],
   "source": [
    "# проверка\n",
    "get_price(df.price[0])"
   ]
  },
  {
   "cell_type": "markdown",
   "metadata": {},
   "source": [
    "Всё отлично работает! Применим функцию к столбцу *price* и создадим новый столбец *nprice*."
   ]
  },
  {
   "cell_type": "code",
   "execution_count": 55,
   "metadata": {},
   "outputs": [],
   "source": [
    "df['nprice'] = df.price.apply(get_price)"
   ]
  },
  {
   "cell_type": "code",
   "execution_count": 56,
   "metadata": {},
   "outputs": [
    {
     "data": {
      "text/html": [
       "<div>\n",
       "<style scoped>\n",
       "    .dataframe tbody tr th:only-of-type {\n",
       "        vertical-align: middle;\n",
       "    }\n",
       "\n",
       "    .dataframe tbody tr th {\n",
       "        vertical-align: top;\n",
       "    }\n",
       "\n",
       "    .dataframe thead th {\n",
       "        text-align: right;\n",
       "    }\n",
       "</style>\n",
       "<table border=\"1\" class=\"dataframe\">\n",
       "  <thead>\n",
       "    <tr style=\"text-align: right;\">\n",
       "      <th></th>\n",
       "      <th>books</th>\n",
       "      <th>in_store</th>\n",
       "      <th>placement</th>\n",
       "      <th>price</th>\n",
       "      <th>nprice</th>\n",
       "    </tr>\n",
       "  </thead>\n",
       "  <tbody>\n",
       "    <tr>\n",
       "      <th>0</th>\n",
       "      <td>Чапаев и Пустота</td>\n",
       "      <td>В наличии</td>\n",
       "      <td>Расположение в торговом зале: Уровень 2, зал №...</td>\n",
       "      <td>Цена: 339,00 руб.</td>\n",
       "      <td>339.0</td>\n",
       "    </tr>\n",
       "    <tr>\n",
       "      <th>1</th>\n",
       "      <td>Бэтман Аполло</td>\n",
       "      <td>В наличии</td>\n",
       "      <td>Расположение в торговом зале: Уровень 2, зал №...</td>\n",
       "      <td>Цена: 279,00 руб.</td>\n",
       "      <td>279.0</td>\n",
       "    </tr>\n",
       "    <tr>\n",
       "      <th>2</th>\n",
       "      <td>Священная книга оборотня</td>\n",
       "      <td>В наличии</td>\n",
       "      <td>Расположение в торговом зале: Уровень 2, зал №...</td>\n",
       "      <td>Цена: 229,00 руб.</td>\n",
       "      <td>229.0</td>\n",
       "    </tr>\n",
       "    <tr>\n",
       "      <th>3</th>\n",
       "      <td>Бубен Верхнего Мира</td>\n",
       "      <td>В наличии</td>\n",
       "      <td>Расположение в торговом зале: Уровень 2, зал №...</td>\n",
       "      <td>Цена: 259,00 руб.</td>\n",
       "      <td>259.0</td>\n",
       "    </tr>\n",
       "    <tr>\n",
       "      <th>4</th>\n",
       "      <td>Чапаев и Пустота</td>\n",
       "      <td>В наличии</td>\n",
       "      <td>Расположение в торговом зале: Уровень 2, зал №...</td>\n",
       "      <td>Цена: 639,00 руб.</td>\n",
       "      <td>639.0</td>\n",
       "    </tr>\n",
       "  </tbody>\n",
       "</table>\n",
       "</div>"
      ],
      "text/plain": [
       "                      books   in_store  \\\n",
       "0          Чапаев и Пустота  В наличии   \n",
       "1             Бэтман Аполло  В наличии   \n",
       "2  Священная книга оборотня  В наличии   \n",
       "3       Бубен Верхнего Мира  В наличии   \n",
       "4          Чапаев и Пустота  В наличии   \n",
       "\n",
       "                                           placement              price  \\\n",
       "0  Расположение в торговом зале: Уровень 2, зал №...  Цена: 339,00 руб.   \n",
       "1  Расположение в торговом зале: Уровень 2, зал №...  Цена: 279,00 руб.   \n",
       "2  Расположение в торговом зале: Уровень 2, зал №...  Цена: 229,00 руб.   \n",
       "3  Расположение в торговом зале: Уровень 2, зал №...  Цена: 259,00 руб.   \n",
       "4  Расположение в торговом зале: Уровень 2, зал №...  Цена: 639,00 руб.   \n",
       "\n",
       "   nprice  \n",
       "0   339.0  \n",
       "1   279.0  \n",
       "2   229.0  \n",
       "3   259.0  \n",
       "4   639.0  "
      ]
     },
     "execution_count": 56,
     "metadata": {},
     "output_type": "execute_result"
    }
   ],
   "source": [
    "df.head()"
   ]
  },
  {
   "cell_type": "markdown",
   "metadata": {},
   "source": [
    "Теперь можем расположить книги по цене в порядке возрастания:"
   ]
  },
  {
   "cell_type": "code",
   "execution_count": 66,
   "metadata": {},
   "outputs": [
    {
     "data": {
      "text/html": [
       "<div>\n",
       "<style scoped>\n",
       "    .dataframe tbody tr th:only-of-type {\n",
       "        vertical-align: middle;\n",
       "    }\n",
       "\n",
       "    .dataframe tbody tr th {\n",
       "        vertical-align: top;\n",
       "    }\n",
       "\n",
       "    .dataframe thead th {\n",
       "        text-align: right;\n",
       "    }\n",
       "</style>\n",
       "<table border=\"1\" class=\"dataframe\">\n",
       "  <thead>\n",
       "    <tr style=\"text-align: right;\">\n",
       "      <th></th>\n",
       "      <th>books</th>\n",
       "      <th>in_store</th>\n",
       "      <th>placement</th>\n",
       "      <th>price</th>\n",
       "      <th>nprice</th>\n",
       "    </tr>\n",
       "  </thead>\n",
       "  <tbody>\n",
       "    <tr>\n",
       "      <th>14</th>\n",
       "      <td>Жизнь насекомых</td>\n",
       "      <td>В наличии</td>\n",
       "      <td>Расположение в торговом зале: Уровень 2, зал №...</td>\n",
       "      <td>Цена: 199,00 руб.</td>\n",
       "      <td>199.0</td>\n",
       "    </tr>\n",
       "    <tr>\n",
       "      <th>2</th>\n",
       "      <td>Священная книга оборотня</td>\n",
       "      <td>В наличии</td>\n",
       "      <td>Расположение в торговом зале: Уровень 2, зал №...</td>\n",
       "      <td>Цена: 229,00 руб.</td>\n",
       "      <td>229.0</td>\n",
       "    </tr>\n",
       "    <tr>\n",
       "      <th>15</th>\n",
       "      <td>Empire V</td>\n",
       "      <td>В наличии</td>\n",
       "      <td>Расположение в торговом зале: Уровень 2, зал №...</td>\n",
       "      <td>Цена: 229,00 руб.</td>\n",
       "      <td>229.0</td>\n",
       "    </tr>\n",
       "    <tr>\n",
       "      <th>3</th>\n",
       "      <td>Бубен Верхнего Мира</td>\n",
       "      <td>В наличии</td>\n",
       "      <td>Расположение в торговом зале: Уровень 2, зал №...</td>\n",
       "      <td>Цена: 259,00 руб.</td>\n",
       "      <td>259.0</td>\n",
       "    </tr>\n",
       "    <tr>\n",
       "      <th>1</th>\n",
       "      <td>Бэтман Аполло</td>\n",
       "      <td>В наличии</td>\n",
       "      <td>Расположение в торговом зале: Уровень 2, зал №...</td>\n",
       "      <td>Цена: 279,00 руб.</td>\n",
       "      <td>279.0</td>\n",
       "    </tr>\n",
       "    <tr>\n",
       "      <th>5</th>\n",
       "      <td>S.N.U.F.F.</td>\n",
       "      <td>В наличии</td>\n",
       "      <td>Расположение в торговом зале: Уровень 2, зал №...</td>\n",
       "      <td>Цена: 299,00 руб.</td>\n",
       "      <td>299.0</td>\n",
       "    </tr>\n",
       "    <tr>\n",
       "      <th>6</th>\n",
       "      <td>Empire \"V\"</td>\n",
       "      <td>В наличии</td>\n",
       "      <td>Расположение в торговом зале: Уровень 2, зал №...</td>\n",
       "      <td>Цена: 299,00 руб.</td>\n",
       "      <td>299.0</td>\n",
       "    </tr>\n",
       "    <tr>\n",
       "      <th>0</th>\n",
       "      <td>Чапаев и Пустота</td>\n",
       "      <td>В наличии</td>\n",
       "      <td>Расположение в торговом зале: Уровень 2, зал №...</td>\n",
       "      <td>Цена: 339,00 руб.</td>\n",
       "      <td>339.0</td>\n",
       "    </tr>\n",
       "    <tr>\n",
       "      <th>13</th>\n",
       "      <td>Empire \"V\"</td>\n",
       "      <td>В наличии</td>\n",
       "      <td>Расположение в торговом зале: Уровень 2, зал №...</td>\n",
       "      <td>Цена: 339,00 руб.</td>\n",
       "      <td>339.0</td>\n",
       "    </tr>\n",
       "    <tr>\n",
       "      <th>11</th>\n",
       "      <td>T</td>\n",
       "      <td>В наличии</td>\n",
       "      <td>Расположение в торговом зале: Уровень 2, зал №...</td>\n",
       "      <td>Цена: 339,00 руб.</td>\n",
       "      <td>339.0</td>\n",
       "    </tr>\n",
       "    <tr>\n",
       "      <th>19</th>\n",
       "      <td>Смотритель. Книга 1. Орден желтого флага</td>\n",
       "      <td>В наличии</td>\n",
       "      <td>Расположение в торговом зале: Уровень 2, зал №...</td>\n",
       "      <td>Цена: 339,00 руб.</td>\n",
       "      <td>339.0</td>\n",
       "    </tr>\n",
       "    <tr>\n",
       "      <th>10</th>\n",
       "      <td>Лампа Мафусаила, или Крайняя битва чекистов с ...</td>\n",
       "      <td>В наличии</td>\n",
       "      <td>Расположение в торговом зале: Уровень 2, зал №...</td>\n",
       "      <td>Цена: 339,00 руб.</td>\n",
       "      <td>339.0</td>\n",
       "    </tr>\n",
       "    <tr>\n",
       "      <th>18</th>\n",
       "      <td>Лампа Мафусаила, или Крайняя битва чекистов с ...</td>\n",
       "      <td>В наличии</td>\n",
       "      <td>Расположение в торговом зале: Уровень 2, зал №...</td>\n",
       "      <td>Цена: 349,00 руб.</td>\n",
       "      <td>349.0</td>\n",
       "    </tr>\n",
       "    <tr>\n",
       "      <th>8</th>\n",
       "      <td>Смотритель. В 2 т. Т. 2 : Железная бездна</td>\n",
       "      <td>В наличии</td>\n",
       "      <td>Расположение в торговом зале: Уровень 2, зал №...</td>\n",
       "      <td>Цена: 549,00 руб.</td>\n",
       "      <td>549.0</td>\n",
       "    </tr>\n",
       "    <tr>\n",
       "      <th>7</th>\n",
       "      <td>Смотритель. Книга 1. Орден желтого флага</td>\n",
       "      <td>В наличии</td>\n",
       "      <td>Расположение в торговом зале: Уровень 2, зал №...</td>\n",
       "      <td>Цена: 549,00 руб.</td>\n",
       "      <td>549.0</td>\n",
       "    </tr>\n",
       "    <tr>\n",
       "      <th>17</th>\n",
       "      <td>Generation «П»</td>\n",
       "      <td>В наличии</td>\n",
       "      <td>Расположение в торговом зале: Уровень 2, зал №...</td>\n",
       "      <td>Цена: 549,00 руб.</td>\n",
       "      <td>549.0</td>\n",
       "    </tr>\n",
       "    <tr>\n",
       "      <th>4</th>\n",
       "      <td>Чапаев и Пустота</td>\n",
       "      <td>В наличии</td>\n",
       "      <td>Расположение в торговом зале: Уровень 2, зал №...</td>\n",
       "      <td>Цена: 639,00 руб.</td>\n",
       "      <td>639.0</td>\n",
       "    </tr>\n",
       "    <tr>\n",
       "      <th>16</th>\n",
       "      <td>Generation «П»</td>\n",
       "      <td>В наличии</td>\n",
       "      <td>Расположение в торговом зале: Уровень 2, зал №...</td>\n",
       "      <td>Цена: 709,00 руб.</td>\n",
       "      <td>709.0</td>\n",
       "    </tr>\n",
       "    <tr>\n",
       "      <th>9</th>\n",
       "      <td>iPhuck 10</td>\n",
       "      <td>В наличии</td>\n",
       "      <td>Расположение в торговом зале: Уровень 2, зал №...</td>\n",
       "      <td>Цена: 709,00 руб.</td>\n",
       "      <td>709.0</td>\n",
       "    </tr>\n",
       "    <tr>\n",
       "      <th>12</th>\n",
       "      <td>Лампа Мафусаила, или Крайняя битва чекистов с ...</td>\n",
       "      <td>В наличии</td>\n",
       "      <td>Расположение в торговом зале: Уровень 2, зал №...</td>\n",
       "      <td>Цена: 879,00 руб.</td>\n",
       "      <td>879.0</td>\n",
       "    </tr>\n",
       "  </tbody>\n",
       "</table>\n",
       "</div>"
      ],
      "text/plain": [
       "                                                books   in_store  \\\n",
       "14                                    Жизнь насекомых  В наличии   \n",
       "2                            Священная книга оборотня  В наличии   \n",
       "15                                           Empire V  В наличии   \n",
       "3                                 Бубен Верхнего Мира  В наличии   \n",
       "1                                       Бэтман Аполло  В наличии   \n",
       "5                                          S.N.U.F.F.  В наличии   \n",
       "6                                          Empire \"V\"  В наличии   \n",
       "0                                    Чапаев и Пустота  В наличии   \n",
       "13                                         Empire \"V\"  В наличии   \n",
       "11                                                  T  В наличии   \n",
       "19           Смотритель. Книга 1. Орден желтого флага  В наличии   \n",
       "10  Лампа Мафусаила, или Крайняя битва чекистов с ...  В наличии   \n",
       "18  Лампа Мафусаила, или Крайняя битва чекистов с ...  В наличии   \n",
       "8           Смотритель. В 2 т. Т. 2 : Железная бездна  В наличии   \n",
       "7            Смотритель. Книга 1. Орден желтого флага  В наличии   \n",
       "17                                     Generation «П»  В наличии   \n",
       "4                                    Чапаев и Пустота  В наличии   \n",
       "16                                     Generation «П»  В наличии   \n",
       "9                                           iPhuck 10  В наличии   \n",
       "12  Лампа Мафусаила, или Крайняя битва чекистов с ...  В наличии   \n",
       "\n",
       "                                            placement              price  \\\n",
       "14  Расположение в торговом зале: Уровень 2, зал №...  Цена: 199,00 руб.   \n",
       "2   Расположение в торговом зале: Уровень 2, зал №...  Цена: 229,00 руб.   \n",
       "15  Расположение в торговом зале: Уровень 2, зал №...  Цена: 229,00 руб.   \n",
       "3   Расположение в торговом зале: Уровень 2, зал №...  Цена: 259,00 руб.   \n",
       "1   Расположение в торговом зале: Уровень 2, зал №...  Цена: 279,00 руб.   \n",
       "5   Расположение в торговом зале: Уровень 2, зал №...  Цена: 299,00 руб.   \n",
       "6   Расположение в торговом зале: Уровень 2, зал №...  Цена: 299,00 руб.   \n",
       "0   Расположение в торговом зале: Уровень 2, зал №...  Цена: 339,00 руб.   \n",
       "13  Расположение в торговом зале: Уровень 2, зал №...  Цена: 339,00 руб.   \n",
       "11  Расположение в торговом зале: Уровень 2, зал №...  Цена: 339,00 руб.   \n",
       "19  Расположение в торговом зале: Уровень 2, зал №...  Цена: 339,00 руб.   \n",
       "10  Расположение в торговом зале: Уровень 2, зал №...  Цена: 339,00 руб.   \n",
       "18  Расположение в торговом зале: Уровень 2, зал №...  Цена: 349,00 руб.   \n",
       "8   Расположение в торговом зале: Уровень 2, зал №...  Цена: 549,00 руб.   \n",
       "7   Расположение в торговом зале: Уровень 2, зал №...  Цена: 549,00 руб.   \n",
       "17  Расположение в торговом зале: Уровень 2, зал №...  Цена: 549,00 руб.   \n",
       "4   Расположение в торговом зале: Уровень 2, зал №...  Цена: 639,00 руб.   \n",
       "16  Расположение в торговом зале: Уровень 2, зал №...  Цена: 709,00 руб.   \n",
       "9   Расположение в торговом зале: Уровень 2, зал №...  Цена: 709,00 руб.   \n",
       "12  Расположение в торговом зале: Уровень 2, зал №...  Цена: 879,00 руб.   \n",
       "\n",
       "    nprice  \n",
       "14   199.0  \n",
       "2    229.0  \n",
       "15   229.0  \n",
       "3    259.0  \n",
       "1    279.0  \n",
       "5    299.0  \n",
       "6    299.0  \n",
       "0    339.0  \n",
       "13   339.0  \n",
       "11   339.0  \n",
       "19   339.0  \n",
       "10   339.0  \n",
       "18   349.0  \n",
       "8    549.0  \n",
       "7    549.0  \n",
       "17   549.0  \n",
       "4    639.0  \n",
       "16   709.0  \n",
       "9    709.0  \n",
       "12   879.0  "
      ]
     },
     "execution_count": 66,
     "metadata": {},
     "output_type": "execute_result"
    }
   ],
   "source": [
    "df.sort_values('nprice')"
   ]
  },
  {
   "cell_type": "markdown",
   "metadata": {},
   "source": [
    "Выберем какую-нибудь книгу:"
   ]
  },
  {
   "cell_type": "code",
   "execution_count": 72,
   "metadata": {},
   "outputs": [
    {
     "data": {
      "text/html": [
       "<div>\n",
       "<style scoped>\n",
       "    .dataframe tbody tr th:only-of-type {\n",
       "        vertical-align: middle;\n",
       "    }\n",
       "\n",
       "    .dataframe tbody tr th {\n",
       "        vertical-align: top;\n",
       "    }\n",
       "\n",
       "    .dataframe thead th {\n",
       "        text-align: right;\n",
       "    }\n",
       "</style>\n",
       "<table border=\"1\" class=\"dataframe\">\n",
       "  <thead>\n",
       "    <tr style=\"text-align: right;\">\n",
       "      <th></th>\n",
       "      <th>books</th>\n",
       "      <th>in_store</th>\n",
       "      <th>placement</th>\n",
       "      <th>price</th>\n",
       "      <th>nprice</th>\n",
       "    </tr>\n",
       "  </thead>\n",
       "  <tbody>\n",
       "    <tr>\n",
       "      <th>16</th>\n",
       "      <td>Generation «П»</td>\n",
       "      <td>В наличии</td>\n",
       "      <td>Расположение в торговом зале: Уровень 2, зал №...</td>\n",
       "      <td>Цена: 709,00 руб.</td>\n",
       "      <td>709.0</td>\n",
       "    </tr>\n",
       "    <tr>\n",
       "      <th>17</th>\n",
       "      <td>Generation «П»</td>\n",
       "      <td>В наличии</td>\n",
       "      <td>Расположение в торговом зале: Уровень 2, зал №...</td>\n",
       "      <td>Цена: 549,00 руб.</td>\n",
       "      <td>549.0</td>\n",
       "    </tr>\n",
       "  </tbody>\n",
       "</table>\n",
       "</div>"
      ],
      "text/plain": [
       "             books   in_store  \\\n",
       "16  Generation «П»  В наличии   \n",
       "17  Generation «П»  В наличии   \n",
       "\n",
       "                                            placement              price  \\\n",
       "16  Расположение в торговом зале: Уровень 2, зал №...  Цена: 709,00 руб.   \n",
       "17  Расположение в торговом зале: Уровень 2, зал №...  Цена: 549,00 руб.   \n",
       "\n",
       "    nprice  \n",
       "16   709.0  \n",
       "17   549.0  "
      ]
     },
     "execution_count": 72,
     "metadata": {},
     "output_type": "execute_result"
    }
   ],
   "source": [
    "df[df.books == \"Generation «П»\"]"
   ]
  },
  {
   "cell_type": "markdown",
   "metadata": {},
   "source": [
    "И сохраним всю таблицу в csv-файл:"
   ]
  },
  {
   "cell_type": "code",
   "execution_count": 73,
   "metadata": {},
   "outputs": [],
   "source": [
    "df.to_csv(\"books.csv\")"
   ]
  }
 ],
 "metadata": {
  "kernelspec": {
   "display_name": "Python 3",
   "language": "python",
   "name": "python3"
  },
  "language_info": {
   "codemirror_mode": {
    "name": "ipython",
    "version": 3
   },
   "file_extension": ".py",
   "mimetype": "text/x-python",
   "name": "python",
   "nbconvert_exporter": "python",
   "pygments_lexer": "ipython3",
   "version": "3.5.2"
  }
 },
 "nbformat": 4,
 "nbformat_minor": 2
}
