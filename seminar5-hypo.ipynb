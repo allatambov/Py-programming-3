{
 "cells": [
  {
   "cell_type": "markdown",
   "metadata": {},
   "source": [
    "### Семинар 5: проверка статистических гипотез"
   ]
  },
  {
   "cell_type": "markdown",
   "metadata": {},
   "source": [
    "Загрузим таблицу с оценками студентов по разным курсам из csv-файла по ссылке (ФИО студентов зашифрованы):"
   ]
  },
  {
   "cell_type": "code",
   "execution_count": 1,
   "metadata": {},
   "outputs": [],
   "source": [
    "import pandas as pd"
   ]
  },
  {
   "cell_type": "code",
   "execution_count": 2,
   "metadata": {},
   "outputs": [],
   "source": [
    "df = pd.read_csv(\"http://math-info.hse.ru/f/2017-18/py-prog/scores2.csv\")"
   ]
  },
  {
   "cell_type": "markdown",
   "metadata": {},
   "source": [
    "Посмотрим на нее:"
   ]
  },
  {
   "cell_type": "code",
   "execution_count": null,
   "metadata": {},
   "outputs": [],
   "source": [
    "df"
   ]
  },
  {
   "cell_type": "markdown",
   "metadata": {},
   "source": [
    "Удалим строки с пропущенными значениями:"
   ]
  },
  {
   "cell_type": "code",
   "execution_count": 3,
   "metadata": {},
   "outputs": [],
   "source": [
    "df = df.dropna()"
   ]
  },
  {
   "cell_type": "markdown",
   "metadata": {},
   "source": [
    "Выведем общую информацию по датафрейму:"
   ]
  },
  {
   "cell_type": "code",
   "execution_count": 4,
   "metadata": {},
   "outputs": [
    {
     "name": "stdout",
     "output_type": "stream",
     "text": [
      "<class 'pandas.core.frame.DataFrame'>\n",
      "Int64Index: 54 entries, 0 to 57\n",
      "Data columns (total 18 columns):\n",
      "id        54 non-null object\n",
      "catps     54 non-null int64\n",
      "mstat     54 non-null int64\n",
      "soc       54 non-null int64\n",
      "econ      54 non-null int64\n",
      "eng       54 non-null int64\n",
      "polth     54 non-null int64\n",
      "mstat2    54 non-null int64\n",
      "phist     54 non-null float64\n",
      "law       54 non-null int64\n",
      "phil      54 non-null int64\n",
      "polsoc    54 non-null int64\n",
      "ptheo     54 non-null float64\n",
      "preg      54 non-null int64\n",
      "compp     54 non-null float64\n",
      "game      54 non-null int64\n",
      "wpol      54 non-null int64\n",
      "male      54 non-null int64\n",
      "dtypes: float64(3), int64(14), object(1)\n",
      "memory usage: 8.0+ KB\n"
     ]
    }
   ],
   "source": [
    "df.info()"
   ]
  },
  {
   "cell_type": "markdown",
   "metadata": {},
   "source": [
    "Выведем описательные статистики по всем количественным показателям в датафрейме:"
   ]
  },
  {
   "cell_type": "code",
   "execution_count": 5,
   "metadata": {},
   "outputs": [
    {
     "data": {
      "text/html": [
       "<div>\n",
       "<style scoped>\n",
       "    .dataframe tbody tr th:only-of-type {\n",
       "        vertical-align: middle;\n",
       "    }\n",
       "\n",
       "    .dataframe tbody tr th {\n",
       "        vertical-align: top;\n",
       "    }\n",
       "\n",
       "    .dataframe thead th {\n",
       "        text-align: right;\n",
       "    }\n",
       "</style>\n",
       "<table border=\"1\" class=\"dataframe\">\n",
       "  <thead>\n",
       "    <tr style=\"text-align: right;\">\n",
       "      <th></th>\n",
       "      <th>catps</th>\n",
       "      <th>mstat</th>\n",
       "      <th>soc</th>\n",
       "      <th>econ</th>\n",
       "      <th>eng</th>\n",
       "      <th>polth</th>\n",
       "      <th>mstat2</th>\n",
       "      <th>phist</th>\n",
       "      <th>law</th>\n",
       "      <th>phil</th>\n",
       "      <th>polsoc</th>\n",
       "      <th>ptheo</th>\n",
       "      <th>preg</th>\n",
       "      <th>compp</th>\n",
       "      <th>game</th>\n",
       "      <th>wpol</th>\n",
       "      <th>male</th>\n",
       "    </tr>\n",
       "  </thead>\n",
       "  <tbody>\n",
       "    <tr>\n",
       "      <th>count</th>\n",
       "      <td>54.000000</td>\n",
       "      <td>54.000000</td>\n",
       "      <td>54.000000</td>\n",
       "      <td>54.000000</td>\n",
       "      <td>54.000000</td>\n",
       "      <td>54.000000</td>\n",
       "      <td>54.000000</td>\n",
       "      <td>54.000000</td>\n",
       "      <td>54.000000</td>\n",
       "      <td>54.000000</td>\n",
       "      <td>54.000000</td>\n",
       "      <td>54.000000</td>\n",
       "      <td>54.000000</td>\n",
       "      <td>54.000000</td>\n",
       "      <td>54.000000</td>\n",
       "      <td>54.000000</td>\n",
       "      <td>54.000000</td>\n",
       "    </tr>\n",
       "    <tr>\n",
       "      <th>mean</th>\n",
       "      <td>6.814815</td>\n",
       "      <td>7.592593</td>\n",
       "      <td>7.240741</td>\n",
       "      <td>6.259259</td>\n",
       "      <td>8.388889</td>\n",
       "      <td>6.722222</td>\n",
       "      <td>7.148148</td>\n",
       "      <td>5.833333</td>\n",
       "      <td>6.962963</td>\n",
       "      <td>6.074074</td>\n",
       "      <td>7.370370</td>\n",
       "      <td>5.685185</td>\n",
       "      <td>6.814815</td>\n",
       "      <td>5.648148</td>\n",
       "      <td>6.370370</td>\n",
       "      <td>7.722222</td>\n",
       "      <td>0.425926</td>\n",
       "    </tr>\n",
       "    <tr>\n",
       "      <th>std</th>\n",
       "      <td>1.388281</td>\n",
       "      <td>1.498660</td>\n",
       "      <td>1.114826</td>\n",
       "      <td>1.717668</td>\n",
       "      <td>0.959887</td>\n",
       "      <td>1.630102</td>\n",
       "      <td>1.686880</td>\n",
       "      <td>1.610695</td>\n",
       "      <td>1.164943</td>\n",
       "      <td>1.861749</td>\n",
       "      <td>1.431404</td>\n",
       "      <td>1.411864</td>\n",
       "      <td>1.332809</td>\n",
       "      <td>1.389413</td>\n",
       "      <td>1.804568</td>\n",
       "      <td>1.351682</td>\n",
       "      <td>0.499126</td>\n",
       "    </tr>\n",
       "    <tr>\n",
       "      <th>min</th>\n",
       "      <td>5.000000</td>\n",
       "      <td>5.000000</td>\n",
       "      <td>5.000000</td>\n",
       "      <td>4.000000</td>\n",
       "      <td>6.000000</td>\n",
       "      <td>4.000000</td>\n",
       "      <td>4.000000</td>\n",
       "      <td>4.000000</td>\n",
       "      <td>5.000000</td>\n",
       "      <td>4.000000</td>\n",
       "      <td>4.000000</td>\n",
       "      <td>4.000000</td>\n",
       "      <td>4.000000</td>\n",
       "      <td>4.000000</td>\n",
       "      <td>4.000000</td>\n",
       "      <td>4.000000</td>\n",
       "      <td>0.000000</td>\n",
       "    </tr>\n",
       "    <tr>\n",
       "      <th>25%</th>\n",
       "      <td>6.000000</td>\n",
       "      <td>6.250000</td>\n",
       "      <td>6.000000</td>\n",
       "      <td>5.000000</td>\n",
       "      <td>8.000000</td>\n",
       "      <td>6.000000</td>\n",
       "      <td>6.000000</td>\n",
       "      <td>4.000000</td>\n",
       "      <td>6.000000</td>\n",
       "      <td>5.000000</td>\n",
       "      <td>6.000000</td>\n",
       "      <td>5.000000</td>\n",
       "      <td>6.000000</td>\n",
       "      <td>5.000000</td>\n",
       "      <td>5.000000</td>\n",
       "      <td>7.000000</td>\n",
       "      <td>0.000000</td>\n",
       "    </tr>\n",
       "    <tr>\n",
       "      <th>50%</th>\n",
       "      <td>7.000000</td>\n",
       "      <td>7.500000</td>\n",
       "      <td>7.000000</td>\n",
       "      <td>6.000000</td>\n",
       "      <td>8.500000</td>\n",
       "      <td>6.000000</td>\n",
       "      <td>7.000000</td>\n",
       "      <td>6.000000</td>\n",
       "      <td>7.000000</td>\n",
       "      <td>6.000000</td>\n",
       "      <td>8.000000</td>\n",
       "      <td>5.000000</td>\n",
       "      <td>7.000000</td>\n",
       "      <td>5.000000</td>\n",
       "      <td>6.000000</td>\n",
       "      <td>8.000000</td>\n",
       "      <td>0.000000</td>\n",
       "    </tr>\n",
       "    <tr>\n",
       "      <th>75%</th>\n",
       "      <td>7.750000</td>\n",
       "      <td>9.000000</td>\n",
       "      <td>8.000000</td>\n",
       "      <td>7.000000</td>\n",
       "      <td>9.000000</td>\n",
       "      <td>8.000000</td>\n",
       "      <td>8.750000</td>\n",
       "      <td>7.000000</td>\n",
       "      <td>8.000000</td>\n",
       "      <td>7.000000</td>\n",
       "      <td>8.000000</td>\n",
       "      <td>6.750000</td>\n",
       "      <td>8.000000</td>\n",
       "      <td>6.750000</td>\n",
       "      <td>8.000000</td>\n",
       "      <td>9.000000</td>\n",
       "      <td>1.000000</td>\n",
       "    </tr>\n",
       "    <tr>\n",
       "      <th>max</th>\n",
       "      <td>10.000000</td>\n",
       "      <td>10.000000</td>\n",
       "      <td>10.000000</td>\n",
       "      <td>10.000000</td>\n",
       "      <td>10.000000</td>\n",
       "      <td>10.000000</td>\n",
       "      <td>10.000000</td>\n",
       "      <td>9.000000</td>\n",
       "      <td>9.000000</td>\n",
       "      <td>10.000000</td>\n",
       "      <td>10.000000</td>\n",
       "      <td>9.000000</td>\n",
       "      <td>8.000000</td>\n",
       "      <td>8.000000</td>\n",
       "      <td>10.000000</td>\n",
       "      <td>10.000000</td>\n",
       "      <td>1.000000</td>\n",
       "    </tr>\n",
       "  </tbody>\n",
       "</table>\n",
       "</div>"
      ],
      "text/plain": [
       "           catps      mstat        soc       econ        eng      polth  \\\n",
       "count  54.000000  54.000000  54.000000  54.000000  54.000000  54.000000   \n",
       "mean    6.814815   7.592593   7.240741   6.259259   8.388889   6.722222   \n",
       "std     1.388281   1.498660   1.114826   1.717668   0.959887   1.630102   \n",
       "min     5.000000   5.000000   5.000000   4.000000   6.000000   4.000000   \n",
       "25%     6.000000   6.250000   6.000000   5.000000   8.000000   6.000000   \n",
       "50%     7.000000   7.500000   7.000000   6.000000   8.500000   6.000000   \n",
       "75%     7.750000   9.000000   8.000000   7.000000   9.000000   8.000000   \n",
       "max    10.000000  10.000000  10.000000  10.000000  10.000000  10.000000   \n",
       "\n",
       "          mstat2      phist        law       phil     polsoc      ptheo  \\\n",
       "count  54.000000  54.000000  54.000000  54.000000  54.000000  54.000000   \n",
       "mean    7.148148   5.833333   6.962963   6.074074   7.370370   5.685185   \n",
       "std     1.686880   1.610695   1.164943   1.861749   1.431404   1.411864   \n",
       "min     4.000000   4.000000   5.000000   4.000000   4.000000   4.000000   \n",
       "25%     6.000000   4.000000   6.000000   5.000000   6.000000   5.000000   \n",
       "50%     7.000000   6.000000   7.000000   6.000000   8.000000   5.000000   \n",
       "75%     8.750000   7.000000   8.000000   7.000000   8.000000   6.750000   \n",
       "max    10.000000   9.000000   9.000000  10.000000  10.000000   9.000000   \n",
       "\n",
       "            preg      compp       game       wpol       male  \n",
       "count  54.000000  54.000000  54.000000  54.000000  54.000000  \n",
       "mean    6.814815   5.648148   6.370370   7.722222   0.425926  \n",
       "std     1.332809   1.389413   1.804568   1.351682   0.499126  \n",
       "min     4.000000   4.000000   4.000000   4.000000   0.000000  \n",
       "25%     6.000000   5.000000   5.000000   7.000000   0.000000  \n",
       "50%     7.000000   5.000000   6.000000   8.000000   0.000000  \n",
       "75%     8.000000   6.750000   8.000000   9.000000   1.000000  \n",
       "max     8.000000   8.000000  10.000000  10.000000   1.000000  "
      ]
     },
     "execution_count": 5,
     "metadata": {},
     "output_type": "execute_result"
    }
   ],
   "source": [
    "df.describe()"
   ]
  },
  {
   "cell_type": "markdown",
   "metadata": {},
   "source": [
    "Попроверяем гипотезы на основе имеющихся данных – воспользуемся библиотекой `scipy`."
   ]
  },
  {
   "cell_type": "code",
   "execution_count": 6,
   "metadata": {},
   "outputs": [],
   "source": [
    "from scipy import stats"
   ]
  },
  {
   "cell_type": "markdown",
   "metadata": {},
   "source": [
    "**Гипотеза о равенстве среднего числу** "
   ]
  },
  {
   "cell_type": "markdown",
   "metadata": {},
   "source": [
    "Проверим гипотезу о равенстве средней оценки студентов по экономике 6 на 5%-ном уровне значимости.\n",
    "\n",
    "$H_0: \\mu_{econ} = 6$. \n",
    "\n",
    "Альтернатива в Python всегда двусторонняя (по умолчанию), то есть:\n",
    "\n",
    "$H_1: \\mu_{econ} \\ne 6$."
   ]
  },
  {
   "cell_type": "markdown",
   "metadata": {},
   "source": [
    "Давайте исходить из предположения, что выборка оценок по экономике взята из нормального распределения. Строго говоря, это не так, потому что шкала оценок – порядковая, и оценки принимают всего 10 значений (по факту, даже меньше, потому что оценки взяты из рейтинга после пересдач и оценок ниже 4 в базе нет). Давайте посмотрим на гистограмму для оценок по экономике: импортируем модуль `pyplot` из библиотеки для графики `matplotlib` и скажем Python выводить графики прямо в файле `.ipynb`, а не в отдельном окне (`% matplotlib inline`:)"
   ]
  },
  {
   "cell_type": "code",
   "execution_count": 7,
   "metadata": {},
   "outputs": [],
   "source": [
    "import matplotlib.pyplot as plt\n",
    "% matplotlib inline"
   ]
  },
  {
   "cell_type": "code",
   "execution_count": 8,
   "metadata": {},
   "outputs": [
    {
     "data": {
      "text/plain": [
       "<matplotlib.axes._subplots.AxesSubplot at 0x115478b38>"
      ]
     },
     "execution_count": 8,
     "metadata": {},
     "output_type": "execute_result"
    },
    {
     "data": {
      "image/png": "[encoded data removed]",
      "text/plain": [
       "<Figure size 432x288 with 1 Axes>"
      ]
     },
     "metadata": {},
     "output_type": "display_data"
    }
   ],
   "source": [
    "# hist - гистограмма\n",
    "df['econ'].plot('hist')"
   ]
  },
  {
   "cell_type": "markdown",
   "metadata": {},
   "source": [
    "Если мы все же предположим, что распределение нормальное (просто выборка маленькая и по ней незаметно), мы сможем использовать критерий Стьюдента для одной выборки (*1-sample t-test*):"
   ]
  },
  {
   "cell_type": "code",
   "execution_count": 9,
   "metadata": {},
   "outputs": [
    {
     "data": {
      "text/plain": [
       "Ttest_1sampResult(statistic=1.1091540214492386, pvalue=0.272371318024516)"
      ]
     },
     "execution_count": 9,
     "metadata": {},
     "output_type": "execute_result"
    }
   ],
   "source": [
    "stats.ttest_1samp(df['econ'], 6) "
   ]
  },
  {
   "cell_type": "markdown",
   "metadata": {},
   "source": [
    "Уровень значимости мы приняли равным 5%, значит, $\\alpha = 0.05$. \n",
    "\n",
    "p-value > $\\alpha$, следовательно, на имеющихся данных на 5% уровне значимости нет оснований отвергнуть нулевую гипотезу в пользу альтернативы (это статистический вывод). Средняя оценка студентов по экономике равна 6 (это содержательный вывод)."
   ]
  },
  {
   "cell_type": "markdown",
   "metadata": {},
   "source": [
    "Если бы мы проверяли гипотезу о равенстве средней оценке по экномике 5, ситуация была бы обратной, и нулевую гипотезу следовало бы отвергнуть:"
   ]
  },
  {
   "cell_type": "code",
   "execution_count": 10,
   "metadata": {},
   "outputs": [
    {
     "data": {
      "text/plain": [
       "Ttest_1sampResult(statistic=5.38731953275344, pvalue=1.674626984992714e-06)"
      ]
     },
     "execution_count": 10,
     "metadata": {},
     "output_type": "execute_result"
    }
   ],
   "source": [
    "stats.ttest_1samp(df['econ'], 5) "
   ]
  },
  {
   "cell_type": "markdown",
   "metadata": {},
   "source": [
    "Значит, разница всего в один балл является существенной для наших данных (несложно угадать, почему, если вспомнить, что 5 баллов – это «удовлетворительно», а 6 баллов – уже «хорошо»)."
   ]
  },
  {
   "cell_type": "markdown",
   "metadata": {},
   "source": [
    "**Гипотеза о равенстве средних**"
   ]
  },
  {
   "cell_type": "markdown",
   "metadata": {},
   "source": [
    "Сравним средние оценки юношей и девушек, сгруппировав строки по показателю `male`:"
   ]
  },
  {
   "cell_type": "code",
   "execution_count": 11,
   "metadata": {},
   "outputs": [
    {
     "data": {
      "text/html": [
       "<div>\n",
       "<style scoped>\n",
       "    .dataframe tbody tr th:only-of-type {\n",
       "        vertical-align: middle;\n",
       "    }\n",
       "\n",
       "    .dataframe tbody tr th {\n",
       "        vertical-align: top;\n",
       "    }\n",
       "\n",
       "    .dataframe thead th {\n",
       "        text-align: right;\n",
       "    }\n",
       "</style>\n",
       "<table border=\"1\" class=\"dataframe\">\n",
       "  <thead>\n",
       "    <tr style=\"text-align: right;\">\n",
       "      <th></th>\n",
       "      <th>catps</th>\n",
       "      <th>mstat</th>\n",
       "      <th>soc</th>\n",
       "      <th>econ</th>\n",
       "      <th>eng</th>\n",
       "      <th>polth</th>\n",
       "      <th>mstat2</th>\n",
       "      <th>phist</th>\n",
       "      <th>law</th>\n",
       "      <th>phil</th>\n",
       "      <th>polsoc</th>\n",
       "      <th>ptheo</th>\n",
       "      <th>preg</th>\n",
       "      <th>compp</th>\n",
       "      <th>game</th>\n",
       "      <th>wpol</th>\n",
       "    </tr>\n",
       "    <tr>\n",
       "      <th>male</th>\n",
       "      <th></th>\n",
       "      <th></th>\n",
       "      <th></th>\n",
       "      <th></th>\n",
       "      <th></th>\n",
       "      <th></th>\n",
       "      <th></th>\n",
       "      <th></th>\n",
       "      <th></th>\n",
       "      <th></th>\n",
       "      <th></th>\n",
       "      <th></th>\n",
       "      <th></th>\n",
       "      <th></th>\n",
       "      <th></th>\n",
       "      <th></th>\n",
       "    </tr>\n",
       "  </thead>\n",
       "  <tbody>\n",
       "    <tr>\n",
       "      <th>0</th>\n",
       "      <td>6.419355</td>\n",
       "      <td>7.354839</td>\n",
       "      <td>7.161290</td>\n",
       "      <td>6.000000</td>\n",
       "      <td>8.387097</td>\n",
       "      <td>6.258065</td>\n",
       "      <td>7.064516</td>\n",
       "      <td>5.451613</td>\n",
       "      <td>6.838710</td>\n",
       "      <td>5.741935</td>\n",
       "      <td>7.064516</td>\n",
       "      <td>5.419355</td>\n",
       "      <td>7.193548</td>\n",
       "      <td>5.548387</td>\n",
       "      <td>6.322581</td>\n",
       "      <td>7.612903</td>\n",
       "    </tr>\n",
       "    <tr>\n",
       "      <th>1</th>\n",
       "      <td>7.347826</td>\n",
       "      <td>7.913043</td>\n",
       "      <td>7.347826</td>\n",
       "      <td>6.608696</td>\n",
       "      <td>8.391304</td>\n",
       "      <td>7.347826</td>\n",
       "      <td>7.260870</td>\n",
       "      <td>6.347826</td>\n",
       "      <td>7.130435</td>\n",
       "      <td>6.521739</td>\n",
       "      <td>7.782609</td>\n",
       "      <td>6.043478</td>\n",
       "      <td>6.304348</td>\n",
       "      <td>5.782609</td>\n",
       "      <td>6.434783</td>\n",
       "      <td>7.869565</td>\n",
       "    </tr>\n",
       "  </tbody>\n",
       "</table>\n",
       "</div>"
      ],
      "text/plain": [
       "         catps     mstat       soc      econ       eng     polth    mstat2  \\\n",
       "male                                                                         \n",
       "0     6.419355  7.354839  7.161290  6.000000  8.387097  6.258065  7.064516   \n",
       "1     7.347826  7.913043  7.347826  6.608696  8.391304  7.347826  7.260870   \n",
       "\n",
       "         phist       law      phil    polsoc     ptheo      preg     compp  \\\n",
       "male                                                                         \n",
       "0     5.451613  6.838710  5.741935  7.064516  5.419355  7.193548  5.548387   \n",
       "1     6.347826  7.130435  6.521739  7.782609  6.043478  6.304348  5.782609   \n",
       "\n",
       "          game      wpol  \n",
       "male                      \n",
       "0     6.322581  7.612903  \n",
       "1     6.434783  7.869565  "
      ]
     },
     "execution_count": 11,
     "metadata": {},
     "output_type": "execute_result"
    }
   ],
   "source": [
    "groups = df.groupby('male')\n",
    "groups.mean()"
   ]
  },
  {
   "cell_type": "markdown",
   "metadata": {},
   "source": [
    "Сохраним оценки по теории игр (`game`), сгруппированные по полу, в переменные `male_game` и `female_game`."
   ]
  },
  {
   "cell_type": "code",
   "execution_count": 12,
   "metadata": {},
   "outputs": [],
   "source": [
    "male_game = df[df['male'] == 1]['game']\n",
    "female_game = df[df['male'] == 0]['game']"
   ]
  },
  {
   "cell_type": "markdown",
   "metadata": {},
   "source": [
    "Проверим на 10%-ном уровне значимости гипотезу о равенстве средних оценок по теории игр у юношей и девушек (опять же в предположении о том, что обе выборки взяты из нормального распределения):\n",
    "\n",
    "$H_0: \\mu_{male} = \\mu_{female}$\n",
    "\n",
    "$H_1: \\mu_{male} \\ne \\mu_{female}$ (альтернативы в Python всегда двусторонние)"
   ]
  },
  {
   "cell_type": "code",
   "execution_count": 13,
   "metadata": {},
   "outputs": [
    {
     "data": {
      "text/plain": [
       "Ttest_indResult(statistic=-0.22389694844949543, pvalue=0.8237148426143586)"
      ]
     },
     "execution_count": 13,
     "metadata": {},
     "output_type": "execute_result"
    }
   ],
   "source": [
    "# ind - потому что две выборки независимы\n",
    "stats.ttest_ind(female_game, male_game)"
   ]
  },
  {
   "cell_type": "markdown",
   "metadata": {},
   "source": [
    "На имеющихся данных, на уровне значимости 10% (и на меньшем) нет оснований отвергнуть нулевую гипотезу. Средние оценки по теории игр у юношей и девушек можно считать равными."
   ]
  },
  {
   "cell_type": "markdown",
   "metadata": {},
   "source": [
    "Проделам то же с оценками по политической истории (`phist`):"
   ]
  },
  {
   "cell_type": "code",
   "execution_count": 14,
   "metadata": {},
   "outputs": [],
   "source": [
    "male_phist = df[df['male'] == 1]['phist']\n",
    "female_phist = df[df['male'] == 0]['phist']"
   ]
  },
  {
   "cell_type": "code",
   "execution_count": 15,
   "metadata": {},
   "outputs": [
    {
     "data": {
      "text/plain": [
       "Ttest_indResult(statistic=-2.0846778601989686, pvalue=0.04202658789268412)"
      ]
     },
     "execution_count": 15,
     "metadata": {},
     "output_type": "execute_result"
    }
   ],
   "source": [
    "stats.ttest_ind(female_phist, male_phist)"
   ]
  },
  {
   "cell_type": "markdown",
   "metadata": {},
   "source": [
    "Тут ситуация уже менее однозначная – все зависит от уровня значимости (подумайте, при каких уровнях значимости нулевая гипотеза будет отвергаться, а при каких – нет)."
   ]
  },
  {
   "cell_type": "markdown",
   "metadata": {},
   "source": [
    "Точно так же можем сравнить оценки по разным курсам (в разных столбцах, например, по разным частям «Математики и статистики»)."
   ]
  },
  {
   "cell_type": "code",
   "execution_count": 16,
   "metadata": {},
   "outputs": [
    {
     "data": {
      "text/plain": [
       "Ttest_indResult(statistic=1.4474034225404007, pvalue=0.15073504510027344)"
      ]
     },
     "execution_count": 16,
     "metadata": {},
     "output_type": "execute_result"
    }
   ],
   "source": [
    "stats.ttest_ind(df.mstat, df.mstat2)"
   ]
  },
  {
   "cell_type": "markdown",
   "metadata": {},
   "source": [
    "**Гипотеза о равенстве нулю коэффициента корреляции**"
   ]
  },
  {
   "cell_type": "markdown",
   "metadata": {},
   "source": [
    "Немного визуализации"
   ]
  },
  {
   "cell_type": "code",
   "execution_count": 17,
   "metadata": {},
   "outputs": [],
   "source": [
    "from pandas.tools import plotting"
   ]
  },
  {
   "cell_type": "markdown",
   "metadata": {},
   "source": [
    "Матрица диаграмм рассеяния для выбранных столбцов (как *scattermatrix* в R):"
   ]
  },
  {
   "cell_type": "code",
   "execution_count": 18,
   "metadata": {},
   "outputs": [
    {
     "name": "stderr",
     "output_type": "stream",
     "text": [
      "/anaconda3/lib/python3.6/site-packages/ipykernel_launcher.py:3: FutureWarning: 'pandas.tools.plotting.scatter_matrix' is deprecated, import 'pandas.plotting.scatter_matrix' instead.\n",
      "  This is separate from the ipykernel package so we can avoid doing imports until\n"
     ]
    },
    {
     "data": {
      "text/plain": [
       "array([[<matplotlib.axes._subplots.AxesSubplot object at 0x1a2140ceb8>,\n",
       "        <matplotlib.axes._subplots.AxesSubplot object at 0x1a214b3358>,\n",
       "        <matplotlib.axes._subplots.AxesSubplot object at 0x1a214d99e8>,\n",
       "        <matplotlib.axes._subplots.AxesSubplot object at 0x1a2150b0b8>],\n",
       "       [<matplotlib.axes._subplots.AxesSubplot object at 0x1a21534748>,\n",
       "        <matplotlib.axes._subplots.AxesSubplot object at 0x1a21534780>,\n",
       "        <matplotlib.axes._subplots.AxesSubplot object at 0x1a2158d4a8>,\n",
       "        <matplotlib.axes._subplots.AxesSubplot object at 0x1a215b6b38>],\n",
       "       [<matplotlib.axes._subplots.AxesSubplot object at 0x1a215e8208>,\n",
       "        <matplotlib.axes._subplots.AxesSubplot object at 0x1a2160e898>,\n",
       "        <matplotlib.axes._subplots.AxesSubplot object at 0x1a21637f28>,\n",
       "        <matplotlib.axes._subplots.AxesSubplot object at 0x1a216675f8>],\n",
       "       [<matplotlib.axes._subplots.AxesSubplot object at 0x1a21690c88>,\n",
       "        <matplotlib.axes._subplots.AxesSubplot object at 0x1a216c3358>,\n",
       "        <matplotlib.axes._subplots.AxesSubplot object at 0x1a216ea9e8>,\n",
       "        <matplotlib.axes._subplots.AxesSubplot object at 0x1a2171d0b8>]],\n",
       "      dtype=object)"
      ]
     },
     "execution_count": 18,
     "metadata": {},
     "output_type": "execute_result"
    },
    {
     "data": {
      "image/png": "[encoded data removed]",
      "text/plain": [
       "<Figure size 432x288 with 16 Axes>"
      ]
     },
     "metadata": {},
     "output_type": "display_data"
    }
   ],
   "source": [
    "% matplotlib inline\n",
    "\n",
    "plotting.scatter_matrix(df[['mstat', 'mstat2', 'econ', 'eng']]) "
   ]
  },
  {
   "cell_type": "markdown",
   "metadata": {},
   "source": [
    "Коэффициенты корреляции"
   ]
  },
  {
   "cell_type": "markdown",
   "metadata": {},
   "source": [
    "Оценим связь между оценками за курс «Математика и статистика 1» и «Математика и статистика 2».\n",
    "\n",
    "$H_0: \\rho = 0$ (связи нет, коэффициент корреляции не является статистически значимым)\n",
    "\n",
    "$H_1: \\rho \\ne 0$ (связь есть, коэффцициент корреляции является статистически значимым)"
   ]
  },
  {
   "cell_type": "code",
   "execution_count": 19,
   "metadata": {},
   "outputs": [
    {
     "data": {
      "text/plain": [
       "(0.7557387472251619, 3.961005655367343e-11)"
      ]
     },
     "execution_count": 19,
     "metadata": {},
     "output_type": "execute_result"
    }
   ],
   "source": [
    "stats.pearsonr(df.mstat, df.mstat2) # коэффициент Пирсона"
   ]
  },
  {
   "cell_type": "markdown",
   "metadata": {},
   "source": [
    "Интерпретация: связь прямая (положительная) и сильная, нулевая гипотеза о незначимости коэффициеинта корреляции отвергается (на любом конвенциональном уровне значимости), есть значимая связь между оценками по двум частям курса «Математика и статистика»."
   ]
  },
  {
   "cell_type": "code",
   "execution_count": 20,
   "metadata": {},
   "outputs": [
    {
     "data": {
      "text/plain": [
       "SpearmanrResult(correlation=0.7631510956897434, pvalue=1.965305087090471e-11)"
      ]
     },
     "execution_count": 20,
     "metadata": {},
     "output_type": "execute_result"
    }
   ],
   "source": [
    "stats.spearmanr(df.mstat, df.mstat2) # коэффициент Спирмена (более уместен здесь - шкала порядковая)"
   ]
  }
 ],
 "metadata": {
  "kernelspec": {
   "display_name": "Python 3",
   "language": "python",
   "name": "python3"
  },
  "language_info": {
   "codemirror_mode": {
    "name": "ipython",
    "version": 3
   },
   "file_extension": ".py",
   "mimetype": "text/x-python",
   "name": "python",
   "nbconvert_exporter": "python",
   "pygments_lexer": "ipython3",
   "version": "3.6.5"
  }
 },
 "nbformat": 4,
 "nbformat_minor": 2
}
