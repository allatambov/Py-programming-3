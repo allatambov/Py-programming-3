{
 "cells": [
  {
   "cell_type": "markdown",
   "metadata": {},
   "source": [
    "# Основы программирования в Python\n",
    "\n",
    "*Алла Тамбовцева, НИУ ВШЭ*\n",
    "\n",
    "### Экзамен (20.06)\n",
    "\n",
    "*Время выполнения: 2 часа 40 минут*"
   ]
  },
  {
   "cell_type": "markdown",
   "metadata": {},
   "source": [
    "**Формат.** Экзамен состоит из трех частей. Первая часть ‒ базовая, задания в ней снабжены автоматическими тестами. Вторая часть посвящена работе в `pandas`, а третья ‒ парсингу и web-scraping'у. Никакая из частей экзамена не является обязательной или блокирующей; для того, чтобы получить оценку 4 из 10, нужно набрать 10 баллов из 30. \n",
    "\n",
    "**Формат сдачи.** Итоговый ipynb-файл необходимо загрузить в систему [nbgr-x](http://python.math-hse.info/). Файл должен содержать в себе полные решения всех частей, не только первой, которая проверяется автоматически. "
   ]
  },
  {
   "cell_type": "markdown",
   "metadata": {},
   "source": [
    "### Активировать тесты\n",
    "Запустите следующие ячейку, чтобы иметь возможность запускать тесты. Эту операцию нужно проделывать каждый раз, когда вы перезапускаете ядро. Если какой-то из тестов говорит `NameError: name 'Tester' is not defined`, нужно запустить эту ячейку ещё раз."
   ]
  },
  {
   "cell_type": "code",
   "execution_count": null,
   "metadata": {},
   "outputs": [],
   "source": [
    "# Фабрика тестов для проверки программ, принимающих данные через input()\n",
    "\n",
    "from collections import deque\n",
    "\n",
    "class Tester(object):\n",
    "    def __init__(self, inp):\n",
    "        self.outputs = []\n",
    "        self.inputs = deque(inp)\n",
    "    def print(self, *args, sep = \" \", end = \"\\n\"):\n",
    "        text = sep.join(map(str, args)) + end\n",
    "        newlines = text.splitlines(keepends=True)\n",
    "        if self.outputs and self.outputs[-1] and self.outputs[-1][-1] != \"\\n\" and newlines:\n",
    "            self.outputs[-1] += newlines[0]\n",
    "            self.outputs.extend(newlines[1:])\n",
    "        else:\n",
    "            self.outputs.extend(newlines)\n",
    "            \n",
    "    def input(self, *args):\n",
    "        assert self.inputs, \"Вы пытаетесь считать больше элементов, чем предусмотрено условием\"\n",
    "        return self.inputs.popleft()\n",
    "    def __enter__(self):\n",
    "        global print\n",
    "        global input\n",
    "        print = self.print\n",
    "        input = self.input\n",
    "        return self.outputs\n",
    "    def __exit__(self, *args):\n",
    "        global print\n",
    "        global input\n",
    "        del print\n",
    "        del input"
   ]
  },
  {
   "cell_type": "markdown",
   "metadata": {},
   "source": [
    "### Часть 1. Базовая (10 баллов)"
   ]
  },
  {
   "cell_type": "markdown",
   "metadata": {},
   "source": [
    "**Задание 1** *(1 балл)* Напишите программу, которая просит пользователя ввести с клавиатуры строку с названием файла с пробелами и выводит на экран название этого же файла, но со знаком `_` вместо пробелов.\n",
    "\n",
    "**Пример работы программы:**\n",
    "\n",
    "Ввод:\n",
    "\n",
    "    Введите название файла: любимое фото.png\n",
    "    \n",
    "Вывод:\n",
    "\n",
    "    любимое_фото.png\n",
    "    \n",
    "Ввод:\n",
    "\n",
    "    Введите название файла: не самое любимое фото.png\n",
    "    \n",
    "Вывод:\n",
    "\n",
    "    не_самое_любимое_фото.png    "
   ]
  },
  {
   "cell_type": "code",
   "execution_count": null,
   "metadata": {
    "nbgrader": {
     "grade": false,
     "grade_id": "p1",
     "locked": false,
     "schema_version": 1,
     "solution": true
    }
   },
   "outputs": [],
   "source": [
    "def change():\n",
    "    ### YOUR CODE HERE\n",
    "change()"
   ]
  },
  {
   "cell_type": "code",
   "execution_count": null,
   "metadata": {
    "nbgrader": {
     "grade": true,
     "grade_id": "p1-test",
     "locked": true,
     "points": 1,
     "schema_version": 1,
     "solution": false
    }
   },
   "outputs": [],
   "source": [
    "test_data = [\n",
    "    (\"любимое фото.png\", [\"любимое_фото.png\\n\"]),\n",
    "    (\"база данных.csv\", [\"база_данных.csv\\n\"]),\n",
    "    (\"это-не-я.png\", [\"это-не-я.png\\n\"]),\n",
    "    (\"не самое любимое фото.png\", [\"не_самое_любимое_фото.png\\n\"])]\n",
    "\n",
    "for inp, out in test_data:\n",
    "    with Tester([inp]) as t:\n",
    "        change()\n",
    "        assert len(t) == 1, \"Вам нужно вывести ровно одну строку с ответом\"\n",
    "        assert t == out, \"Неверный ответ, была введена строка\" + inp"
   ]
  },
  {
   "cell_type": "markdown",
   "metadata": {},
   "source": [
    "**Задание 2** *(1 балл)* Напишите программу, которая просит пользователя последовательно ввести с клавиатуры два числа (каждое с новой строчки), число пройденных экзаменов и общее число экзаменов, и выводит на экран сообщение вида `Пройдено 40.00% пути.` Число процентов должно представляться в виде целого числа; если оно дробное, то дробная часть должна отбрасываться.\n",
    "\n",
    "**Пример работы программы:**\n",
    "\n",
    "Ввод:\n",
    "\n",
    "    Введите число пройденных экзаменов: 2\n",
    "    Введите общее число экзаменов: 8\n",
    "    \n",
    "Вывод: \n",
    " \n",
    "     Пройдено 25 процентов пути."
   ]
  },
  {
   "cell_type": "code",
   "execution_count": null,
   "metadata": {
    "nbgrader": {
     "grade": false,
     "grade_id": "p2",
     "locked": false,
     "schema_version": 1,
     "solution": true
    }
   },
   "outputs": [],
   "source": [
    "def my_count():\n",
    "    ### YOUR CODE HERE\n",
    "my_count"
   ]
  },
  {
   "cell_type": "code",
   "execution_count": null,
   "metadata": {
    "nbgrader": {
     "grade": true,
     "grade_id": "p2-test",
     "locked": true,
     "points": 1,
     "schema_version": 1,
     "solution": false
    }
   },
   "outputs": [],
   "source": [
    "test_data = [\n",
    "    (\"6 8\", [\"Пройдено 75 процентов пути.\\n\"]),\n",
    "    (\"1 10\", [\"Пройдено 10 процентов пути.\\n\"]),\n",
    "    (\"2 8\", [\"Пройдено 25 процентов пути.\\n\"]),\n",
    "    (\"3 8\", [\"Пройдено 37 процентов пути.\\n\"])]\n",
    "\n",
    "for inp, out in test_data:\n",
    "    with Tester(inp.split()) as t:\n",
    "        my_count()\n",
    "        assert len(t) == 1, \"Вам нужно вывести ровно одну строку с ответом\"\n",
    "        assert t == out, \"Неверный ответ, была введена строка\" + inp"
   ]
  },
  {
   "cell_type": "markdown",
   "metadata": {},
   "source": [
    "**Задание 3** *(1 балл)* Напишите функцию `my_sqrt()`, которая принимает на вход список неотрицательных чисел и возвращает список квадратных корней из этих чисел. Функция не должна ничего печатать (выводить на экран).\n",
    "\n",
    "**Пример работы программы:**\n",
    "\n",
    "Ввод:\n",
    "\n",
    "    [4, 0, 9, 16, 5]\n",
    "\n",
    "Вывод:\n",
    "\n",
    "    [2, 0, 3, 4, 2.]"
   ]
  },
  {
   "cell_type": "code",
   "execution_count": null,
   "metadata": {
    "nbgrader": {
     "grade": false,
     "grade_id": "p3",
     "locked": false,
     "schema_version": 1,
     "solution": true
    }
   },
   "outputs": [],
   "source": [
    "### YOUR CODE HERE"
   ]
  },
  {
   "cell_type": "code",
   "execution_count": null,
   "metadata": {
    "nbgrader": {
     "grade": true,
     "grade_id": "p3-test",
     "locked": true,
     "points": 1,
     "schema_version": 1,
     "solution": false
    }
   },
   "outputs": [],
   "source": [
    "import math\n",
    "tol = 0.0001\n",
    "eq = lambda a, b: abs(a-b) < tol\n",
    "\n",
    "test = [([4, 0, 9, 16, 5], [2.0, 0.0, 3.0, 4.0, 2.23606797749979]),\n",
    "       ([2, 1, 3], [1.4142135623730951, 1.0, 1.7320508075688772]),\n",
    "       ([0, 7], [0.0, 2.6457513110645907]),\n",
    "       ([5.56, 1.21, 8], [2.3579652245103193, 1.1, 2.8284271247461903])]\n",
    "\n",
    "for p in test:\n",
    "    for i in range(0, len(p[0])):\n",
    "        assert eq(my_sqrt(p[0])[i], p[1][i]), \"Неверный ответ для \" + str(p[0])\n",
    "\n",
    "with Tester([]) as t:\n",
    "    my_sqrt([4, 0, 9, 16, 5])\n",
    "    assert len(t) == 0, \"функция ничего не должна печатать\""
   ]
  },
  {
   "cell_type": "markdown",
   "metadata": {},
   "source": [
    "**Задание 4** *(1 балл)* Напишите функцию `make_list()`, которая принимает на вход строку, содержащую целые числа, указанные через пробел, и возвращает список целых чисел. Функция не должна ничего печатать (выводить на экран).\n",
    "\n",
    "**Пример работы программы:**\n",
    "\n",
    "На входе: \n",
    "\n",
    "    4 6 7 0 -1\n",
    "\n",
    "На выходе:\n",
    "\n",
    "    [4, 6, 7, 0, -1]"
   ]
  },
  {
   "cell_type": "code",
   "execution_count": null,
   "metadata": {
    "nbgrader": {
     "grade": false,
     "grade_id": "p4",
     "locked": false,
     "schema_version": 1,
     "solution": true
    }
   },
   "outputs": [],
   "source": [
    "### YOUR CODE HERE"
   ]
  },
  {
   "cell_type": "code",
   "execution_count": null,
   "metadata": {
    "nbgrader": {
     "grade": true,
     "grade_id": "p4-test",
     "locked": true,
     "points": 1,
     "schema_version": 1,
     "solution": false
    }
   },
   "outputs": [],
   "source": [
    "assert(make_list(\"4 6 7 0 -1\") == [4, 6, 7, 0, -1]), \"Ошибка при вводе строки \" + \"4 6 7 0 -1\"\n",
    "assert(make_list(\"2 22 7\") == [2, 22, 7]), \"Ошибка при вводе строки \" + \"2 22 7\"\n",
    "assert(make_list(\"-32 -101 -6\") == [-32, -101, -6]), \"Ошибка при вводе строки \" + \"-32 -101 -6\""
   ]
  },
  {
   "cell_type": "markdown",
   "metadata": {},
   "source": [
    "**Задание 5** *(1 балл)* Напишите функцию `col_music()`, которая просит пользователя ввести название цвета, и, если цвет равен `yellow`, она выводит на экран строку \"We all live in a yellow submarine\", если `green`, то \"And the green grass grows all around, all around\", если `black`, то \"Black night is not right\". Если пользователь вводит какой-то другой цвет или один из перечисленных цветов в другом регистре или с опечатками, функция должна выводить на экран строку \"Too hard. Make up something else.\" Функция не должна ничего возвращать.\n",
    "\n",
    "**Пример работы программы:**\n",
    "\n",
    "На входе:\n",
    "\n",
    "    Enter color: black\n",
    "\n",
    "На выходе (вывод на экране):\n",
    "\n",
    "    Black night is not right"
   ]
  },
  {
   "cell_type": "code",
   "execution_count": null,
   "metadata": {
    "nbgrader": {
     "grade": false,
     "grade_id": "p5",
     "locked": false,
     "schema_version": 1,
     "solution": true
    }
   },
   "outputs": [],
   "source": [
    "### YOUR CODE HERE"
   ]
  },
  {
   "cell_type": "code",
   "execution_count": null,
   "metadata": {
    "nbgrader": {
     "grade": true,
     "grade_id": "p5-test",
     "locked": true,
     "points": 1,
     "schema_version": 1,
     "solution": false
    }
   },
   "outputs": [],
   "source": [
    "test_data = [\n",
    "    (\"black\", [\"Black night is not right\\n\"]),\n",
    "    (\"green\", [\"And the green grass grows all around, all around\\n\"]),\n",
    "    (\"yellow\", [\"We all live in a yellow submarine\\n\"]),\n",
    "    (\"Yellowe\", [\"Too hard. Make up something else.\\n\"])]\n",
    "\n",
    "for inp, out in test_data:\n",
    "    with Tester([inp]) as t:\n",
    "        col_music()\n",
    "        assert len(t) == 1, \"Вам нужно вывести ровно одну строку с ответом\"\n",
    "        assert t == out, \"Неверный ответ, была введена строка \" + inp"
   ]
  },
  {
   "cell_type": "markdown",
   "metadata": {},
   "source": [
    "**Задание 6** *(1 балл)* Напишите функцию `make_double()`, которая принимает на вход некоторый список, а возвращает кортеж из двух списков: принятого на вход (старого) и преобразованного (нового). Преобразованный список представляет собой продублированный список, принятый на вход. Функция не должна ничего печатать (выводить на экран).\n",
    "\n",
    "**Пример работы программы:**\n",
    "\n",
    "На входе:\n",
    "\n",
    "    ['a', 'b', 3]\n",
    "\n",
    "На выходе:\n",
    "\n",
    "    (['a', 'b', 3], ['a', 'b', 3, 'a', 'b', 3])"
   ]
  },
  {
   "cell_type": "code",
   "execution_count": null,
   "metadata": {
    "nbgrader": {
     "grade": false,
     "grade_id": "p6",
     "locked": false,
     "schema_version": 1,
     "solution": true
    }
   },
   "outputs": [],
   "source": [
    "### YOUR CODE HERE"
   ]
  },
  {
   "cell_type": "code",
   "execution_count": null,
   "metadata": {
    "nbgrader": {
     "grade": true,
     "grade_id": "p6-test",
     "locked": true,
     "points": 1,
     "schema_version": 1,
     "solution": false
    }
   },
   "outputs": [],
   "source": [
    "assert make_double(['a', 'b', 3]) == (['a', 'b', 3], ['a', 'b', 3, 'a', 'b', 3]), \"Ошибка при вводе \" + str(['a', 'b', 3])\n",
    "assert make_double([1, 0, 3, 3]) == ([1, 0, 3, 3], [1, 0, 3, 3, 1, 0, 3, 3]), \"Ошибка при вводе \" + str([1, 0, 3, 3])\n",
    "assert make_double([-1, 6, 5, 9, 'q']) == ([-1, 6, 5, 9, 'q'], [-1, 6, 5, 9, 'q',-1, 6, 5, 9, 'q']), \"Ошибка при вводе \" + str(-1, 6, 5, 9, 'q')"
   ]
  },
  {
   "cell_type": "markdown",
   "metadata": {},
   "source": [
    "**Задание 7** *(2 балла)* Напишите функцию `slov_find()`, которая принимает на вход два аргумента\n",
    "\n",
    "* слово на русском или словенском языке\n",
    "* целое число, обозначающее перевод языка. 1 ‒ со словенского на русский, 2 ‒ с русского на словенский\n",
    "\n",
    "и возвращает соответствующий перевод слова. Считайте, что пользователь вводит слова из готового словаря `my_dict`. Если введенного слова нет в словаре `my_dict`, должна возвращаться строка \"Слово не найдено\"."
   ]
  },
  {
   "cell_type": "markdown",
   "metadata": {},
   "source": [
    "**Пример работы программы:**\n",
    "    \n",
    "На входе: \n",
    "\n",
    "    slov_find(fant, 1)\n",
    "\n",
    "На выходе:\n",
    "    \n",
    "    парень\n",
    "    \n",
    "На входе:\n",
    "\n",
    "    slov_find(язык, 2)\n",
    "\n",
    "На выходе:\n",
    "\n",
    "    jezik\n",
    "    \n",
    "На входе:\n",
    "\n",
    "    slov_find(открытка, 2)\n",
    "\n",
    "На выходе:\n",
    "\n",
    "    Слово не найдено"
   ]
  },
  {
   "cell_type": "code",
   "execution_count": null,
   "metadata": {
    "nbgrader": {
     "grade": false,
     "grade_id": "p7",
     "locked": false,
     "schema_version": 1,
     "solution": true
    }
   },
   "outputs": [],
   "source": [
    "### YOUR CODE HERE"
   ]
  },
  {
   "cell_type": "code",
   "execution_count": null,
   "metadata": {},
   "outputs": [],
   "source": [
    "my_dict = {'računalnik': 'компьютер', 'fant' : 'парень', 'sladoled' : 'мороженое', 'kosilo' : 'обед', \n",
    "           'jezik' : 'язык', 'hrbetnica' : 'позвоночник', 'enota' : 'урок'}"
   ]
  },
  {
   "cell_type": "code",
   "execution_count": null,
   "metadata": {
    "nbgrader": {
     "grade": true,
     "grade_id": "p7-test",
     "locked": true,
     "points": 2,
     "schema_version": 1,
     "solution": false
    }
   },
   "outputs": [],
   "source": [
    "assert slov_find('fant', 1), \"Ошибка при вводе слова \" + \"fant\"\n",
    "assert slov_find('računalnik', 1), \"Ошибка при вводе слова \" + \"računalnik\"\n",
    "assert slov_find('sladoled', 1), \"Ошибка при вводе слова \" + \"sladoled\"\n",
    "assert slov_find('урок', 2), \"Ошибка при вводе слова \" + \"урок\"\n",
    "assert slov_find('обед', 2), \"Ошибка при вводе слова \" + \"обед\""
   ]
  },
  {
   "cell_type": "markdown",
   "metadata": {},
   "source": [
    "**Задание 8** *(3 балла)* Напишите функцию `my_count()`, которая принимает на вход целое число в формате строки (*string*) и,\n",
    "\n",
    "* если число однозначное, возвращает пустой словарь;\n",
    "* если число состоит более, чем из одной цифры, возвращает словарь вида `{\"сумма цифр\" : 12, \"произведение цифр\": 27}`.\n",
    "\n",
    "Пользоваться готовой функцией `sum()` можно. Для произведения можно импортировать библиотеку `numpy` и взять оттуда функцию `prod()`. Например, `numpy.prod([1,6,7])`."
   ]
  },
  {
   "cell_type": "code",
   "execution_count": null,
   "metadata": {
    "nbgrader": {
     "grade": false,
     "grade_id": "p8",
     "locked": false,
     "schema_version": 1,
     "solution": true
    }
   },
   "outputs": [],
   "source": [
    "### YOUR CODE HERE"
   ]
  },
  {
   "cell_type": "code",
   "execution_count": null,
   "metadata": {
    "nbgrader": {
     "grade": true,
     "grade_id": "p8-test",
     "locked": true,
     "points": 2,
     "schema_version": 1,
     "solution": false
    }
   },
   "outputs": [],
   "source": [
    "assert my_count('325') == {'произведение цифр': 30, 'сумма цифр': 10}, \"Ошибка при вводе числа 325\"\n",
    "assert my_count('111') == {'произведение цифр': 1, 'сумма цифр': 3}, \"Ошибка при вводе числа 111\"\n",
    "assert my_count('45623') == {'произведение цифр': 720, 'сумма цифр': 20}, \"Ошибка при вводе числа 45623\""
   ]
  },
  {
   "cell_type": "markdown",
   "metadata": {},
   "source": [
    "### Часть 2. Работа с `pandas` (12 баллов)"
   ]
  },
  {
   "cell_type": "markdown",
   "metadata": {},
   "source": [
    "1. Загрузите csv-файл с таблицей по [ссылке](http://math-info.hse.ru/f/2017-18/py-prog/Fishing.csv). Описание базы см. [здесь](https://vincentarelbundock.github.io/Rdatasets/doc/Ecdat/Fishing.html).*(0.5 балла)*\n",
    "2. Выведите описательные статистики для всех количественных (*integer*, *float*) переменных в базе. *(1 балл)*\n",
    "3. Выберите из таблицы только строки, которые соответствуют респондентам, которые выбрали рыбалку на берегу (beach) *(1 балл)*\n",
    "4. Выберите из таблицы строки, которые соответствуют респондентам, которые предпочитают рыбачить на лодке (boat) с доходом  (*income*) ниже 3500. Сохраните результат в переменную `d`. *(1 балл)*\n",
    "5. Переименуйте столбец *catch* в *c_rate*. *(1 балл)*\n",
    "6. Добавьте в таблицу столбец *log_income*, содержащий натуральный логарифм доходов респондентов. *(2 балла)*\n",
    "7. Сгруппируйте наблюдения в таблице по признаку *тип рыбалки* (*mode*) и выведите для каждого типа среднюю цену (*price*), которую респонденты готовы заплатить за рыбалку *(2 балла)*\n",
    "8. Постройте гистограмму для показателя *pboat*, поменяйте ее цвет и добавьте название графика. *(2 балла)*\n",
    "9. Выведите на экран первые 8 строк таблицы. А теперь последние 8. *(1 балл)*\n",
    "10. Сохраните датафрейм в csv-файл. *(0.5 балла)*"
   ]
  },
  {
   "cell_type": "markdown",
   "metadata": {},
   "source": [
    "### Часть 3. Parsing & web-scraping (8 баллов)"
   ]
  },
  {
   "cell_type": "markdown",
   "metadata": {},
   "source": [
    "*(3 балла)* Используя html-страницу, ссылка на которую приведена ниже, создайте датафрейм `pandas`, который должен включать следующие столбцы: \n",
    "\n",
    "    * ФИО депутата (name)\n",
    "    * пол депутата (gender)\n",
    "    * партия (party)\n",
    "    \n",
    "Посмотреть на саму страницу можно здесь:\n",
    "\n",
    "https://www.w3schools.com/code/tryit.asp?filename=FSHGYZTU2PBH"
   ]
  },
  {
   "cell_type": "code",
   "execution_count": null,
   "metadata": {},
   "outputs": [],
   "source": [
    "link = \"https://raw.githubusercontent.com/allatambov/Py-programming-3/master/html-depts.html\""
   ]
  },
  {
   "cell_type": "markdown",
   "metadata": {},
   "source": [
    "*(5 баллов)* Напишите функцию `get_info()`, которая принимает на вход ссылку на персональную страницу преподавателя ВШЭ, и возвращает список, содержащий следующие элементы:\n",
    "\n",
    "* ФИО преподавателя\n",
    "* Научно-педагогический стаж (лет)\n",
    "* Языки, которыми владеет преподаватель (в виде кортежа из строк)\n",
    "* Курсы, которые читает преподаватель (в виде кортежа из строк)"
   ]
  },
  {
   "cell_type": "code",
   "execution_count": null,
   "metadata": {},
   "outputs": [],
   "source": [
    "# для примера\n",
    "guess_who = 'https://www.hse.ru/staff/allat'"
   ]
  }
 ],
 "metadata": {
  "celltoolbar": "Create Assignment",
  "kernelspec": {
   "display_name": "Python 3",
   "language": "python",
   "name": "python3"
  },
  "language_info": {
   "codemirror_mode": {
    "name": "ipython",
    "version": 3
   },
   "file_extension": ".py",
   "mimetype": "text/x-python",
   "name": "python",
   "nbconvert_exporter": "python",
   "pygments_lexer": "ipython3",
   "version": "3.5.2"
  }
 },
 "nbformat": 4,
 "nbformat_minor": 2
}
