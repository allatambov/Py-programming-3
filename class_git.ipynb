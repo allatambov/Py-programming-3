{
 "cells": [
  {
   "cell_type": "markdown",
   "metadata": {},
   "source": [
    "# Основы программирования в Python\n",
    "\n",
    "*Материал подготовил: Виталий Евтушенко, НИУ ВШЭ*"
   ]
  },
  {
   "cell_type": "markdown",
   "metadata": {
    "collapsed": true
   },
   "source": [
    "# Version control: Git & others"
   ]
  },
  {
   "cell_type": "markdown",
   "metadata": {},
   "source": [
    "<a href=\"http://www.freeimagehosting.net/commercial-photography/\"><img src=\"https://i.imgur.com/4wyuhXl.jpg\" width=\"300\" height=\"80\" alt=\"Commercial Photography\"></a>"
   ]
  },
  {
   "cell_type": "markdown",
   "metadata": {},
   "source": [
    "**Что такое система контроля версий?**\n",
    "**Разные версии любого проекта (совместный доклад, кейс-презентация, задачки на командную олимпиаду или програмный код, за который ответственны несколько членов команды) можно хранить разными способами**. Например, сохранять в отдельные папки и хранить их на компьютере, или же сохранять в отдельные папки и хранить их в облачном хранилище. Можно писать проект в совместном гугл-документе, а можно совмещать описанное выше хранение по папкам, и даже иметь отдельный блокнотик, где будут записаны все версии проекта, все изменения, кто их внёс, какие между ними различия и правки. Более того, от такого блокнотика можно находить хэш-функции и по ним определять правки и версии быстрее. Еще лучше, если облачное хранилище будет распределенным (не зависящим от одной платформы, сервиса и возможных проблем с доступом к их стороне). **С другой стороны, можно не разрабатывать** свою систему контроля версий, а использовть уже готовые.\n",
    "\n",
    "[Pro Git book, 1.1 Введение - О системе контроля версий](https://git-scm.com/book/ru/v2/%D0%92%D0%B2%D0%B5%D0%B4%D0%B5%D0%BD%D0%B8%D0%B5-%D0%9E-%D1%81%D0%B8%D1%81%D1%82%D0%B5%D0%BC%D0%B5-%D0%BA%D0%BE%D0%BD%D1%82%D1%80%D0%BE%D0%BB%D1%8F-%D0%B2%D0%B5%D1%80%D1%81%D0%B8%D0%B9)"
   ]
  },
  {
   "cell_type": "markdown",
   "metadata": {},
   "source": [
    "## Git Services\n",
    "- [Github](http://github.com)\n",
    "- [Bitbucket](http://bitbucket.org)\n",
    "- [Gitlab](http://gitlab.com)\n",
    "\n",
    "### Comparison\n",
    "- [Comparison](https://www.git-tower.com/blog/git-hosting-services-compared/)\n",
    "\n",
    "### with Graphical User interface\n",
    "- [GuiClients](https://git-scm.com/downloads/guis )"
   ]
  },
  {
   "cell_type": "markdown",
   "metadata": {},
   "source": [
    "**Что почитать и посмотреть?**\n",
    "\n",
    "**Достаточно знать [несколько команд](https://dev.to/dhruv/essential-git-commands-every-developer-should-know-2fl) (о чем говорит милая выдра на картинке выше)**,  а потом использовать git для хранения проектов (если это наиболее удобно, а часто это наиболее удобно), для совместной работы (Например, большие tex документы или книги).\n",
    "\n",
    "**very well guides**\n",
    "- [Basic Git commands](https://confluence.atlassian.com/bitbucketserver/basic-git-commands-776639767.html) (**стоит обратить внимание**)\n",
    "- [GitHub Guides](https://guides.github.com/) (**стоит обратить внимание, особенно на Hello World part**). По этой части описан алгоритм ниже. Автор не отдаёт предпочтение никакому из коммерческих сервисов контроля версий, но репозаторий уже лежит на github'е, поэтому обратим внимание в сторону гитхаба (но это не реклама)\n",
    "- [desktop.github](https://desktop.github.com/) (**стоит обратить внимание, если не любите терминалы**)\n",
    " - [getting-started-with-github-desktop](https://help.github.com/desktop/guides/getting-started-with-github-desktop/)\n",
    " - [Github Desktop Tutorial, Youtube](https://www.youtube.com/watch?v=kFix7UDJ7LA)\n",
    "- [GIT CHEAT SHEET](https://services.github.com/on-demand/downloads/github-git-cheat-sheet.pdf) (**стоит обратить внимание**)\n",
    "\n",
    "**GIT PRO BOOK**\n",
    "- [Pro Git book](https://git-scm.com/book/ru/v1/%D0%9E%D1%81%D0%BD%D0%BE%D0%B2%D1%8B-Git)\n",
    " - [Reference - команды](https://git-scm.com/docs)\n",
    "\n",
    "**smt else**\n",
    "- [One more git tutorial](https://www.atlassian.com/git?utm_source=basic-git-commands&utm_medium=link&utm_campaign=git-microsite)\n",
    "- [How to make my first commit git, Youtube](https://www.youtube.com/watch?v=QqP7YZlZEOo) (**стоит обратить внимание, если нет желания читать**)\n",
    "- [GitHub для пользователей Windows, Хабр](https://habr.com/post/313996/)"
   ]
  },
  {
   "cell_type": "markdown",
   "metadata": {},
   "source": [
    "Если всё выше было прочитано и вы чувствуете, что готовы открывать терминал (или установили себе что-то более юзер-графическое), контроллить версии и даже сделать свой первый коммит - тогда можно проследовать алгоритму ниже."
   ]
  },
  {
   "cell_type": "markdown",
   "metadata": {},
   "source": [
    "## Клонирование [репозитория](https://ru.wikipedia.org/wiki/%D0%A0%D0%B5%D0%BF%D0%BE%D0%B7%D0%B8%D1%82%D0%BE%D1%80%D0%B8%D0%B9)\n",
    "\n",
    "- Открываем терминал \n",
    "    - Windows: Win+R и пишем powershell\n",
    "    - Mac: Spotlight Search -> Terminal\n",
    "- Тестируем наличие\n",
    "    - git --version\n",
    "- Если git не установлен, то устанавливаем\n",
    "    - Windows: [Git-scm](https://git-scm.com/download/win)\n",
    "    - Mac: [Terminal Client](https://git-scm.com/download/mac)\n",
    "- Если git установлен, набираем команду:\n",
    "    - git clone https://github.com/allatambov/Py-programming-3 \n",
    "\n",
    "**Так мы скопируем репозиторий курса на локальную машину.**"
   ]
  },
  {
   "cell_type": "markdown",
   "metadata": {},
   "source": [
    "## [Создание репозитория](https://guides.github.com/activities/hello-world/)\n",
    "\n",
    "- Создаем репозиторий на сайте. Например, на http://github.com\n",
    "- Клонируем на локальный компьютер\n",
    "- Переходим в директорию и выполняем команду\n",
    "    - git status"
   ]
  },
  {
   "cell_type": "markdown",
   "metadata": {},
   "source": [
    "## Добавление данных в репозиторий\n",
    "- Просто добавляем файлы в директорию где находится репозиторий "
   ]
  },
  {
   "cell_type": "markdown",
   "metadata": {},
   "source": [
    "## Загрузка данных в репозиторий\n",
    "\n",
    "- Переходим в директорию с репозиторием - (Например:  cd ~/Py-programming-3)\n",
    "- Добавляем файлы в коммит\n",
    "    -  git add file_name\n",
    "- Сохраняем данные в коммите \n",
    "    - git commit -m \"first commit\"\n",
    "- Загружаем данные на сервер (сайт github)\n",
    "    - git push"
   ]
  },
  {
   "cell_type": "markdown",
   "metadata": {},
   "source": [
    "## Синхронизация данных с сервером\n",
    "- Переходим в директорию с репозиторием\n",
    "- Выполняем команду \n",
    " - git pull"
   ]
  },
  {
   "cell_type": "markdown",
   "metadata": {},
   "source": [
    "## А это [октокошечки](https://en.wikipedia.org/wiki/GitHub#Mascot), маскот гитхаба"
   ]
  },
  {
   "cell_type": "markdown",
   "metadata": {},
   "source": [
    "<a href=\"https://octodex.github.com/\"><img src=\"https://octodex.github.com/images/benevocats.png\" width=\"300\" height=\"80\" alt=\"Commercial Photography\"></a>"
   ]
  }
 ],
 "metadata": {
  "kernelspec": {
   "display_name": "Python 2",
   "language": "python",
   "name": "python2"
  },
  "language_info": {
   "codemirror_mode": {
    "name": "ipython",
    "version": 2
   },
   "file_extension": ".py",
   "mimetype": "text/x-python",
   "name": "python",
   "nbconvert_exporter": "python",
   "pygments_lexer": "ipython2",
   "version": "2.7.12"
  }
 },
 "nbformat": 4,
 "nbformat_minor": 2
}
