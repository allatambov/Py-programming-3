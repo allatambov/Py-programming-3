{
 "cells": [
  {
   "cell_type": "code",
   "execution_count": null,
   "metadata": {},
   "outputs": [],
   "source": [
    "from selenium import webdriver as wb\n",
    "br = wb.Chrome()"
   ]
  },
  {
   "cell_type": "code",
   "execution_count": null,
   "metadata": {},
   "outputs": [],
   "source": [
    "browser.get(\"http://www.cikrf.ru/services/lk_address/?do=find_by_uik\")\n",
    "\n",
    "uik_field = br.find_element_by_css_selector(\"#uik\")\n",
    "uik_field.send_keys(n_uik)\n",
    "\n",
    "region_field = br.find_element_by_name(\"subject\")\n",
    "options = region_field.find_elements_by_tag_name(\"option\")\n",
    "reg_option = list(filter(lambda x : x.text == reg, options))[0]\n",
    "index = options.index(reg_option)\n",
    "options[index].click()\n",
    "#sleep(1.5)\n",
    "\n",
    "button = br.find_element_by_link_text(\"Отправить запрос\")\n",
    "button.click()\n",
    "#sleep(1.5)\n",
    "\n",
    "p = re.search(r\"Адрес помещения для голосования: ([^<]+)\", br.page_source)\n",
    "\n",
    "if p is None:\n",
    "        \n",
    "        p = re.search(r\"Адрес: ([^<]+)\", br.page_source)\n",
    "    \n",
    "    addr = p.group(1)\n",
    "        \n",
    "    return addr"
   ]
  }
 ],
 "metadata": {
  "kernelspec": {
   "display_name": "Python 3",
   "language": "python",
   "name": "python3"
  },
  "language_info": {
   "codemirror_mode": {
    "name": "ipython",
    "version": 3
   },
   "file_extension": ".py",
   "mimetype": "text/x-python",
   "name": "python",
   "nbconvert_exporter": "python",
   "pygments_lexer": "ipython3",
   "version": "3.5.2"
  }
 },
 "nbformat": 4,
 "nbformat_minor": 2
}
