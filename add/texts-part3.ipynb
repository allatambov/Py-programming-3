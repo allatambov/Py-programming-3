{
 "cells": [
  {
   "cell_type": "markdown",
   "metadata": {},
   "source": [
    "# Основы программирования в Python\n",
    "\n",
    "*Алла Тамбовцева*\n",
    "\n",
    "## Моделирование с `gensim`. Модель Doc2Vec и LDA."
   ]
  },
  {
   "cell_type": "markdown",
   "metadata": {},
   "source": [
    "### Подготовка данных"
   ]
  },
  {
   "cell_type": "markdown",
   "metadata": {},
   "source": [
    "Загрузим данные из файла *articles.csv* и приведем текст к нормальной форме, используя написанные в предыдущей части функции."
   ]
  },
  {
   "cell_type": "code",
   "execution_count": 1,
   "metadata": {},
   "outputs": [],
   "source": [
    "import pandas as pd\n",
    "df = pd.read_csv('https://raw.githubusercontent.com/allatambov/Py-programming-3/master/add/articles.csv', encoding= 'UTF-8')"
   ]
  },
  {
   "cell_type": "code",
   "execution_count": 2,
   "metadata": {},
   "outputs": [],
   "source": [
    "# нижний регистр и удаление пунктуации\n",
    "import string\n",
    "def normalize(x):\n",
    "    to_remove = string.punctuation + '«»—'\n",
    "    translator = str.maketrans('', '', to_remove)\n",
    "    res = x.translate(translator)\n",
    "    res = res.lower()\n",
    "    return res"
   ]
  },
  {
   "cell_type": "code",
   "execution_count": 3,
   "metadata": {},
   "outputs": [],
   "source": [
    "# удаление русских стоп-слов и создание списка слов\n",
    "from nltk.tokenize import sent_tokenize, word_tokenize\n",
    "from nltk.corpus import stopwords\n",
    "\n",
    "def filter_words(text, lang = 'russian'):\n",
    "    \n",
    "    wordsFiltered = []\n",
    "    stopWords = set(stopwords.words(lang))\n",
    "    words = word_tokenize(text)\n",
    "\n",
    "    for w in words:\n",
    "        if w not in stopWords:\n",
    "            wordsFiltered.append(w)\n",
    "    return wordsFiltered"
   ]
  },
  {
   "cell_type": "code",
   "execution_count": 4,
   "metadata": {},
   "outputs": [
    {
     "data": {
      "text/html": [
       "<div>\n",
       "<style scoped>\n",
       "    .dataframe tbody tr th:only-of-type {\n",
       "        vertical-align: middle;\n",
       "    }\n",
       "\n",
       "    .dataframe tbody tr th {\n",
       "        vertical-align: top;\n",
       "    }\n",
       "\n",
       "    .dataframe thead th {\n",
       "        text-align: right;\n",
       "    }\n",
       "</style>\n",
       "<table border=\"1\" class=\"dataframe\">\n",
       "  <thead>\n",
       "    <tr style=\"text-align: right;\">\n",
       "      <th></th>\n",
       "      <th>text</th>\n",
       "      <th>text_norm</th>\n",
       "      <th>words</th>\n",
       "    </tr>\n",
       "  </thead>\n",
       "  <tbody>\n",
       "    <tr>\n",
       "      <th>0</th>\n",
       "      <td>Что такое сверхтекучесть? Нам известно одно ее...</td>\n",
       "      <td>что такое сверхтекучесть нам известно одно ее ...</td>\n",
       "      <td>[такое, сверхтекучесть, нам, известно, одно, п...</td>\n",
       "    </tr>\n",
       "    <tr>\n",
       "      <th>1</th>\n",
       "      <td>Тут возникают новые вопросы о том, как вообще ...</td>\n",
       "      <td>тут возникают новые вопросы о том как вообще м...</td>\n",
       "      <td>[возникают, новые, вопросы, вообще, сравнить, ...</td>\n",
       "    </tr>\n",
       "    <tr>\n",
       "      <th>2</th>\n",
       "      <td>Еще одно интересное употребление редупликации ...</td>\n",
       "      <td>еще одно интересное употребление редупликации ...</td>\n",
       "      <td>[одно, интересное, употребление, редупликации,...</td>\n",
       "    </tr>\n",
       "    <tr>\n",
       "      <th>3</th>\n",
       "      <td>Как устроены эти редупликации типа «маслице-фи...</td>\n",
       "      <td>как устроены эти редупликации типа маслицефига...</td>\n",
       "      <td>[устроены, редупликации, типа, маслицефигаслиц...</td>\n",
       "    </tr>\n",
       "    <tr>\n",
       "      <th>4</th>\n",
       "      <td>Курс «Расстройства личности: от паранойи и ист...</td>\n",
       "      <td>курс расстройства личности от паранойи и истер...</td>\n",
       "      <td>[курс, расстройства, личности, паранойи, истер...</td>\n",
       "    </tr>\n",
       "    <tr>\n",
       "      <th>5</th>\n",
       "      <td>Сопротивление соблазну. В экономических термин...</td>\n",
       "      <td>сопротивление соблазну в экономических термина...</td>\n",
       "      <td>[сопротивление, соблазну, экономических, терми...</td>\n",
       "    </tr>\n",
       "    <tr>\n",
       "      <th>6</th>\n",
       "      <td>В этом смысле такое картирование может быть ос...</td>\n",
       "      <td>в этом смысле такое картирование может быть ос...</td>\n",
       "      <td>[смысле, такое, картирование, осуществлено, лю...</td>\n",
       "    </tr>\n",
       "    <tr>\n",
       "      <th>7</th>\n",
       "      <td>Существует широко распространенное убеждение, ...</td>\n",
       "      <td>существует широко распространенное убеждение ч...</td>\n",
       "      <td>[существует, широко, распространенное, убежден...</td>\n",
       "    </tr>\n",
       "  </tbody>\n",
       "</table>\n",
       "</div>"
      ],
      "text/plain": [
       "                                                text  \\\n",
       "0  Что такое сверхтекучесть? Нам известно одно ее...   \n",
       "1  Тут возникают новые вопросы о том, как вообще ...   \n",
       "2  Еще одно интересное употребление редупликации ...   \n",
       "3  Как устроены эти редупликации типа «маслице-фи...   \n",
       "4  Курс «Расстройства личности: от паранойи и ист...   \n",
       "5  Сопротивление соблазну. В экономических термин...   \n",
       "6  В этом смысле такое картирование может быть ос...   \n",
       "7  Существует широко распространенное убеждение, ...   \n",
       "\n",
       "                                           text_norm  \\\n",
       "0  что такое сверхтекучесть нам известно одно ее ...   \n",
       "1  тут возникают новые вопросы о том как вообще м...   \n",
       "2  еще одно интересное употребление редупликации ...   \n",
       "3  как устроены эти редупликации типа маслицефига...   \n",
       "4  курс расстройства личности от паранойи и истер...   \n",
       "5  сопротивление соблазну в экономических термина...   \n",
       "6  в этом смысле такое картирование может быть ос...   \n",
       "7  существует широко распространенное убеждение ч...   \n",
       "\n",
       "                                               words  \n",
       "0  [такое, сверхтекучесть, нам, известно, одно, п...  \n",
       "1  [возникают, новые, вопросы, вообще, сравнить, ...  \n",
       "2  [одно, интересное, употребление, редупликации,...  \n",
       "3  [устроены, редупликации, типа, маслицефигаслиц...  \n",
       "4  [курс, расстройства, личности, паранойи, истер...  \n",
       "5  [сопротивление, соблазну, экономических, терми...  \n",
       "6  [смысле, такое, картирование, осуществлено, лю...  \n",
       "7  [существует, широко, распространенное, убежден...  "
      ]
     },
     "execution_count": 4,
     "metadata": {},
     "output_type": "execute_result"
    }
   ],
   "source": [
    "# применяем\n",
    "df['text_norm'] = df.text.apply(normalize)\n",
    "df['words'] = df.text_norm.apply(filter_words)\n",
    "df"
   ]
  },
  {
   "cell_type": "markdown",
   "metadata": {},
   "source": [
    "### Doc2Vec c  `gensim`\n",
    "\n",
    "Задача метода *Doc2Vec*, как следует из названия, ‒ представить документы (тексты) в виде числовых векторов. Для того, чтобы понять, как устроен перевод документов в векторы, рассмотрим простейший пример.\n",
    "\n",
    "У нас есть три текста, которые состоят всего из двух слов (двумерный случай легко оказать на графике).\n",
    "\n",
    "*Текст 1:*\n",
    "\n",
    "    бутявка кролик бутявка бутявка бутявка бутявка \n",
    "\n",
    "*Текст 2:*\n",
    "\n",
    "    кролик кролик бутявка кролик\n",
    "    \n",
    "*Текст 3:*\n",
    "\n",
    "    бутявка кролик кролик бутявка\n",
    "    \n",
    "Посчитаем, сколько раз в текстах содержатся слова *бутявка* и *кролик*. Построим матрицу (таблицу частот):"
   ]
  },
  {
   "cell_type": "code",
   "execution_count": 9,
   "metadata": {},
   "outputs": [
    {
     "data": {
      "text/html": [
       "<div>\n",
       "<style scoped>\n",
       "    .dataframe tbody tr th:only-of-type {\n",
       "        vertical-align: middle;\n",
       "    }\n",
       "\n",
       "    .dataframe tbody tr th {\n",
       "        vertical-align: top;\n",
       "    }\n",
       "\n",
       "    .dataframe thead th {\n",
       "        text-align: right;\n",
       "    }\n",
       "</style>\n",
       "<table border=\"1\" class=\"dataframe\">\n",
       "  <thead>\n",
       "    <tr style=\"text-align: right;\">\n",
       "      <th></th>\n",
       "      <th>бутявка</th>\n",
       "      <th>кролик</th>\n",
       "    </tr>\n",
       "  </thead>\n",
       "  <tbody>\n",
       "    <tr>\n",
       "      <th>Текст1</th>\n",
       "      <td>5</td>\n",
       "      <td>1</td>\n",
       "    </tr>\n",
       "    <tr>\n",
       "      <th>Текст2</th>\n",
       "      <td>1</td>\n",
       "      <td>3</td>\n",
       "    </tr>\n",
       "    <tr>\n",
       "      <th>Текст3</th>\n",
       "      <td>2</td>\n",
       "      <td>2</td>\n",
       "    </tr>\n",
       "  </tbody>\n",
       "</table>\n",
       "</div>"
      ],
      "text/plain": [
       "        бутявка  кролик\n",
       "Текст1        5       1\n",
       "Текст2        1       3\n",
       "Текст3        2       2"
      ]
     },
     "execution_count": 9,
     "metadata": {},
     "output_type": "execute_result"
    }
   ],
   "source": [
    "d = pd.DataFrame([[5, 1, 2], [1, 3, 2]]).T\n",
    "d.columns = ['бутявка', 'кролик']\n",
    "d.index = ['Текст1', 'Текст2', 'Текст3']\n",
    "d"
   ]
  },
  {
   "cell_type": "markdown",
   "metadata": {},
   "source": [
    "Теперь скажем, что частоты в строках ‒ это координаты вектора, соответствующего определенному документу. Так, вектор для первого текста имеет координаты (5, 1), для второго ‒ (1, 3) и для третьего ‒ (2, 2). Осталось представить эти векторы в пространстве слов, которые есть в нашем словаре (их всего два). Другими словами, *бутявка* и *кролик* будут осями координат, вдоль которых будут располагаться векторы документов. Посмотрим на картинку."
   ]
  },
  {
   "cell_type": "code",
   "execution_count": 23,
   "metadata": {},
   "outputs": [],
   "source": [
    "from matplotlib import pyplot as plt\n",
    "import numpy as np\n",
    "%matplotlib inline"
   ]
  },
  {
   "cell_type": "code",
   "execution_count": 32,
   "metadata": {},
   "outputs": [
    {
     "data": {
      "text/plain": [
       "<matplotlib.text.Text at 0x7ff09fb9f940>"
      ]
     },
     "execution_count": 32,
     "metadata": {},
     "output_type": "execute_result"
    },
    {
     "data": {
      "image/png": "[encoded data removed]",
      "text/plain": [
       "<matplotlib.figure.Figure at 0x7ff09fc0ccc0>"
      ]
     },
     "metadata": {},
     "output_type": "display_data"
    }
   ],
   "source": [
    "V = np.array([[5, 1],[1, 3],[2, 2]])\n",
    "origin = [0], [0] \n",
    "plt.quiver(*origin, V[:, 0], V[:, 1], angles='xy', scale_units='xy', scale=1)\n",
    "plt.xlim(0, 8)\n",
    "plt.ylim(0, 5)\n",
    "plt.xlabel('бутявка')\n",
    "plt.ylabel('кролик')\n",
    "plt.text(4, 1.5, 'текст1')\n",
    "plt.text(1, 3.5, 'текст2')\n",
    "plt.text(2, 2.5, 'текст3')"
   ]
  },
  {
   "cell_type": "markdown",
   "metadata": {},
   "source": [
    "Какую информацию мы можем извлечь из этого графика? Во-первых, то, что слова *бутявка* и *кролик* в данной модели считаются несвязанными (оси перпендикулярны друг другу). Во-вторых, видно, что текст 1 в большей степени посвящен бутявкам, так как соответствующий вектор ближе к оси `x`. В-третьих, видно, что текст 2 больше о кроликах, так как угол между этим вектором и осью `y` наименьший. Текст 3 находится \"посередине\", то есть он в равной степени и о бутявках, и о кроликах. \n",
    "\n",
    "Близость между документами можно определять по углу между соответствующими векторами: чем меньше угол, тем ближе тексты к друг другу по смыслу. На основе этой идеи строится кластеризация текстов: считается косинус угла между векторами, соответствующими каждой паре документов, затем на основе [косинусной меры близости](https://ru.wikipedia.org/wiki/%D0%92%D0%B5%D0%BA%D1%82%D0%BE%D1%80%D0%BD%D0%B0%D1%8F_%D0%BC%D0%BE%D0%B4%D0%B5%D0%BB%D1%8C) вычисляется расстояние, и далее полученное расстояние можно использовать для реализации кластерного анализа.\n",
    "\n",
    "В общем случае, когда в словаре $N$ слов, а документов $m$, эти $m$ векторов располагаются в $N$-мерном пространстве, и, хотя представить себе это невозможно, определить углы между векторами и посчитать косинусную близость можно достаточно легко (правда, при больших $N$ и $m$ небыстро). Кроме того, в более реалистичных задачах частота, с которой встречается каждое слово, определяется иначе. Вместо обычной частоты считается [мера](https://ru.wikipedia.org/wiki/TF-IDF) *tf-idf* (*term frequency - inverse document frequency*), которая позволяет оценить важность слова в контексте документа, а не просто число его вхождений в текст. Другими словами, эта мера помогает снизить значимость часто встречаемых слов, если они не несут в себе особенной информации о документе, и, наоборот, повысить значимость более редких слов, которые являются характерными для данного текста."
   ]
  },
  {
   "cell_type": "markdown",
   "metadata": {},
   "source": [
    "Теперь, когда мы разобрали саму идею Doc2Vec, можно приступить к его реализации. Импортируем класс `Doc2Vec` из модуля `models` библиотеки `gensim` и класс `TaggedDocument` для создания корпуса (набора документов). Библиотека `gensim` ‒ популярная [библиотека](https://radimrehurek.com/gensim/) для машинного обучения и, прежде всего, для текстового моделирования (Word2Vec, Doc2Vec, LDA, LSA и проч.). "
   ]
  },
  {
   "cell_type": "code",
   "execution_count": 33,
   "metadata": {},
   "outputs": [
    {
     "name": "stderr",
     "output_type": "stream",
     "text": [
      "Slow version of gensim.models.doc2vec is being used\n"
     ]
    }
   ],
   "source": [
    "from gensim.models import Doc2Vec\n",
    "from gensim.models.doc2vec import TaggedDocument"
   ]
  },
  {
   "cell_type": "markdown",
   "metadata": {},
   "source": [
    "Создадим список текстов, чтобы на его основе составить корпус, объект класса `TaggedDocument`, с обычным списком или словарем модель Doc2Vec работать не будет! Корпус ‒ это набор пар *id документа-текст документа*. Поскольку тексты у нас учебные, без заголовков и меток, в качестве *id* возьмем порядковый номер текста в таблице (через *enumerate*)."
   ]
  },
  {
   "cell_type": "code",
   "execution_count": 34,
   "metadata": {},
   "outputs": [],
   "source": [
    "Texts = list(df.words)\n",
    "\n",
    "docs = []\n",
    "for i, text in enumerate(Texts):\n",
    "    docs.append(TaggedDocument(text, [i])) # тэг обязательно должен быть списком, поэтому [i]"
   ]
  },
  {
   "cell_type": "markdown",
   "metadata": {},
   "source": [
    "Посмотрим, что получилось:"
   ]
  },
  {
   "cell_type": "code",
   "execution_count": 35,
   "metadata": {},
   "outputs": [
    {
     "data": {
      "text/plain": [
       "[TaggedDocument(words=['такое', 'сверхтекучесть', 'нам', 'известно', 'одно', 'проявление', 'способность', 'вещества', 'течь', 'трения', 'возьмете', 'ведро', 'гелия', 'поместите', 'любую', 'емкость', 'можете', 'двигать', 'вверх', 'вниз', 'стенками', 'емкости', 'возникнет', 'никакого', 'трения', 'сверхтекучесть', 'открыта', 'гелии4', 'объяснена', 'помощи', 'конденсата', 'бозе', 'эйнштейна', 'атомы', 'гелия4', 'существуют', 'форме', 'бозонов', 'могут', 'формировать', 'микроскопическое', 'квантовое', 'состояние', 'конденсат', 'бозе', 'эйнштейна', 'обычно', 'конденсаты', 'бозе', 'эйнштейна', 'это', 'сверхтекучие', 'материалы', 'менее', 'следует', 'сводить', 'друг', 'другу', 'например', 'сверхтекучем', 'гелии4', 'сила', 'взаимодействия', 'намного', 'других', 'сверхтекучих', 'материалах', 'поэтому', 'общая', 'картина', 'немного', 'сложнаяв', 'целом', 'состоянии', 'сверхтекучести', 'частицы', 'складываются', 'микроскопическое', 'квантовое', 'состояние', 'действуют', 'коллективно', 'наталкиваются', 'препятствие', 'рассеиваются', 'смотреть', 'это', 'точки', 'зрения', 'энергии', 'понять', 'любые', 'возбуждения', 'вне', 'этих', 'микроскопических', 'объектов', 'энергетически', 'невозможны', 'соотношение', 'энергией', 'импульсом', 'изменяется', 'таким', 'образом', 'возбуждения', 'возникает', 'этим', 'объясняется', 'факт', 'сверхтекучая', 'жидкость', 'течет', 'сопротивления'], tags=[0]),\n",
       " TaggedDocument(words=['возникают', 'новые', 'вопросы', 'вообще', 'сравнить', 'две', 'строки', 'поступить', 'консервативно', 'признавать', 'правильным', 'переводом', 'который', 'полностью', 'совпадает', 'эталоном', 'рискуем', 'забраковать', 'очень', 'переводов', 'которые', 'будут', 'абсолютно', 'правильными', 'будут', 'точности', 'совпадать', 'эталоном', 'русском', 'языке', 'порядок', 'слов', 'свободный', 'допускает', 'довольно', 'вариаций', 'например', 'предложения', 'завтра', 'еду', 'отпуск', 'завтра', 'еду', 'отпуск', 'смыслу', 'абсолютно', 'идентичны', 'одинаковая', 'синтаксическая', 'структура', 'просто', 'разный', 'порядок', 'слов', 'вместо', 'проверять', 'точное', 'соответствие', 'эталона', 'переводу', 'можем', 'проверять', 'соответствие', 'уровне', 'называемого', 'мешка', 'слов', 'проверять', 'учета', 'позиции', 'слов', 'перевод', 'признан', 'правильным', 'нем', 'просто', 'содержатся', 'те', 'слова', 'эталоне', 'неважно', 'каких', 'позициях', 'это', 'правильно', 'русский', 'язык', 'свободным', 'порядком', 'слов', 'таким', 'свободным', 'перестановок', 'допускает', 'подряд', 'например', 'поменяете', 'местами', 'подлежащее', 'сказуемое', 'это', 'приемлемо', 'поменяете', 'местами', 'предлог', 'существительное', 'которым', 'управляет', 'предложение', 'потеряет', 'смысл'], tags=[1]),\n",
       " TaggedDocument(words=['одно', 'интересное', 'употребление', 'редупликации', 'русском', 'языке', 'связано', 'значением', 'прототипичности', 'нам', 'сказать', 'какойто', 'объект', 'является', 'типичным', 'своего', 'класса', 'обладает', 'теми', 'свойствами', 'которые', 'обычно', 'связываются', 'такими', 'объектами', 'наших', 'представлениях', 'например', 'говорим', 'прямо', 'свадьбасвадьба', '―', 'это', 'значит', 'это', 'значит', 'такая', 'свадьба', 'прототипически', 'должна', 'устроена', 'свадьба', 'тамадой', 'кучей', 'гостей', 'конкурсами', 'лимузином', 'шариками', 'далее', 'например', 'входит', 'трамвай', 'такая', 'бабушкабабушка', '―', 'сразу', 'примерно', 'понятен', 'образ', 'женщины', 'входящей', 'трамвай', 'русском', 'языке', 'бывает', 'эхоредупликация', 'тюркского', 'типа', 'дупликация', 'м', 'вспомнить', 'слова', 'типа', 'шашлыкмашлык', 'гогольмоголь', 'далее', 'очень', 'хотя', 'сказать', 'такого', 'бывает', 'тех', 'русскоязычных', 'областях', 'имеется', 'контакт', 'тюркскими', 'языками', 'понимаем', 'россии', 'распространено', 'очень', 'тюркских', 'языков', 'например', 'чувашии', 'доводилось', 'слышать', 'поезде', 'недовольную', 'реплику', 'это', 'разложили', 'свои', 'сумкимумки', 'получается', 'такая', 'довольно', 'продуктивная', 'модель', 'образования', 'хотя', 'понятно', 'литературном', 'русском', 'языке', 'это', 'всетаки', 'очень', 'привычно'], tags=[2]),\n",
       " TaggedDocument(words=['устроены', 'редупликации', 'типа', 'маслицефигаслице', 'устроены', 'очень', 'интересно', 'фонетической', 'точки', 'зрения', 'берем', 'слово', 'дальше', 'повторить', 'берем', 'бранную', 'часть', 'скажем', 'фиг', 'добавляем', 'кусок', 'начиная', 'ударного', 'гласного', 'далее', '―', 'маслицефигаслице', 'несколько', 'вполне', 'реальных', 'примеров', 'текстов', 'интернете', 'комиссиифигиссии', 'анализыфигализы', 'трендыфигенды', 'бусикифигусики', 'правило', 'строго', 'соблюдается', 'это', 'видно', 'комиссии', 'ударный', 'гласный', 'соответственно', 'комиссиифигиссии', 'это', 'вполне', 'удобно', 'ситуации', 'ударный', 'гласный', 'находится', 'например', 'конце', 'слова', 'какиенибудь', 'дураки', 'этому', 'правилу', '―', 'должно', 'получиться', 'дуракифиги', 'обычно', 'бывает', 'добавляется', 'слог', 'этим', 'например', 'дуракифигаки'], tags=[3]),\n",
       " TaggedDocument(words=['курс', 'расстройства', 'личности', 'паранойи', 'истерии', 'биопсихосоциальной', 'модели', 'состоится', 'академии', 'постнауки', '11', '13', '15', 'сентября', '1900', '2215', 'автор', 'курса', 'илья', 'плужников', 'кандидат', 'психологических', 'наук', 'старший', 'научный', 'сотрудник', 'научного', 'центра', 'психического', 'здоровья', 'российской', 'академии', 'медицинских', 'наук', 'доцент', 'кафедры', 'нейро', 'патопсихологии', 'факультета', 'психологии', 'мгу', 'м', 'ломоносова'], tags=[4]),\n",
       " TaggedDocument(words=['сопротивление', 'соблазну', 'экономических', 'терминах', 'поведение', 'группы', 'характеризовалось', 'динамической', 'несогласованностью', 'сначала', 'предпочтительным', 'относительно', 'б', 'затем', 'приоритет', 'перешел', 'б', 'динамическая', 'несогласованность', 'нередкое', 'явление', 'субботним', 'утром', 'люди', 'заявляют', 'займутся', 'физкультурой', 'будут', 'сидеть', 'телевизором', 'полудню', 'дома', 'диване', 'смотрят', 'футбол', 'объяснить', 'такое', 'поведение', 'случае', 'кешью', 'действуют', 'фактора', 'искушение', 'бездумность', 'понятие', 'искушения', 'занимает', 'человеческие', 'умы', 'меньшей', 'мере', 'времен', 'адама', 'евы', 'теории', 'подталкивания', 'оно', 'также', 'важно', 'подразумеваем', 'говорим', 'соблазнительном', 'искушающем'], tags=[5]),\n",
       " TaggedDocument(words=['смысле', 'такое', 'картирование', 'осуществлено', 'любым', 'механизмом', 'например', 'биологической', 'нейронной', 'сетью', 'аналоговой', 'цифровой', 'сетью', 'физическим', 'контуром', 'такими', 'физическими', 'контурами', 'могут', 'опорнодвигательный', 'аппарат', 'живых', 'существ', 'различные', 'механические', 'структуры', 'например', 'экспериментах', 'моей', 'лаборатории', 'продемонстрировано', 'роботизированный', 'аналог', 'копыта', 'горного', 'козла', 'иметь', 'высокое', 'сопротивление', 'скольжению', 'счет', 'правильной', 'мягкости', 'основных', 'связок', 'сравнению', 'таким', 'копытом', 'котором', 'суставы', 'менее', 'подвижны', 'также', 'заметили', 'эффект', 'меняется', 'зависимости', 'разных', 'условий', 'местности', 'это', 'пример', 'механический', 'контур', 'тела', 'становится', 'важным', 'физическим', 'свойством', 'зависимости', 'условий', 'среды', 'определяющим', 'состояния', 'скольжения', 'количественные', 'характеристики', 'сопротивления', 'скольжению', 'количественные', 'характеристики', 'другом', 'пространстве'], tags=[6]),\n",
       " TaggedDocument(words=['существует', 'широко', 'распространенное', 'убеждение', 'французскую', 'революцию', 'совершил', 'народ', 'которым', 'обычно', 'понимаются', 'крестьянство', 'городской', 'плебс', 'однако', 'комплексное', 'изучение', 'различных', 'типов', 'массовых', 'движений', 'заставляет', 'большой', 'долей', 'осторожности', 'отнестись', 'этому', 'клише', 'обычно', 'ассоциируемые', 'революцией', 'массовые', 'выступления', 'плебса', 'подавляющем', 'своем', 'большинстве', 'преследовали', 'далеко', 'идущих', 'политических', 'целей', 'являлись', 'лишь', 'непосредственной', 'реакцией', 'информационные', 'поводы', 'вызывавшие', 'всплеск', 'коллективных', 'страхов', 'ситуации', 'общего', 'недовольства', 'текущими', 'экономическими', 'трудностями', 'условно', 'революционные', 'вспышки', 'протеста', 'идут', 'какое', 'сравнение', 'своим', 'масштабам', 'продолжительности', 'массовыми', 'народными', 'движениями', 'направленными', 'непосредственно', 'против', 'системы', 'ценностей', 'французской', 'революции', 'движениями', 'захватывавшими', 'целые', 'регионы', 'продолжавшимися', 'годами'], tags=[7])]"
      ]
     },
     "execution_count": 35,
     "metadata": {},
     "output_type": "execute_result"
    }
   ],
   "source": [
    "docs"
   ]
  },
  {
   "cell_type": "markdown",
   "metadata": {},
   "source": [
    "Теперь создадим модель."
   ]
  },
  {
   "cell_type": "code",
   "execution_count": 36,
   "metadata": {},
   "outputs": [
    {
     "data": {
      "text/plain": [
       "<gensim.models.doc2vec.Doc2Vec at 0x7ff09f59e6d8>"
      ]
     },
     "execution_count": 36,
     "metadata": {},
     "output_type": "execute_result"
    }
   ],
   "source": [
    "model = Doc2Vec()\n",
    "model"
   ]
  },
  {
   "cell_type": "markdown",
   "metadata": {},
   "source": [
    "Составим словарь (набор всех слов в тексте с id):"
   ]
  },
  {
   "cell_type": "code",
   "execution_count": 37,
   "metadata": {},
   "outputs": [],
   "source": [
    "model.build_vocab(docs)"
   ]
  },
  {
   "cell_type": "markdown",
   "metadata": {},
   "source": [
    "Осталось построить модель, прогнать ее 10 раз (10 \"эпох\"):"
   ]
  },
  {
   "cell_type": "code",
   "execution_count": 38,
   "metadata": {},
   "outputs": [
    {
     "name": "stderr",
     "output_type": "stream",
     "text": [
      "/home/oem/.local/lib/python3.5/site-packages/gensim/models/word2vec.py:772: UserWarning: C extension not loaded for Word2Vec, training will be slow. Install a C compiler and reinstall gensim for fast training.\n",
      "  warnings.warn(\"C extension not loaded for Word2Vec, training will be slow. \"\n"
     ]
    }
   ],
   "source": [
    "for epoch in range(10):\n",
    "    model.train(docs)\n",
    "    model.alpha -= 0.002  # уменьшить learning rate`\n",
    "    model.min_alpha = model.alpha"
   ]
  },
  {
   "cell_type": "markdown",
   "metadata": {},
   "source": [
    "Если Python выдает ошибку, посмотрите, что он пишет. Часто достаточно добавить дополнительные аргументы в `train()`, например, число эпох, равное 10 или еще что-нибудь."
   ]
  },
  {
   "cell_type": "markdown",
   "metadata": {},
   "source": [
    "Чтобы не прогонять модель заново при каждом запуске файла (особенно актуально в случае сложных моделей, которые обучаются несколько часов, а то и дней), ее можно сохранить в файл, а потом просто загрузить и продолжить с ней работать."
   ]
  },
  {
   "cell_type": "code",
   "execution_count": 39,
   "metadata": {},
   "outputs": [],
   "source": [
    "model.save('d2v_model') # сохраняем\n",
    "model = Doc2Vec.load('d2v_model') # открываем"
   ]
  },
  {
   "cell_type": "code",
   "execution_count": 40,
   "metadata": {},
   "outputs": [
    {
     "data": {
      "text/plain": [
       "8"
      ]
     },
     "execution_count": 40,
     "metadata": {},
     "output_type": "execute_result"
    }
   ],
   "source": [
    "model.corpus_count # сколько документов в корпусе"
   ]
  },
  {
   "cell_type": "markdown",
   "metadata": {},
   "source": [
    "Посмотрим на самые близкие к документу с индексом 0 тексты: "
   ]
  },
  {
   "cell_type": "code",
   "execution_count": 41,
   "metadata": {},
   "outputs": [
    {
     "data": {
      "text/plain": [
       "[(5, 0.12205836921930313),\n",
       " (7, 0.050673384219408035),\n",
       " (6, 0.03967006132006645),\n",
       " (1, 0.022813543677330017),\n",
       " (3, 0.01584635302424431),\n",
       " (2, -0.024669073522090912),\n",
       " (4, -0.10029617697000504)]"
      ]
     },
     "execution_count": 41,
     "metadata": {},
     "output_type": "execute_result"
    }
   ],
   "source": [
    "model.docvecs.most_similar([0]) # от самого близкого до самого далекого"
   ]
  },
  {
   "cell_type": "markdown",
   "metadata": {},
   "source": [
    "Посмотрим на сами тексты.  "
   ]
  },
  {
   "cell_type": "code",
   "execution_count": 42,
   "metadata": {},
   "outputs": [
    {
     "data": {
      "text/plain": [
       "'что такое сверхтекучесть нам известно одно ее проявление  способность вещества течь без трения если вы возьмете ведро гелия и поместите его в любую емкость вы можете двигать его вверх и вниз а между стенками емкости не возникнет никакого трения сверхтекучесть была открыта в гелии4 и объяснена при помощи конденсата бозе  эйнштейна потому что атомы гелия4 существуют в форме бозонов и могут формировать микроскопическое квантовое состояние  конденсат бозе  эйнштейна обычно конденсаты бозе  эйнштейна  это и есть сверхтекучие материалы тем не менее их не следует сводить друг к другу например в сверхтекучем гелии4 сила взаимодействия намного больше чем в других сверхтекучих материалах поэтому общая картина немного более сложнаяв целом в состоянии сверхтекучести частицы складываются в микроскопическое квантовое состояние и действуют коллективно если они наталкиваются на препятствие они не рассеиваются если смотреть на это с точки зрения энергии то можно понять что любые возбуждения вне этих микроскопических объектов энергетически невозможны потому что соотношение между энергией и импульсом изменяется таким образом что возбуждения не возникает этим объясняется тот факт что сверхтекучая жидкость течет без сопротивления'"
      ]
     },
     "execution_count": 42,
     "metadata": {},
     "output_type": "execute_result"
    }
   ],
   "source": [
    "df.text_norm[0]"
   ]
  },
  {
   "cell_type": "code",
   "execution_count": 43,
   "metadata": {},
   "outputs": [
    {
     "data": {
      "text/plain": [
       "'сопротивление соблазну в экономических терминах поведение группы характеризовалось динамической несогласованностью сначала а было предпочтительным относительно б а затем приоритет перешел к б динамическая несогласованность  нередкое явление субботним утром люди заявляют что лучше займутся физкультурой чем будут сидеть перед телевизором к полудню они все еще дома на диване смотрят футбол чем объяснить такое поведение\\nв случае с кешью действуют два фактора искушение и бездумность понятие искушения занимает человеческие умы по меньшей мере со времен адама и евы для теории подталкивания оно также важно что мы подразумеваем когда говорим о соблазнительном искушающем'"
      ]
     },
     "execution_count": 43,
     "metadata": {},
     "output_type": "execute_result"
    }
   ],
   "source": [
    "df.text_norm[5]"
   ]
  },
  {
   "cell_type": "markdown",
   "metadata": {},
   "source": [
    "На первый взгляд, документы как-то непохожи. Это очень логично, так как мы обучали модель всего на восьми коротеньких текстах, что явно недостаточно. С другой стороны, если вчитаться, сходство по словам найти можно: и там, и там речь идет о сопротивлении, возбуждении. Для получения более ярких результатов нужно брать более объемный корпус текстов и желательно с более длинными текстами. Но такие модели, скорее всего, будут долго обучаться, и их мы сегодня строить не будем. Можете попробовать сами, нагуглив какой-нибудь корпус новостных статей. Возможно, позже в порыве вдохновения я выложу какие-то результаты на более объемных корпусах."
   ]
  },
  {
   "cell_type": "markdown",
   "metadata": {},
   "source": [
    "### LDA: латентное размещение Дирихле"
   ]
  },
  {
   "cell_type": "markdown",
   "metadata": {},
   "source": [
    "Теперь перейдем к тематическому моделированию ‒ распределению текстов по темам (какие темы на основе имеющихся текстов можно выделить, и какие тексты к ним относятся). Один из самых распространенных методов в тематическом моделировании ‒ это латентное размещение Дирихле (*LDA*, *Latent Dirichlet Allocation*). Прежде чем знакомиться с идеей этого метода, имеет смысл обсудить, причем тут Дирихле. \n",
    "\n",
    "Основное предположение LDA заключается в том, что любой текст (документ) ‒ это смесь разных тем. Какая-то тема выражена более ярко, какая-то менее, какая-то совсем не представлена. Удобно представлять себе задачу распределения текстов по темам, проводя аналогию с экзаменационным заданием по иностранному языку, в котором необходимо сопоставить отрывки и заголовки. В каждом отрывке будет по чуть-чуть упоминаться практически каждая тема, связывающая заголовки, но главная тема будет одна. [Распределение Дирихле](https://ru.wikipedia.org/wiki/%D0%A0%D0%B0%D1%81%D0%BF%D1%80%D0%B5%D0%B4%D0%B5%D0%BB%D0%B5%D0%BD%D0%B8%D0%B5_%D0%94%D0%B8%D1%80%D0%B8%D1%85%D0%BB%D0%B5) ‒ это непрерывное многомерное распределение. Его можно задать параметром $\\alpha$ ‒ вектором длины $K$ вида ($\\alpha_1$, $\\alpha_2$, $\\dots$, $\\alpha_K$), где все $\\alpha_i$ лежат в пределах от 0 до 1, и сумма всех $\\alpha_i$ равна 1. Если присмотреться, можно заметить, что этот вектор $\\alpha$ хорошо описывает текст! Мы фиксируем $K$ ‒ число тем, которые можно выделить, а затем для каждого текста определяем $\\alpha = (\\alpha_1, \\alpha_2, \\dots, \\alpha_K$), то есть фиксируем вероятности $\\alpha_i$, с которыми каждая тема встречается в документе. Вероятности всегда лежат в пределах от 0 до 1, и их сумма равна 1 (конечно, речь идет о взаимоисключающих событиях).\n",
    "\n",
    "Как происходит обучение модели LDA? Мы фиксируем число тем $K$, исходя из наших содержательных соображений. Для каждого документа создается вектор $\\alpha$ длины $K$, элементы которого (вероятности встретить ту или иную тему) считаются так: в самом начале каждому слову в документе случайным образом присваивается тема, а затем вычисляется доля слов, относящихся к каждой теме. Далее вероятности в векторе $\\alpha$ считаются более разумным способом: на основе посчитанных условных вероятностей: вероятность встретить определенную тему в данном документе ($\\texttt{тема|документ}$) и вероятность встретить определенное слово в рамках данной темы ($\\texttt{слово|тема}$). Подробнее о механизме см. [здесь](http://blog.echen.me/2011/08/22/introduction-to-latent-dirichlet-allocation/). На выходе модель выдает список тем и топовые (часто встречающиеся) слова в рамках каждой темы."
   ]
  },
  {
   "cell_type": "markdown",
   "metadata": {},
   "source": [
    "Основная идея метода зафиксирована, давайте реализуем свой LDA! Работать, правда, будем тоже с учебными данными, совсем небольшим корпусом англоязычных текстов, которые были взяты (и сокращены) из [20 Newsgroups data set](http://qwone.com/~jason/20Newsgroups/). Можете пройти по ссылке, скачать все 20000 текстов (сами тексты небольшие, распакованный архив займет около 50 Мб) и построить более внятную тематическую модель."
   ]
  },
  {
   "cell_type": "markdown",
   "metadata": {},
   "source": [
    "Загрузим тексты из файла csv:"
   ]
  },
  {
   "cell_type": "code",
   "execution_count": 44,
   "metadata": {},
   "outputs": [
    {
     "data": {
      "text/html": [
       "<div>\n",
       "<style scoped>\n",
       "    .dataframe tbody tr th:only-of-type {\n",
       "        vertical-align: middle;\n",
       "    }\n",
       "\n",
       "    .dataframe tbody tr th {\n",
       "        vertical-align: top;\n",
       "    }\n",
       "\n",
       "    .dataframe thead th {\n",
       "        text-align: right;\n",
       "    }\n",
       "</style>\n",
       "<table border=\"1\" class=\"dataframe\">\n",
       "  <thead>\n",
       "    <tr style=\"text-align: right;\">\n",
       "      <th></th>\n",
       "      <th>post</th>\n",
       "    </tr>\n",
       "  </thead>\n",
       "  <tbody>\n",
       "    <tr>\n",
       "      <th>0</th>\n",
       "      <td>When they are victimized they are Muslims. Whe...</td>\n",
       "    </tr>\n",
       "    <tr>\n",
       "      <th>1</th>\n",
       "      <td>But, if you were to discuss the merits of raci...</td>\n",
       "    </tr>\n",
       "    <tr>\n",
       "      <th>2</th>\n",
       "      <td>Why do you restrict your condemnation of racia...</td>\n",
       "    </tr>\n",
       "    <tr>\n",
       "      <th>3</th>\n",
       "      <td>Do you have a strange definition of \"winning\"...</td>\n",
       "    </tr>\n",
       "    <tr>\n",
       "      <th>4</th>\n",
       "      <td>In article &lt;kmitchelC4wA87.HLz@netcom.com kmi...</td>\n",
       "    </tr>\n",
       "  </tbody>\n",
       "</table>\n",
       "</div>"
      ],
      "text/plain": [
       "                                                post\n",
       "0  When they are victimized they are Muslims. Whe...\n",
       "1  But, if you were to discuss the merits of raci...\n",
       "2  Why do you restrict your condemnation of racia...\n",
       "3   Do you have a strange definition of \"winning\"...\n",
       "4   In article <kmitchelC4wA87.HLz@netcom.com kmi..."
      ]
     },
     "execution_count": 44,
     "metadata": {},
     "output_type": "execute_result"
    }
   ],
   "source": [
    "d = pd.read_csv('https://raw.githubusercontent.com/allatambov/Py-programming-3/master/add/your_turn.csv')\n",
    "d.head()"
   ]
  },
  {
   "cell_type": "markdown",
   "metadata": {},
   "source": [
    "Выполним предварительную обработку текстов (переопределим функцию `filter_words()`, чтобы она убирала английские стоп-слова, а лучше создадим новую с окончанием `_en`):"
   ]
  },
  {
   "cell_type": "code",
   "execution_count": 46,
   "metadata": {},
   "outputs": [],
   "source": [
    "def filter_words_en(text, lang = 'english'):\n",
    "    \n",
    "    wordsFiltered = []\n",
    "    stopWords = set(stopwords.words(lang))\n",
    "    words = word_tokenize(text)\n",
    "\n",
    "    for w in words:\n",
    "        if w not in stopWords:\n",
    "            wordsFiltered.append(w)\n",
    "    return wordsFiltered"
   ]
  },
  {
   "cell_type": "code",
   "execution_count": 47,
   "metadata": {},
   "outputs": [],
   "source": [
    "d['text_norm'] = d.post.apply(normalize)\n",
    "d['words'] = d.text_norm.apply(filter_words_en)"
   ]
  },
  {
   "cell_type": "markdown",
   "metadata": {},
   "source": [
    "Импортируем класс `LdaModel`и модуль `corpora` для создания словаря (перечня всех слов)."
   ]
  },
  {
   "cell_type": "code",
   "execution_count": 48,
   "metadata": {},
   "outputs": [],
   "source": [
    "from gensim.models.ldamodel import LdaModel\n",
    "from gensim import corpora"
   ]
  },
  {
   "cell_type": "markdown",
   "metadata": {},
   "source": [
    "Создадим список текстов `texts`, на его основе создадим словарь `dict_`. Затем создадим корпус текстов."
   ]
  },
  {
   "cell_type": "code",
   "execution_count": 49,
   "metadata": {},
   "outputs": [],
   "source": [
    "texts = list(d.words)\n",
    "dict_ = corpora.Dictionary(texts)\n",
    "corpus =  [dict_.doc2bow(text) for text in texts]"
   ]
  },
  {
   "cell_type": "markdown",
   "metadata": {},
   "source": [
    "Осталось построить саму модель. Давайте считать, что в нашем наборе текстов присутствует пять тем (примерно так я их и отбирала: политика, религия, медицина, технологии, атеизм)."
   ]
  },
  {
   "cell_type": "code",
   "execution_count": 50,
   "metadata": {},
   "outputs": [],
   "source": [
    "lda = LdaModel(corpus, num_topics=5, id2word = dict_)"
   ]
  },
  {
   "cell_type": "markdown",
   "metadata": {},
   "source": [
    "При построении модели очень важно указать аргумент `id2word` и подставить в него созданный на предыдущем шаге словарь. Если этого не сделать, ничего страшного не случится, но тогда вместо самых распространенных слов в пределах каждой темы мы будем видеть их индексы. Конечно, можно найти слово по индексу в словаре, но это неудобно, учитывая, что слов обычно требуется немало.\n",
    "\n",
    "Выведем 5 тем и топовые слова для каждой темы (30 слов):"
   ]
  },
  {
   "cell_type": "code",
   "execution_count": 53,
   "metadata": {},
   "outputs": [
    {
     "data": {
      "text/plain": [
       "[(0,\n",
       "  '0.007*\"would\" + 0.005*\"one\" + 0.004*\"look\" + 0.004*\"like\" + 0.004*\"much\" + 0.004*\"lcd\" + 0.003*\"know\" + 0.003*\"people\" + 0.003*\"baseball\" + 0.003*\"board\" + 0.003*\"probably\" + 0.003*\"muslims\" + 0.003*\"dont\" + 0.003*\"since\" + 0.003*\"could\" + 0.003*\"good\" + 0.003*\"also\" + 0.002*\"first\" + 0.002*\"things\" + 0.002*\"believe\" + 0.002*\"im\" + 0.002*\"time\" + 0.002*\"even\" + 0.002*\"racism\" + 0.002*\"well\" + 0.002*\"right\" + 0.002*\"weight\" + 0.002*\"game\" + 0.002*\"bad\" + 0.002*\"use\"'),\n",
       " (1,\n",
       "  '0.006*\"one\" + 0.005*\"like\" + 0.004*\"dram\" + 0.004*\"use\" + 0.004*\"would\" + 0.004*\"health\" + 0.003*\"know\" + 0.003*\"dont\" + 0.003*\"anyone\" + 0.003*\"wont\" + 0.003*\"done\" + 0.003*\"insurance\" + 0.003*\"ive\" + 0.003*\"care\" + 0.002*\"may\" + 0.002*\"think\" + 0.002*\"blood\" + 0.002*\"though\" + 0.002*\"another\" + 0.002*\"private\" + 0.002*\"believe\" + 0.002*\"really\" + 0.002*\"make\" + 0.002*\"good\" + 0.002*\"im\" + 0.002*\"get\" + 0.002*\"cancer\" + 0.002*\"hospitals\" + 0.002*\"problem\" + 0.002*\"abortion\"'),\n",
       " (2,\n",
       "  '0.005*\"one\" + 0.005*\"first\" + 0.004*\"believe\" + 0.004*\"people\" + 0.004*\"two\" + 0.004*\"hit\" + 0.003*\"would\" + 0.003*\"home\" + 0.003*\"game\" + 0.003*\"second\" + 0.003*\"dont\" + 0.003*\"know\" + 0.003*\"runs\" + 0.003*\"like\" + 0.003*\"little\" + 0.003*\"antisemitism\" + 0.003*\"socks\" + 0.002*\"lilac\" + 0.002*\"going\" + 0.002*\"2\" + 0.002*\"wearing\" + 0.002*\"make\" + 0.002*\"3\" + 0.002*\"statements\" + 0.002*\"good\" + 0.002*\"third\" + 0.002*\"win\" + 0.002*\"run\" + 0.002*\"cubs\" + 0.002*\"era\"'),\n",
       " (3,\n",
       "  '0.005*\"one\" + 0.004*\"game\" + 0.004*\"time\" + 0.003*\"home\" + 0.003*\"first\" + 0.003*\"second\" + 0.003*\"runs\" + 0.003*\"would\" + 0.002*\"two\" + 0.002*\"since\" + 0.002*\"hit\" + 0.002*\"win\" + 0.002*\"well\" + 0.002*\"winning\" + 0.002*\"allowed\" + 0.002*\"like\" + 0.002*\"much\" + 0.002*\"third\" + 0.002*\"know\" + 0.002*\"teams\" + 0.002*\"get\" + 0.002*\"though\" + 0.002*\"people\" + 0.002*\"dont\" + 0.002*\"may\" + 0.002*\"got\" + 0.002*\"tax\" + 0.002*\"astros\" + 0.002*\"right\" + 0.002*\"cubs\"'),\n",
       " (4,\n",
       "  '0.007*\"first\" + 0.005*\"game\" + 0.004*\"second\" + 0.004*\"one\" + 0.004*\"home\" + 0.004*\"runs\" + 0.003*\"would\" + 0.003*\"like\" + 0.003*\"get\" + 0.003*\"two\" + 0.003*\"32\" + 0.003*\"balls\" + 0.002*\"cubs\" + 0.002*\"another\" + 0.002*\"cotton\" + 0.002*\"win\" + 0.002*\"much\" + 0.002*\"hit\" + 0.002*\"weight\" + 0.002*\"gets\" + 0.002*\"thing\" + 0.002*\"make\" + 0.002*\"dont\" + 0.002*\"got\" + 0.002*\"others\" + 0.002*\"schmidt\" + 0.002*\"mattingly\" + 0.002*\"back\" + 0.002*\"muslims\" + 0.002*\"astros\"')]"
      ]
     },
     "execution_count": 53,
     "metadata": {},
     "output_type": "execute_result"
    }
   ],
   "source": [
    "lda.print_topics(5, num_words=30)"
   ]
  },
  {
   "cell_type": "markdown",
   "metadata": {},
   "source": [
    "В очередной раз убедились, что а) работать с маленьким корпусом текстов бессмысленно, б) нужно лучше \"вычищать\" тексты от стоп-слов, добавляя свои слова в \"черный\" список. Что будет, если мы попробуем выделить больше тем?"
   ]
  },
  {
   "cell_type": "code",
   "execution_count": 56,
   "metadata": {},
   "outputs": [],
   "source": [
    "lda = LdaModel(corpus, num_topics=8, id2word = dict_)"
   ]
  },
  {
   "cell_type": "code",
   "execution_count": 57,
   "metadata": {},
   "outputs": [
    {
     "data": {
      "text/plain": [
       "[(0,\n",
       "  '0.007*\"dram\" + 0.006*\"would\" + 0.005*\"know\" + 0.005*\"use\" + 0.004*\"first\" + 0.004*\"seats\" + 0.004*\"home\" + 0.004*\"two\" + 0.003*\"data\" + 0.003*\"game\" + 0.003*\"chip\" + 0.003*\"baseball\" + 0.003*\"runs\" + 0.003*\"second\" + 0.003*\"one\" + 0.003*\"like\" + 0.003*\"anyone\" + 0.003*\"look\" + 0.003*\"power\" + 0.003*\"get\" + 0.003*\"dont\" + 0.003*\"could\" + 0.002*\"may\" + 0.002*\"another\" + 0.002*\"win\" + 0.002*\"handle\" + 0.002*\"1\" + 0.002*\"powerbook\" + 0.002*\"time\" + 0.002*\"picture\"'),\n",
       " (1,\n",
       "  '0.004*\"since\" + 0.004*\"would\" + 0.004*\"people\" + 0.003*\"think\" + 0.003*\"one\" + 0.003*\"time\" + 0.003*\"know\" + 0.003*\"first\" + 0.003*\"board\" + 0.003*\"going\" + 0.003*\"driving\" + 0.003*\"make\" + 0.002*\"like\" + 0.002*\"right\" + 0.002*\"cancer\" + 0.002*\"use\" + 0.002*\"era\" + 0.002*\"get\" + 0.002*\"im\" + 0.002*\"much\" + 0.002*\"well\" + 0.002*\"situation\" + 0.002*\"aux\" + 0.002*\"brain\" + 0.002*\"smoking\" + 0.002*\"good\" + 0.002*\"point\" + 0.002*\"drinking\" + 0.002*\"quite\" + 0.002*\"others\"'),\n",
       " (2,\n",
       "  '0.006*\"one\" + 0.006*\"like\" + 0.004*\"cotton\" + 0.004*\"believe\" + 0.004*\"first\" + 0.004*\"labor\" + 0.003*\"dont\" + 0.003*\"point\" + 0.003*\"would\" + 0.003*\"im\" + 0.003*\"world\" + 0.003*\"good\" + 0.003*\"american\" + 0.003*\"mechanization\" + 0.003*\"hit\" + 0.003*\"morality\" + 0.003*\"makes\" + 0.003*\"slavery\" + 0.003*\"agricultural\" + 0.003*\"get\" + 0.003*\"much\" + 0.003*\"think\" + 0.003*\"ball\" + 0.002*\"blood\" + 0.002*\"production\" + 0.002*\"guy\" + 0.002*\"better\" + 0.002*\"second\" + 0.002*\"many\" + 0.002*\"1\"'),\n",
       " (3,\n",
       "  '0.007*\"one\" + 0.005*\"believe\" + 0.005*\"weight\" + 0.005*\"antisemitism\" + 0.004*\"make\" + 0.004*\"little\" + 0.004*\"people\" + 0.004*\"like\" + 0.003*\"others\" + 0.003*\"didnt\" + 0.003*\"dont\" + 0.003*\"god\" + 0.003*\"also\" + 0.003*\"done\" + 0.003*\"whether\" + 0.003*\"two\" + 0.003*\"statements\" + 0.003*\"wont\" + 0.003*\"almost\" + 0.003*\"course\" + 0.003*\"hitler\" + 0.003*\"foundation\" + 0.003*\"germany\" + 0.003*\"muslims\" + 0.003*\"socks\" + 0.003*\"laid\" + 0.003*\"nazis\" + 0.003*\"going\" + 0.003*\"part\" + 0.002*\"lilac\"'),\n",
       " (4,\n",
       "  '0.005*\"game\" + 0.005*\"first\" + 0.005*\"one\" + 0.004*\"would\" + 0.004*\"two\" + 0.004*\"second\" + 0.003*\"know\" + 0.003*\"home\" + 0.003*\"health\" + 0.003*\"like\" + 0.003*\"runs\" + 0.003*\"hitter\" + 0.003*\"dont\" + 0.003*\"way\" + 0.002*\"well\" + 0.002*\"hit\" + 0.002*\"cubs\" + 0.002*\"teams\" + 0.002*\"third\" + 0.002*\"insurance\" + 0.002*\"baseball\" + 0.002*\"designated\" + 0.002*\"people\" + 0.002*\"right\" + 0.002*\"even\" + 0.002*\"win\" + 0.002*\"32\" + 0.002*\"since\" + 0.002*\"astros\" + 0.002*\"care\"'),\n",
       " (5,\n",
       "  '0.007*\"would\" + 0.006*\"racism\" + 0.005*\"believe\" + 0.005*\"could\" + 0.005*\"religion\" + 0.004*\"one\" + 0.004*\"weight\" + 0.004*\"bad\" + 0.004*\"first\" + 0.004*\"psychological\" + 0.004*\"benefits\" + 0.003*\"results\" + 0.003*\"works\" + 0.003*\"things\" + 0.003*\"well\" + 0.003*\"course\" + 0.003*\"someone\" + 0.003*\"give\" + 0.003*\"like\" + 0.003*\"right\" + 0.003*\"balls\" + 0.003*\"even\" + 0.003*\"done\" + 0.003*\"mean\" + 0.003*\"people\" + 0.003*\"belief\" + 0.003*\"lcd\" + 0.003*\"experiencing\" + 0.002*\"speak\" + 0.002*\"good\"'),\n",
       " (6,\n",
       "  '0.008*\"one\" + 0.006*\"first\" + 0.005*\"game\" + 0.005*\"home\" + 0.005*\"muslims\" + 0.004*\"people\" + 0.003*\"second\" + 0.003*\"dont\" + 0.003*\"islam\" + 0.003*\"back\" + 0.003*\"hit\" + 0.003*\"got\" + 0.003*\"runs\" + 0.003*\"would\" + 0.003*\"get\" + 0.002*\"hard\" + 0.002*\"bad\" + 0.002*\"know\" + 0.002*\"cotton\" + 0.002*\"cubs\" + 0.002*\"32\" + 0.002*\"win\" + 0.002*\"power\" + 0.002*\"another\" + 0.002*\"drive\" + 0.002*\"used\" + 0.002*\"two\" + 0.002*\"team\" + 0.002*\"muslim\" + 0.002*\"good\"'),\n",
       " (7,\n",
       "  '0.004*\"game\" + 0.004*\"would\" + 0.003*\"like\" + 0.003*\"runs\" + 0.003*\"home\" + 0.003*\"one\" + 0.003*\"though\" + 0.003*\"much\" + 0.003*\"second\" + 0.003*\"blood\" + 0.003*\"cancer\" + 0.003*\"since\" + 0.003*\"first\" + 0.003*\"good\" + 0.003*\"another\" + 0.002*\"look\" + 0.002*\"probably\" + 0.002*\"winning\" + 0.002*\"fact\" + 0.002*\"well\" + 0.002*\"cubs\" + 0.002*\"tax\" + 0.002*\"time\" + 0.002*\"astros\" + 0.002*\"last\" + 0.002*\"get\" + 0.002*\"run\" + 0.002*\"dont\" + 0.002*\"insurance\" + 0.002*\"third\"')]"
      ]
     },
     "execution_count": 57,
     "metadata": {},
     "output_type": "execute_result"
    }
   ],
   "source": [
    "lda.print_topics(8, num_words=30)"
   ]
  },
  {
   "cell_type": "markdown",
   "metadata": {},
   "source": [
    "Наверное, результаты получились чуть более разумным :) По крайней мере, здесь можно выделить темы *религия*, *политика* и *спорт*. Но, конечно, работать с таким малым числом документов несерьезно, этот пример был больше техническим, иллюстрирующим то, каким образом можно предобработать текст, сформировать корпус и обучить модель LDA.\n",
    "\n",
    "Возможно, позже я выложу более реалистичные примеры с LDA на большом объеме данных + дополню модель разными визуализациями, например, облаками слов для каждой темы."
   ]
  }
 ],
 "metadata": {
  "kernelspec": {
   "display_name": "Python 3",
   "language": "python",
   "name": "python3"
  },
  "language_info": {
   "codemirror_mode": {
    "name": "ipython",
    "version": 3
   },
   "file_extension": ".py",
   "mimetype": "text/x-python",
   "name": "python",
   "nbconvert_exporter": "python",
   "pygments_lexer": "ipython3",
   "version": "3.5.2"
  }
 },
 "nbformat": 4,
 "nbformat_minor": 2
}
