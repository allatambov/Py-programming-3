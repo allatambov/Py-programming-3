{
 "cells": [
  {
   "cell_type": "markdown",
   "metadata": {},
   "source": [
    "# Основы программирования в Python\n",
    "\n",
    "*Алла Тамбовцева, НИУ ВШЭ*"
   ]
  },
  {
   "cell_type": "markdown",
   "metadata": {},
   "source": [
    "## Web scraping в Python: библиотеки `requests` и `BeautifulSoup`"
   ]
  },
  {
   "cell_type": "markdown",
   "metadata": {},
   "source": [
    "Мы уже немного познакомились со структурой html-файлов, теперь попробуем выгрузить информацию из реальной страницы. Зайдем на [сайт](http://www.tulaoblduma.ru/) Тульской областной Думы в [раздел](http://www.tulaoblduma.ru/sostav_i_struktura/deputaty_tod/) *Депутаты Тульской областной Думы*. "
   ]
  },
  {
   "cell_type": "markdown",
   "metadata": {},
   "source": [
    "![](tula.png)"
   ]
  },
  {
   "cell_type": "markdown",
   "metadata": {},
   "source": [
    "**Наша задача:** выгрузить информацию о депутатах в датафрейм *pandas*, чтобы потом сохранить все в csv-файл.\n",
    "\n",
    "Сначала сгрузим весь html-код страницы и сохраним его в отдельную переменную. Для этого нам понадобится библиотека *requests*. "
   ]
  },
  {
   "cell_type": "code",
   "execution_count": 1,
   "metadata": {},
   "outputs": [],
   "source": [
    "import requests"
   ]
  },
  {
   "cell_type": "markdown",
   "metadata": {},
   "source": [
    "Сохраним ссылку в переменную `url` для удобства и выгрузим страницу. (Разумеется, это будет работать при подключении к интернету. Если соединение будет отключено, Python выдаст *NewConnectionError*)."
   ]
  },
  {
   "cell_type": "code",
   "execution_count": 2,
   "metadata": {},
   "outputs": [],
   "source": [
    "url = \"http://www.tulaoblduma.ru/sostav_i_struktura/deputaty_tod/\""
   ]
  },
  {
   "cell_type": "code",
   "execution_count": 3,
   "metadata": {},
   "outputs": [],
   "source": [
    "page = requests.get(url)"
   ]
  },
  {
   "cell_type": "markdown",
   "metadata": {},
   "source": [
    "Если мы просто посмотрим на объект, мы ничего особенного не увидим:"
   ]
  },
  {
   "cell_type": "code",
   "execution_count": 4,
   "metadata": {},
   "outputs": [
    {
     "data": {
      "text/plain": [
       "<Response [200]>"
      ]
     },
     "execution_count": 4,
     "metadata": {},
     "output_type": "execute_result"
    }
   ],
   "source": [
    "page"
   ]
  },
  {
   "cell_type": "markdown",
   "metadata": {},
   "source": [
    "Поэтому импортируем *BeautifulSoup* и скормим одноименной функции страницу в виде текста:"
   ]
  },
  {
   "cell_type": "code",
   "execution_count": 5,
   "metadata": {},
   "outputs": [],
   "source": [
    "from bs4 import BeautifulSoup"
   ]
  },
  {
   "cell_type": "code",
   "execution_count": 6,
   "metadata": {},
   "outputs": [],
   "source": [
    "text = page.text\n",
    "soup = BeautifulSoup(text, \"lxml\")"
   ]
  },
  {
   "cell_type": "markdown",
   "metadata": {},
   "source": [
    "Если выведем `soup` на экран, мы увидим то же самое, что в режиме разработчика или в режиме происмотра исходного кода (`view-source` через *Ctrl+U*). "
   ]
  },
  {
   "cell_type": "code",
   "execution_count": null,
   "metadata": {},
   "outputs": [],
   "source": [
    "soup"
   ]
  },
  {
   "cell_type": "markdown",
   "metadata": {},
   "source": [
    "Для просмотра выглядит не очень удобно. \"Причешем\" наш `soup` ‒ воспользуемся методом `.prettify()` в сочетании с функцией `print()`."
   ]
  },
  {
   "cell_type": "code",
   "execution_count": null,
   "metadata": {},
   "outputs": [],
   "source": [
    "print(soup.prettify())"
   ]
  },
  {
   "cell_type": "markdown",
   "metadata": {},
   "source": [
    "В такой выдаче ориентироваться гораздо удобнее (но при желании, то же можно увидеть в браузере, на большом экране). \n",
    "\n",
    "\n",
    "Теперь вернемся к нашей задаче. Видно, что информация о депутатах представлена в таблице. Следовательно, поиск нужно производить по тэгу `<table>`. Воспользуемся методом `.find_all()`:"
   ]
  },
  {
   "cell_type": "code",
   "execution_count": null,
   "metadata": {},
   "outputs": [],
   "source": [
    "soup.find_all('table')"
   ]
  },
  {
   "cell_type": "markdown",
   "metadata": {},
   "source": [
    "Метод `.find_all` возращает список с кусками html-кода, которые соответствуют указанному тэгу.\n",
    "И тут мы сталкиваемся с проблемой. Несмотря на то, что визуально кажется, что таблица одна, на странице их несколько (меню сверху, содержание снизу и прочее). Найдем длину полученного выше списка:"
   ]
  },
  {
   "cell_type": "code",
   "execution_count": 7,
   "metadata": {},
   "outputs": [
    {
     "data": {
      "text/plain": [
       "5"
      ]
     },
     "execution_count": 7,
     "metadata": {},
     "output_type": "execute_result"
    }
   ],
   "source": [
    "len(soup.find_all('table')) # целых пять таблиц"
   ]
  },
  {
   "cell_type": "markdown",
   "metadata": {},
   "source": [
    "Если мы посмотрим на исходный код страницы и посчитаем тэги `<table>`, мы обнаружим, что нужная нам таблица третья, то есть с индексом 2. "
   ]
  },
  {
   "cell_type": "code",
   "execution_count": 8,
   "metadata": {},
   "outputs": [
    {
     "data": {
      "text/plain": [
       "<table class=\"deputats\" width=\"100%\">\n",
       "<tbody>\n",
       "<thead><tr>\n",
       "<td align=\"center\" valign=\"center\" width=\"5%\"><b>Фото</b></td>\n",
       "<td align=\"center\" valign=\"center\" width=\"20%\"><b>ФИО</b></td>\n",
       "<td align=\"center\" valign=\"center\" width=\"25%\"><b>Фракция</b></td>\n",
       "<td align=\"center\" valign=\"center\" width=\"25%\"><b>Комитет</b></td>\n",
       "<td align=\"center\" valign=\"center\" width=\"25%\"><b>Комиссия</b></td>\n",
       "</tr></thead>\n",
       "<tr>\n",
       "<td width=\"5%\"><a href=\"deputat_info.php?117692\"><img alt=\"\" border=\"0\" height=\"67\" src=\"/upload/iblock/5a3/abakumov1.jpg\" width=\"50\"/></a></td>\n",
       "<td valign=\"top\" width=\"20%\"><a href=\"deputat_info.php?117692\">Абакумов Владимир Евгеньевич</a></td>\n",
       "<td valign=\"top\" width=\"25%\">Фракция «Единая Россия»<br/>Член фракции</td>\n",
       "<td valign=\"top\" width=\"25%\"><a href=\"/sostav_i_struktura/sostav_komitetov_i_komissiy/index.php#8285\">Комитет по строительству, жилищно-коммунальному и дорожному хозяйству </a><br/>Член комитета</td>\n",
       "<td valign=\"top\" width=\"25%\"><a href=\"/sostav_i_struktura/sostav_komitetov_i_komissiy/index.php#\"></a><br/></td>\n",
       "</tr>\n",
       "<tr>\n",
       "<td width=\"5%\"><a href=\"deputat_info.php?117732\"><img alt=\"\" border=\"0\" height=\"67\" src=\"/upload/iblock/26e/aleshina.jpg\" width=\"50\"/></a></td>\n",
       "<td valign=\"top\" width=\"20%\"><a href=\"deputat_info.php?117732\">Алёшина Галина Ивановна</a></td>\n",
       "<td valign=\"top\" width=\"25%\">Фракция «Единая Россия»<br/>Член фракции</td>\n",
       "<td valign=\"top\" width=\"25%\"><a href=\"/sostav_i_struktura/sostav_komitetov_i_komissiy/index.php#151\">Комитет по социальной политике</a><br/>Член комитета</td>\n",
       "<td valign=\"top\" width=\"25%\"><a href=\"/sostav_i_struktura/sostav_komitetov_i_komissiy/index.php#174\">Комиссия по регламенту и депутатской этике</a><br/>Член комиссии</td>\n",
       "</tr>\n",
       "<tr>\n",
       "<td width=\"5%\"><a href=\"deputat_info.php?117693\"><img alt=\"\" border=\"0\" height=\"67\" src=\"/upload/iblock/b38/Alhovik.jpg\" width=\"50\"/></a></td>\n",
       "<td valign=\"top\" width=\"20%\"><a href=\"deputat_info.php?117693\">Альховик Алексей Иванович</a></td>\n",
       "<td valign=\"top\" width=\"25%\">Фракция «Единая Россия»<br/>Член фракции</td>\n",
       "<td valign=\"top\" width=\"25%\"><a href=\"/sostav_i_struktura/sostav_komitetov_i_komissiy/index.php#151\">Комитет по социальной политике</a><br/>Член комитета</td>\n",
       "<td valign=\"top\" width=\"25%\"><a href=\"/sostav_i_struktura/sostav_komitetov_i_komissiy/index.php#\"></a><br/></td>\n",
       "</tr>\n",
       "<tr>\n",
       "<td width=\"5%\"><a href=\"deputat_info.php?117729\"><img alt=\"\" border=\"0\" height=\"67\" src=\"/upload/iblock/e38/Artemjev.jpg\" width=\"50\"/></a></td>\n",
       "<td valign=\"top\" width=\"20%\"><a href=\"deputat_info.php?117729\">Артемьев Сергей Александрович</a></td>\n",
       "<td valign=\"top\" width=\"25%\">Фракция «Единая Россия»<br/>Член фракции</td>\n",
       "<td valign=\"top\" width=\"25%\"><a href=\"/sostav_i_struktura/sostav_komitetov_i_komissiy/index.php#149\">Комитет по вопросам собственности и земельным отношениям</a><br/>Член комитета</td>\n",
       "<td valign=\"top\" width=\"25%\"><a href=\"/sostav_i_struktura/sostav_komitetov_i_komissiy/index.php#\"></a><br/></td>\n",
       "</tr>\n",
       "<tr>\n",
       "<td width=\"5%\"><a href=\"deputat_info.php?117694\"><img alt=\"\" border=\"0\" height=\"67\" src=\"/upload/iblock/269/Atanov.jpg\" width=\"50\"/></a></td>\n",
       "<td valign=\"top\" width=\"20%\"><a href=\"deputat_info.php?117694\">Атанов Егор Васильевич</a></td>\n",
       "<td valign=\"top\" width=\"25%\">Фракция «Единая Россия»<br/>Член фракции</td>\n",
       "<td valign=\"top\" width=\"25%\"><a href=\"/sostav_i_struktura/sostav_komitetov_i_komissiy/index.php#149\">Комитет по вопросам собственности и земельным отношениям</a><br/>Член комитета</td>\n",
       "<td valign=\"top\" width=\"25%\"><a href=\"/sostav_i_struktura/sostav_komitetov_i_komissiy/index.php#\"></a><br/></td>\n",
       "</tr>\n",
       "<tr>\n",
       "<td width=\"5%\"><a href=\"deputat_info.php?117727\"><img alt=\"\" border=\"0\" height=\"67\" src=\"/upload/iblock/b93/balberov.jpg\" width=\"50\"/></a></td>\n",
       "<td valign=\"top\" width=\"20%\"><a href=\"deputat_info.php?117727\">Балберов Александр Александрович</a></td>\n",
       "<td valign=\"top\" width=\"25%\">Фракция «ЛДПР»<br/>Руководитель фракции</td>\n",
       "<td valign=\"top\" width=\"25%\"><a href=\"/sostav_i_struktura/sostav_komitetov_i_komissiy/index.php#151\"></a><br/> </td>\n",
       "<td valign=\"top\" width=\"25%\"><a href=\"/sostav_i_struktura/sostav_komitetov_i_komissiy/index.php#\"></a><br/></td>\n",
       "</tr>\n",
       "<tr>\n",
       "<td width=\"5%\"><a href=\"deputat_info.php?117695\"><img alt=\"\" border=\"0\" height=\"67\" src=\"/upload/iblock/37a/Belov.jpg\" width=\"50\"/></a></td>\n",
       "<td valign=\"top\" width=\"20%\"><a href=\"deputat_info.php?117695\">Белов Сергей Александрович</a></td>\n",
       "<td valign=\"top\" width=\"25%\">Фракция «Единая Россия»<br/>Член фракции</td>\n",
       "<td valign=\"top\" width=\"25%\"><a href=\"/sostav_i_struktura/sostav_komitetov_i_komissiy/index.php#150\">Комитет по государственному строительству, безопасности и местному самоуправлению</a><br/>Член комитета</td>\n",
       "<td valign=\"top\" width=\"25%\"><a href=\"/sostav_i_struktura/sostav_komitetov_i_komissiy/index.php#\"></a><br/></td>\n",
       "</tr>\n",
       "<tr>\n",
       "<td width=\"5%\"><a href=\"deputat_info.php?2931\"><img alt=\"\" border=\"0\" height=\"67\" src=\"/upload/iblock/c94/Bychkov.jpg\" width=\"50\"/></a></td>\n",
       "<td valign=\"top\" width=\"20%\"><a href=\"deputat_info.php?2931\">Бычков Денис Владимирович</a></td>\n",
       "<td valign=\"top\" width=\"25%\"><br/> </td>\n",
       "<td valign=\"top\" width=\"25%\"><a href=\"/sostav_i_struktura/sostav_komitetov_i_komissiy/index.php#149\">Комитет по вопросам собственности и земельным отношениям</a><br/>Член комитета</td>\n",
       "<td valign=\"top\" width=\"25%\"><a href=\"/sostav_i_struktura/sostav_komitetov_i_komissiy/index.php#\"></a><br/></td>\n",
       "</tr>\n",
       "<tr>\n",
       "<td width=\"5%\"><a href=\"deputat_info.php?117696\"><img alt=\"\" border=\"0\" height=\"67\" src=\"/upload/iblock/4ed/vorobjev.jpg\" width=\"50\"/></a></td>\n",
       "<td valign=\"top\" width=\"20%\"><a href=\"deputat_info.php?117696\">Воробьев Николай Юрьевич</a></td>\n",
       "<td valign=\"top\" width=\"25%\">Фракция «Единая Россия»<br/>Член фракции</td>\n",
       "<td valign=\"top\" width=\"25%\"><a href=\"/sostav_i_struktura/sostav_komitetov_i_komissiy/index.php#148\">Комитет по экономической политике и финансам</a><br/>Член комитета</td>\n",
       "<td valign=\"top\" width=\"25%\"><a href=\"/sostav_i_struktura/sostav_komitetov_i_komissiy/index.php#\"></a><br/></td>\n",
       "</tr>\n",
       "<tr>\n",
       "<td width=\"5%\"><a href=\"deputat_info.php?117726\"><img alt=\"\" border=\"0\" height=\"67\" src=\"/upload/iblock/cba/vystavkin.jpeg\" width=\"50\"/></a></td>\n",
       "<td valign=\"top\" width=\"20%\"><a href=\"deputat_info.php?117726\">Выставкин Михаил Борисович</a></td>\n",
       "<td valign=\"top\" width=\"25%\">Фракция «ЛДПР»<br/>Заместитель руководителя фракции</td>\n",
       "<td valign=\"top\" width=\"25%\"><a href=\"/sostav_i_struktura/sostav_komitetov_i_komissiy/index.php#149\">Комитет по вопросам собственности и земельным отношениям</a><br/>Председатель комитета</td>\n",
       "<td valign=\"top\" width=\"25%\"><a href=\"/sostav_i_struktura/sostav_komitetov_i_komissiy/index.php#\"></a><br/></td>\n",
       "</tr>\n",
       "<tr>\n",
       "<td width=\"5%\"><a href=\"deputat_info.php?117697\"><img alt=\"\" border=\"0\" height=\"67\" src=\"/upload/iblock/99f/gryazev2.jpg\" width=\"50\"/></a></td>\n",
       "<td valign=\"top\" width=\"20%\"><a href=\"deputat_info.php?117697\">Грязев Михаил Васильевич</a></td>\n",
       "<td valign=\"top\" width=\"25%\">Фракция «Единая Россия»<br/>Член фракции</td>\n",
       "<td valign=\"top\" width=\"25%\"><a href=\"/sostav_i_struktura/sostav_komitetov_i_komissiy/index.php#8285\">Комитет по строительству, жилищно-коммунальному и дорожному хозяйству </a><br/>Член комитета</td>\n",
       "<td valign=\"top\" width=\"25%\"><a href=\"/sostav_i_struktura/sostav_komitetov_i_komissiy/index.php#\"></a><br/></td>\n",
       "</tr>\n",
       "<tr>\n",
       "<td width=\"5%\"><a href=\"deputat_info.php?117728\"><img alt=\"\" border=\"0\" height=\"67\" src=\"/upload/iblock/466/ermakovas1.jpg\" width=\"50\"/></a></td>\n",
       "<td valign=\"top\" width=\"20%\"><a href=\"deputat_info.php?117728\">Ермаков Александр Сергеевич</a></td>\n",
       "<td valign=\"top\" width=\"25%\">Фракция «Единая Россия»<br/>Член фракции</td>\n",
       "<td valign=\"top\" width=\"25%\"><a href=\"/sostav_i_struktura/sostav_komitetov_i_komissiy/index.php#148\">Комитет по экономической политике и финансам</a><br/>Член комитета</td>\n",
       "<td valign=\"top\" width=\"25%\"><a href=\"/sostav_i_struktura/sostav_komitetov_i_komissiy/index.php#\"></a><br/></td>\n",
       "</tr>\n",
       "<tr>\n",
       "<td width=\"5%\"><a href=\"deputat_info.php?118913\"><img alt=\"\" border=\"0\" height=\"67\" src=\"/upload/iblock/66c/Zayceva.jpg\" width=\"50\"/></a></td>\n",
       "<td valign=\"top\" width=\"20%\"><a href=\"deputat_info.php?118913\">Зайцева Ольга Сергеевна</a></td>\n",
       "<td valign=\"top\" width=\"25%\">Фракция «Единая Россия»<br/>Член фракции</td>\n",
       "<td valign=\"top\" width=\"25%\"><a href=\"/sostav_i_struktura/sostav_komitetov_i_komissiy/index.php#151\">Комитет по социальной политике</a><br/>Председатель комитета</td>\n",
       "<td valign=\"top\" width=\"25%\"><a href=\"/sostav_i_struktura/sostav_komitetov_i_komissiy/index.php#\"></a><br/></td>\n",
       "</tr>\n",
       "<tr>\n",
       "<td width=\"5%\"><a href=\"deputat_info.php?117737\"><img alt=\"\" border=\"0\" height=\"67\" src=\"/upload/iblock/3e9/zaletin1.jpg\" width=\"50\"/></a></td>\n",
       "<td valign=\"top\" width=\"20%\"><a href=\"deputat_info.php?117737\">Залетин Сергей Викторович</a></td>\n",
       "<td valign=\"top\" width=\"25%\">Фракция «Единая Россия»<br/>Член фракции</td>\n",
       "<td valign=\"top\" width=\"25%\"><a href=\"/sostav_i_struktura/sostav_komitetov_i_komissiy/index.php#150\">Комитет по государственному строительству, безопасности и местному самоуправлению</a><br/>Член комитета</td>\n",
       "<td valign=\"top\" width=\"25%\"><a href=\"/sostav_i_struktura/sostav_komitetov_i_komissiy/index.php#\"></a><br/></td>\n",
       "</tr>\n",
       "<tr>\n",
       "<td width=\"5%\"><a href=\"deputat_info.php?117698\"><img alt=\"\" border=\"0\" height=\"67\" src=\"/upload/iblock/8fd/ivancov.jpg\" width=\"50\"/></a></td>\n",
       "<td valign=\"top\" width=\"20%\"><a href=\"deputat_info.php?117698\">Иванцов Михаил Евгеньевич</a></td>\n",
       "<td valign=\"top\" width=\"25%\">Фракция «Единая Россия»<br/>Член фракции</td>\n",
       "<td valign=\"top\" width=\"25%\"><a href=\"/sostav_i_struktura/sostav_komitetov_i_komissiy/index.php#149\">Комитет по вопросам собственности и земельным отношениям</a><br/>Член комитета</td>\n",
       "<td valign=\"top\" width=\"25%\"><a href=\"/sostav_i_struktura/sostav_komitetov_i_komissiy/index.php#\"></a><br/></td>\n",
       "</tr>\n",
       "<tr>\n",
       "<td width=\"5%\"><a href=\"deputat_info.php?117734\"><img alt=\"\" border=\"0\" height=\"67\" src=\"/upload/iblock/f2b/Kirjanova.jpg\" width=\"50\"/></a></td>\n",
       "<td valign=\"top\" width=\"20%\"><a href=\"deputat_info.php?117734\">Кирьянова Елена Сергеевна</a></td>\n",
       "<td valign=\"top\" width=\"25%\">Фракция «Единая Россия»<br/>Член фракции</td>\n",
       "<td valign=\"top\" width=\"25%\"><a href=\"/sostav_i_struktura/sostav_komitetov_i_komissiy/index.php#8285\">Комитет по строительству, жилищно-коммунальному и дорожному хозяйству </a><br/>Член комитета</td>\n",
       "<td valign=\"top\" width=\"25%\"><a href=\"/sostav_i_struktura/sostav_komitetov_i_komissiy/index.php#174\">Комиссия по регламенту и депутатской этике</a><br/>Член комиссии</td>\n",
       "</tr>\n",
       "<tr>\n",
       "<td width=\"5%\"><a href=\"deputat_info.php?117699\"><img alt=\"\" border=\"0\" height=\"67\" src=\"/upload/iblock/23d/Kondrashov.jpg\" width=\"50\"/></a></td>\n",
       "<td valign=\"top\" width=\"20%\"><a href=\"deputat_info.php?117699\">Кондрашов Юрий Викторович</a></td>\n",
       "<td valign=\"top\" width=\"25%\">Фракция «Единая Россия»<br/>Член фракции</td>\n",
       "<td valign=\"top\" width=\"25%\"><a href=\"/sostav_i_struktura/sostav_komitetov_i_komissiy/index.php#149\">Комитет по вопросам собственности и земельным отношениям</a><br/>Член комитета</td>\n",
       "<td valign=\"top\" width=\"25%\"><a href=\"/sostav_i_struktura/sostav_komitetov_i_komissiy/index.php#\"></a><br/></td>\n",
       "</tr>\n",
       "<tr>\n",
       "<td width=\"5%\"><a href=\"deputat_info.php?118914\"><img alt=\"\" border=\"0\" height=\"67\" src=\"/upload/iblock/0d8/Kotik.jpg\" width=\"50\"/></a></td>\n",
       "<td valign=\"top\" width=\"20%\"><a href=\"deputat_info.php?118914\">Котик Людмила Ивановна</a></td>\n",
       "<td valign=\"top\" width=\"25%\">Фракция «Единая Россия»<br/>Член фракции</td>\n",
       "<td valign=\"top\" width=\"25%\"><a href=\"/sostav_i_struktura/sostav_komitetov_i_komissiy/index.php#151\">Комитет по социальной политике</a><br/>Член комитета</td>\n",
       "<td valign=\"top\" width=\"25%\"><a href=\"/sostav_i_struktura/sostav_komitetov_i_komissiy/index.php#\"></a><br/></td>\n",
       "</tr>\n",
       "<tr>\n",
       "<td width=\"5%\"><a href=\"deputat_info.php?117723\"><img alt=\"\" border=\"0\" height=\"67\" src=\"/upload/iblock/165/Lebedev.jpg\" width=\"50\"/></a></td>\n",
       "<td valign=\"top\" width=\"20%\"><a href=\"deputat_info.php?117723\">Лебедев Алексей Александрович</a></td>\n",
       "<td valign=\"top\" width=\"25%\">Фракция «КПРФ»<br/>Руководитель фракции</td>\n",
       "<td valign=\"top\" width=\"25%\"><a href=\"/sostav_i_struktura/sostav_komitetov_i_komissiy/index.php#151\"></a><br/> </td>\n",
       "<td valign=\"top\" width=\"25%\"><a href=\"/sostav_i_struktura/sostav_komitetov_i_komissiy/index.php#\"></a><br/></td>\n",
       "</tr>\n",
       "<tr>\n",
       "<td width=\"5%\"><a href=\"deputat_info.php?117742\"><img alt=\"\" border=\"0\" height=\"67\" src=\"/upload/iblock/eb3/makarovec.jpg\" width=\"50\"/></a></td>\n",
       "<td valign=\"top\" width=\"20%\"><a href=\"deputat_info.php?117742\">Макаровец Николай Александрович</a></td>\n",
       "<td valign=\"top\" width=\"25%\">Фракция «Единая Россия»<br/>Член фракции</td>\n",
       "<td valign=\"top\" width=\"25%\"><a href=\"/sostav_i_struktura/sostav_komitetov_i_komissiy/index.php#149\">Комитет по вопросам собственности и земельным отношениям</a><br/>Член комитета</td>\n",
       "<td valign=\"top\" width=\"25%\"><a href=\"/sostav_i_struktura/sostav_komitetov_i_komissiy/index.php#\"></a><br/></td>\n",
       "</tr>\n",
       "<tr>\n",
       "<td width=\"5%\"><a href=\"deputat_info.php?117738\"><img alt=\"\" border=\"0\" height=\"67\" src=\"/upload/iblock/293/Malazonia.jpg\" width=\"50\"/></a></td>\n",
       "<td valign=\"top\" width=\"20%\"><a href=\"deputat_info.php?117738\">Малазония Надежда Николаевна</a></td>\n",
       "<td valign=\"top\" width=\"25%\">Фракция «Единая Россия»<br/>Член фракции</td>\n",
       "<td valign=\"top\" width=\"25%\"><a href=\"/sostav_i_struktura/sostav_komitetov_i_komissiy/index.php#151\">Комитет по социальной политике</a><br/>Член комитета</td>\n",
       "<td valign=\"top\" width=\"25%\"><a href=\"/sostav_i_struktura/sostav_komitetov_i_komissiy/index.php#\"></a><br/></td>\n",
       "</tr>\n",
       "<tr>\n",
       "<td width=\"5%\"><a href=\"deputat_info.php?117725\"><img alt=\"\" border=\"0\" height=\"67\" src=\"/upload/iblock/acd/3x4_112x150.jpg\" width=\"50\"/></a></td>\n",
       "<td valign=\"top\" width=\"20%\"><a href=\"deputat_info.php?117725\">Марьясова Юлия Александровна</a></td>\n",
       "<td valign=\"top\" width=\"25%\">Фракция «Единая Россия»<br/>Руководитель фракции</td>\n",
       "<td valign=\"top\" width=\"25%\"><a href=\"/sostav_i_struktura/sostav_komitetov_i_komissiy/index.php#151\"></a><br/> </td>\n",
       "<td valign=\"top\" width=\"25%\"><a href=\"/sostav_i_struktura/sostav_komitetov_i_komissiy/index.php#\"></a><br/></td>\n",
       "</tr>\n",
       "<tr>\n",
       "<td width=\"5%\"><a href=\"deputat_info.php?117731\"><img alt=\"\" border=\"0\" height=\"67\" src=\"/upload/iblock/909/moiseev.jpg\" width=\"50\"/></a></td>\n",
       "<td valign=\"top\" width=\"20%\"><a href=\"deputat_info.php?117731\">Моисеев Юрий Фясыхович</a></td>\n",
       "<td valign=\"top\" width=\"25%\">Фракция «КПРФ»<br/>Заместитель руководителя фракции</td>\n",
       "<td valign=\"top\" width=\"25%\"><a href=\"/sostav_i_struktura/sostav_komitetov_i_komissiy/index.php#148\">Комитет по экономической политике и финансам</a><br/>Член комитета</td>\n",
       "<td valign=\"top\" width=\"25%\"><a href=\"/sostav_i_struktura/sostav_komitetov_i_komissiy/index.php#174\">Комиссия по регламенту и депутатской этике</a><br/>Член комиссии</td>\n",
       "</tr>\n",
       "<tr>\n",
       "<td width=\"5%\"><a href=\"deputat_info.php?117724\"><img alt=\"\" border=\"0\" height=\"67\" src=\"/upload/iblock/89a/Moscalec.jpg\" width=\"50\"/></a></td>\n",
       "<td valign=\"top\" width=\"20%\"><a href=\"deputat_info.php?117724\">Москалец Александр Петрович</a></td>\n",
       "<td valign=\"top\" width=\"25%\">Фракция «Единая Россия»<br/>Член фракции</td>\n",
       "<td valign=\"top\" width=\"25%\"><a href=\"/sostav_i_struktura/sostav_komitetov_i_komissiy/index.php#151\"></a><br/> </td>\n",
       "<td valign=\"top\" width=\"25%\"><a href=\"/sostav_i_struktura/sostav_komitetov_i_komissiy/index.php#174\">Комиссия по регламенту и депутатской этике</a><br/>Руководитель комиссии</td>\n",
       "</tr>\n",
       "<tr>\n",
       "<td width=\"5%\"><a href=\"deputat_info.php?117735\"><img alt=\"\" border=\"0\" height=\"67\" src=\"/upload/iblock/464/Nikolaeva.jpg\" width=\"50\"/></a></td>\n",
       "<td valign=\"top\" width=\"20%\"><a href=\"deputat_info.php?117735\">Николаева Наталия Вячеславовна</a></td>\n",
       "<td valign=\"top\" width=\"25%\">Фракция «Единая Россия»<br/>Член фракции</td>\n",
       "<td valign=\"top\" width=\"25%\"><a href=\"/sostav_i_struktura/sostav_komitetov_i_komissiy/index.php#148\">Комитет по экономической политике и финансам</a><br/>Член комитета</td>\n",
       "<td valign=\"top\" width=\"25%\"><a href=\"/sostav_i_struktura/sostav_komitetov_i_komissiy/index.php#\"></a><br/></td>\n",
       "</tr>\n",
       "<tr>\n",
       "<td width=\"5%\"><a href=\"deputat_info.php?117700\"><img alt=\"\" border=\"0\" height=\"67\" src=\"/upload/iblock/5b4/Nuzhdihin.jpg\" width=\"50\"/></a></td>\n",
       "<td valign=\"top\" width=\"20%\"><a href=\"deputat_info.php?117700\">Нуждихин Григорий Вячеславович</a></td>\n",
       "<td valign=\"top\" width=\"25%\">Фракция «Единая Россия»<br/>Член фракции</td>\n",
       "<td valign=\"top\" width=\"25%\"><a href=\"/sostav_i_struktura/sostav_komitetov_i_komissiy/index.php#150\">Комитет по государственному строительству, безопасности и местному самоуправлению</a><br/>Член комитета</td>\n",
       "<td valign=\"top\" width=\"25%\"><a href=\"/sostav_i_struktura/sostav_komitetov_i_komissiy/index.php#\"></a><br/></td>\n",
       "</tr>\n",
       "<tr>\n",
       "<td width=\"5%\"><a href=\"deputat_info.php?133117\"><img alt=\"\" border=\"0\" height=\"67\" src=\"/upload/iblock/a5c/Panin1.jpg\" width=\"50\"/></a></td>\n",
       "<td valign=\"top\" width=\"20%\"><a href=\"deputat_info.php?133117\">Панин Владимир Алексеевич</a></td>\n",
       "<td valign=\"top\" width=\"25%\">Фракция «Единая Россия»<br/>Член фракции</td>\n",
       "<td valign=\"top\" width=\"25%\"><a href=\"/sostav_i_struktura/sostav_komitetov_i_komissiy/index.php#148\">Комитет по экономической политике и финансам</a><br/>Член комитета</td>\n",
       "<td valign=\"top\" width=\"25%\"><a href=\"/sostav_i_struktura/sostav_komitetov_i_komissiy/index.php#\"></a><br/></td>\n",
       "</tr>\n",
       "<tr>\n",
       "<td width=\"5%\"><a href=\"deputat_info.php?131799\"><img alt=\"\" border=\"0\" height=\"67\" src=\"/upload/iblock/29a/Paramonova.jpg\" width=\"50\"/></a></td>\n",
       "<td valign=\"top\" width=\"20%\"><a href=\"deputat_info.php?131799\">Парамонова Ольга Владимировна</a></td>\n",
       "<td valign=\"top\" width=\"25%\">Фракция «Единая Россия»<br/>Член фракции</td>\n",
       "<td valign=\"top\" width=\"25%\"><a href=\"/sostav_i_struktura/sostav_komitetov_i_komissiy/index.php#150\">Комитет по государственному строительству, безопасности и местному самоуправлению</a><br/>Член комитета</td>\n",
       "<td valign=\"top\" width=\"25%\"><a href=\"/sostav_i_struktura/sostav_komitetov_i_komissiy/index.php#\"></a><br/></td>\n",
       "</tr>\n",
       "<tr>\n",
       "<td width=\"5%\"><a href=\"deputat_info.php?117701\"><img alt=\"\" border=\"0\" height=\"67\" src=\"/upload/iblock/ae4/popov_s.jpg\" width=\"50\"/></a></td>\n",
       "<td valign=\"top\" width=\"20%\"><a href=\"deputat_info.php?117701\">Попов Николай Кузьмич</a></td>\n",
       "<td valign=\"top\" width=\"25%\">Фракция «Единая Россия»<br/>Член фракции</td>\n",
       "<td valign=\"top\" width=\"25%\"><a href=\"/sostav_i_struktura/sostav_komitetov_i_komissiy/index.php#148\">Комитет по экономической политике и финансам</a><br/>Член комитета</td>\n",
       "<td valign=\"top\" width=\"25%\"><a href=\"/sostav_i_struktura/sostav_komitetov_i_komissiy/index.php#\"></a><br/></td>\n",
       "</tr>\n",
       "<tr>\n",
       "<td width=\"5%\"><a href=\"deputat_info.php?117702\"><img alt=\"\" border=\"0\" height=\"64\" src=\"/upload/iblock/95b/rem.jpg\" width=\"50\"/></a></td>\n",
       "<td valign=\"top\" width=\"20%\"><a href=\"deputat_info.php?117702\">Рем Александр Викторович</a></td>\n",
       "<td valign=\"top\" width=\"25%\">Фракция «Единая Россия»<br/>Член фракции</td>\n",
       "<td valign=\"top\" width=\"25%\"><a href=\"/sostav_i_struktura/sostav_komitetov_i_komissiy/index.php#148\">Комитет по экономической политике и финансам</a><br/>Председатель комитета</td>\n",
       "<td valign=\"top\" width=\"25%\"><a href=\"/sostav_i_struktura/sostav_komitetov_i_komissiy/index.php#\"></a><br/></td>\n",
       "</tr>\n",
       "<tr>\n",
       "<td width=\"5%\"><a href=\"deputat_info.php?117703\"><img alt=\"\" border=\"0\" height=\"67\" src=\"/upload/iblock/ac4/samoshin_A_A.jpg\" width=\"50\"/></a></td>\n",
       "<td valign=\"top\" width=\"20%\"><a href=\"deputat_info.php?117703\">Самошин Андрей Анатольевич</a></td>\n",
       "<td valign=\"top\" width=\"25%\">Фракция «Единая Россия»<br/>Член фракции</td>\n",
       "<td valign=\"top\" width=\"25%\"><a href=\"/sostav_i_struktura/sostav_komitetov_i_komissiy/index.php#149\">Комитет по вопросам собственности и земельным отношениям</a><br/>Член комитета</td>\n",
       "<td valign=\"top\" width=\"25%\"><a href=\"/sostav_i_struktura/sostav_komitetov_i_komissiy/index.php#\"></a><br/></td>\n",
       "</tr>\n",
       "<tr>\n",
       "<td width=\"5%\"><a href=\"deputat_info.php?117740\"><img alt=\"\" border=\"0\" height=\"67\" src=\"/upload/iblock/603/simonov.jpg\" width=\"50\"/></a></td>\n",
       "<td valign=\"top\" width=\"20%\"><a href=\"deputat_info.php?117740\">Симонов Александр Федорович</a></td>\n",
       "<td valign=\"top\" width=\"25%\">Фракция «Единая Россия»<br/>Член фракции</td>\n",
       "<td valign=\"top\" width=\"25%\"><a href=\"/sostav_i_struktura/sostav_komitetov_i_komissiy/index.php#151\">Комитет по социальной политике</a><br/>Член комитета</td>\n",
       "<td valign=\"top\" width=\"25%\"><a href=\"/sostav_i_struktura/sostav_komitetov_i_komissiy/index.php#\"></a><br/></td>\n",
       "</tr>\n",
       "<tr>\n",
       "<td width=\"5%\"><a href=\"deputat_info.php?117704\"><img alt=\"\" border=\"0\" height=\"67\" src=\"/upload/iblock/9f9/Sljusareva.jpg\" width=\"50\"/></a></td>\n",
       "<td valign=\"top\" width=\"20%\"><a href=\"deputat_info.php?117704\">Слюсарева Ольга Анатольевна</a></td>\n",
       "<td valign=\"top\" width=\"25%\">Фракция «Единая Россия»<br/>Член фракции</td>\n",
       "<td valign=\"top\" width=\"25%\"><a href=\"/sostav_i_struktura/sostav_komitetov_i_komissiy/index.php#8285\">Комитет по строительству, жилищно-коммунальному и дорожному хозяйству </a><br/>Председатель комитета</td>\n",
       "<td valign=\"top\" width=\"25%\"><a href=\"/sostav_i_struktura/sostav_komitetov_i_komissiy/index.php#\"></a><br/></td>\n",
       "</tr>\n",
       "<tr>\n",
       "<td width=\"5%\"><a href=\"deputat_info.php?117705\"><img alt=\"\" border=\"0\" height=\"67\" src=\"/upload/iblock/64d/Sudarikov.jpg\" width=\"50\"/></a></td>\n",
       "<td valign=\"top\" width=\"20%\"><a href=\"deputat_info.php?117705\">Судариков Анатолий Павлович</a></td>\n",
       "<td valign=\"top\" width=\"25%\">Фракция «Единая Россия»<br/>Член фракции</td>\n",
       "<td valign=\"top\" width=\"25%\"><a href=\"/sostav_i_struktura/sostav_komitetov_i_komissiy/index.php#8285\">Комитет по строительству, жилищно-коммунальному и дорожному хозяйству </a><br/>Член комитета</td>\n",
       "<td valign=\"top\" width=\"25%\"><a href=\"/sostav_i_struktura/sostav_komitetov_i_komissiy/index.php#\"></a><br/></td>\n",
       "</tr>\n",
       "<tr>\n",
       "<td width=\"5%\"><a href=\"deputat_info.php?117706\"><img alt=\"\" border=\"0\" height=\"67\" src=\"/upload/iblock/084/Tesov.jpg\" width=\"50\"/></a></td>\n",
       "<td valign=\"top\" width=\"20%\"><a href=\"deputat_info.php?117706\">Тесов Михаил Николаевич</a></td>\n",
       "<td valign=\"top\" width=\"25%\">Фракция «Единая Россия»<br/>Член фракции</td>\n",
       "<td valign=\"top\" width=\"25%\"><a href=\"/sostav_i_struktura/sostav_komitetov_i_komissiy/index.php#150\">Комитет по государственному строительству, безопасности и местному самоуправлению</a><br/>Член комитета</td>\n",
       "<td valign=\"top\" width=\"25%\"><a href=\"/sostav_i_struktura/sostav_komitetov_i_komissiy/index.php#\"></a><br/></td>\n",
       "</tr>\n",
       "<tr>\n",
       "<td width=\"5%\"><a href=\"deputat_info.php?117707\"><img alt=\"\" border=\"0\" height=\"67\" src=\"/upload/iblock/c2d/Tolstaja.jpg\" width=\"50\"/></a></td>\n",
       "<td valign=\"top\" width=\"20%\"><a href=\"deputat_info.php?117707\">Толстая Екатерина Александровна</a></td>\n",
       "<td valign=\"top\" width=\"25%\">Фракция «Единая Россия»<br/>Член фракции</td>\n",
       "<td valign=\"top\" width=\"25%\"><a href=\"/sostav_i_struktura/sostav_komitetov_i_komissiy/index.php#151\">Комитет по социальной политике</a><br/>Член комитета</td>\n",
       "<td valign=\"top\" width=\"25%\"><a href=\"/sostav_i_struktura/sostav_komitetov_i_komissiy/index.php#174\">Комиссия по регламенту и депутатской этике</a><br/>Член комиссии</td>\n",
       "</tr>\n",
       "<tr>\n",
       "<td width=\"5%\"><a href=\"deputat_info.php?117708\"><img alt=\"\" border=\"0\" height=\"67\" src=\"/upload/iblock/652/trifonov.jpg\" width=\"50\"/></a></td>\n",
       "<td valign=\"top\" width=\"20%\"><a href=\"deputat_info.php?117708\">Трифонов Виктор Александрович</a></td>\n",
       "<td valign=\"top\" width=\"25%\"><br/> </td>\n",
       "<td valign=\"top\" width=\"25%\"><a href=\"/sostav_i_struktura/sostav_komitetov_i_komissiy/index.php#150\">Комитет по государственному строительству, безопасности и местному самоуправлению</a><br/>Председатель комитета</td>\n",
       "<td valign=\"top\" width=\"25%\"><a href=\"/sostav_i_struktura/sostav_komitetov_i_komissiy/index.php#\"></a><br/></td>\n",
       "</tr>\n",
       "<tr>\n",
       "<td width=\"5%\"><a href=\"deputat_info.php?117709\"><img alt=\"\" border=\"0\" height=\"69\" src=\"/upload/iblock/0b4/haritonov.jpg\" width=\"50\"/></a></td>\n",
       "<td valign=\"top\" width=\"20%\"><a href=\"deputat_info.php?117709\">Харитонов Сергей Алексеевич</a></td>\n",
       "<td valign=\"top\" width=\"25%\">Фракция «Единая Россия»<br/>Член фракции</td>\n",
       "<td valign=\"top\" width=\"25%\"><a href=\"/sostav_i_struktura/sostav_komitetov_i_komissiy/index.php#151\"></a><br/> </td>\n",
       "<td valign=\"top\" width=\"25%\"><a href=\"/sostav_i_struktura/sostav_komitetov_i_komissiy/index.php#\"></a><br/></td>\n",
       "</tr>\n",
       "</tbody>\n",
       "</table>"
      ]
     },
     "execution_count": 8,
     "metadata": {},
     "output_type": "execute_result"
    }
   ],
   "source": [
    "soup.find_all('table')[2]"
   ]
  },
  {
   "cell_type": "markdown",
   "metadata": {},
   "source": [
    "Обязательно ли считать таблицы вручную? Зависит от страницы. Давайте посмотрим внимательнее на атрибуты объектов типа `table` в html-коде и проверим, можно ли поступить проще. Если сравнивать кусочки кода для разных таблиц, видно, что у таблицы с депутатами есть отличительная черта ‒ класс `deputats`:"
   ]
  },
  {
   "cell_type": "raw",
   "metadata": {},
   "source": [
    "<table class=\"deputats\" width=\"100%\">"
   ]
  },
  {
   "cell_type": "markdown",
   "metadata": {},
   "source": [
    "Этой особенностью можно было воспользоваться ‒ указать атрибут в виде словаря:"
   ]
  },
  {
   "cell_type": "code",
   "execution_count": null,
   "metadata": {},
   "outputs": [],
   "source": [
    "soup.find_all('table', {\"class\": \"deputats\"})"
   ]
  },
  {
   "cell_type": "markdown",
   "metadata": {},
   "source": [
    "И считать ничего не пришлось! Сохраним результат и будем двигаться дальше. "
   ]
  },
  {
   "cell_type": "code",
   "execution_count": 9,
   "metadata": {},
   "outputs": [],
   "source": [
    "table = soup.find_all('table', {\"class\": \"deputats\"})[0] # 0 - индекс единственного элемента в списке выше"
   ]
  },
  {
   "cell_type": "markdown",
   "metadata": {},
   "source": [
    "Таблицу нашли, теперь из нее нужно извлечь имена депутатов и их партийную принадлежность. Сначала разберемся с именами. По коду видно, что и имена, и партии, и комитеты с комиссиями заключены в тэги `<td>`. Можно ли найти какую-то зацепку, чтобы ловить имена? Да! Посмотрите внимательно на атрибут `valign`. У ячеек с ФИО он равен `\"top\"`. Этим-то мы и воспользуемся."
   ]
  },
  {
   "cell_type": "code",
   "execution_count": 10,
   "metadata": {},
   "outputs": [
    {
     "name": "stdout",
     "output_type": "stream",
     "text": [
      "Абакумов Владимир Евгеньевич\n",
      "Фракция «Единая Россия»Член фракции\n",
      "Комитет по строительству, жилищно-коммунальному и дорожному хозяйству Член комитета\n",
      "\n",
      "Алёшина Галина Ивановна\n",
      "Фракция «Единая Россия»Член фракции\n",
      "Комитет по социальной политикеЧлен комитета\n",
      "Комиссия по регламенту и депутатской этикеЧлен комиссии\n",
      "Альховик Алексей Иванович\n",
      "Фракция «Единая Россия»Член фракции\n",
      "Комитет по социальной политикеЧлен комитета\n",
      "\n",
      "Артемьев Сергей Александрович\n",
      "Фракция «Единая Россия»Член фракции\n",
      "Комитет по вопросам собственности и земельным отношениямЧлен комитета\n",
      "\n",
      "Атанов Егор Васильевич\n",
      "Фракция «Единая Россия»Член фракции\n",
      "Комитет по вопросам собственности и земельным отношениямЧлен комитета\n",
      "\n",
      "Балберов Александр Александрович\n",
      "Фракция «ЛДПР»Руководитель фракции\n",
      " \n",
      "\n",
      "Белов Сергей Александрович\n",
      "Фракция «Единая Россия»Член фракции\n",
      "Комитет по государственному строительству, безопасности и местному самоуправлениюЧлен комитета\n",
      "\n",
      "Бычков Денис Владимирович\n",
      " \n",
      "Комитет по вопросам собственности и земельным отношениямЧлен комитета\n",
      "\n",
      "Воробьев Николай Юрьевич\n",
      "Фракция «Единая Россия»Член фракции\n",
      "Комитет по экономической политике и финансамЧлен комитета\n",
      "\n",
      "Выставкин Михаил Борисович\n",
      "Фракция «ЛДПР»Заместитель руководителя фракции\n",
      "Комитет по вопросам собственности и земельным отношениямПредседатель комитета\n",
      "\n",
      "Грязев Михаил Васильевич\n",
      "Фракция «Единая Россия»Член фракции\n",
      "Комитет по строительству, жилищно-коммунальному и дорожному хозяйству Член комитета\n",
      "\n",
      "Ермаков Александр Сергеевич\n",
      "Фракция «Единая Россия»Член фракции\n",
      "Комитет по экономической политике и финансамЧлен комитета\n",
      "\n",
      "Зайцева Ольга Сергеевна\n",
      "Фракция «Единая Россия»Член фракции\n",
      "Комитет по социальной политикеПредседатель комитета\n",
      "\n",
      "Залетин Сергей Викторович\n",
      "Фракция «Единая Россия»Член фракции\n",
      "Комитет по государственному строительству, безопасности и местному самоуправлениюЧлен комитета\n",
      "\n",
      "Иванцов Михаил Евгеньевич\n",
      "Фракция «Единая Россия»Член фракции\n",
      "Комитет по вопросам собственности и земельным отношениямЧлен комитета\n",
      "\n",
      "Кирьянова Елена Сергеевна\n",
      "Фракция «Единая Россия»Член фракции\n",
      "Комитет по строительству, жилищно-коммунальному и дорожному хозяйству Член комитета\n",
      "Комиссия по регламенту и депутатской этикеЧлен комиссии\n",
      "Кондрашов Юрий Викторович\n",
      "Фракция «Единая Россия»Член фракции\n",
      "Комитет по вопросам собственности и земельным отношениямЧлен комитета\n",
      "\n",
      "Котик Людмила Ивановна\n",
      "Фракция «Единая Россия»Член фракции\n",
      "Комитет по социальной политикеЧлен комитета\n",
      "\n",
      "Лебедев Алексей Александрович\n",
      "Фракция «КПРФ»Руководитель фракции\n",
      " \n",
      "\n",
      "Макаровец Николай Александрович\n",
      "Фракция «Единая Россия»Член фракции\n",
      "Комитет по вопросам собственности и земельным отношениямЧлен комитета\n",
      "\n",
      "Малазония Надежда Николаевна\n",
      "Фракция «Единая Россия»Член фракции\n",
      "Комитет по социальной политикеЧлен комитета\n",
      "\n",
      "Марьясова Юлия Александровна\n",
      "Фракция «Единая Россия»Руководитель фракции\n",
      " \n",
      "\n",
      "Моисеев Юрий Фясыхович\n",
      "Фракция «КПРФ»Заместитель руководителя фракции\n",
      "Комитет по экономической политике и финансамЧлен комитета\n",
      "Комиссия по регламенту и депутатской этикеЧлен комиссии\n",
      "Москалец Александр Петрович\n",
      "Фракция «Единая Россия»Член фракции\n",
      " \n",
      "Комиссия по регламенту и депутатской этикеРуководитель комиссии\n",
      "Николаева Наталия Вячеславовна\n",
      "Фракция «Единая Россия»Член фракции\n",
      "Комитет по экономической политике и финансамЧлен комитета\n",
      "\n",
      "Нуждихин Григорий Вячеславович\n",
      "Фракция «Единая Россия»Член фракции\n",
      "Комитет по государственному строительству, безопасности и местному самоуправлениюЧлен комитета\n",
      "\n",
      "Панин Владимир Алексеевич\n",
      "Фракция «Единая Россия»Член фракции\n",
      "Комитет по экономической политике и финансамЧлен комитета\n",
      "\n",
      "Парамонова Ольга Владимировна\n",
      "Фракция «Единая Россия»Член фракции\n",
      "Комитет по государственному строительству, безопасности и местному самоуправлениюЧлен комитета\n",
      "\n",
      "Попов Николай Кузьмич\n",
      "Фракция «Единая Россия»Член фракции\n",
      "Комитет по экономической политике и финансамЧлен комитета\n",
      "\n",
      "Рем Александр Викторович\n",
      "Фракция «Единая Россия»Член фракции\n",
      "Комитет по экономической политике и финансамПредседатель комитета\n",
      "\n",
      "Самошин Андрей Анатольевич\n",
      "Фракция «Единая Россия»Член фракции\n",
      "Комитет по вопросам собственности и земельным отношениямЧлен комитета\n",
      "\n",
      "Симонов Александр Федорович\n",
      "Фракция «Единая Россия»Член фракции\n",
      "Комитет по социальной политикеЧлен комитета\n",
      "\n",
      "Слюсарева Ольга Анатольевна\n",
      "Фракция «Единая Россия»Член фракции\n",
      "Комитет по строительству, жилищно-коммунальному и дорожному хозяйству Председатель комитета\n",
      "\n",
      "Судариков Анатолий Павлович\n",
      "Фракция «Единая Россия»Член фракции\n",
      "Комитет по строительству, жилищно-коммунальному и дорожному хозяйству Член комитета\n",
      "\n",
      "Тесов Михаил Николаевич\n",
      "Фракция «Единая Россия»Член фракции\n",
      "Комитет по государственному строительству, безопасности и местному самоуправлениюЧлен комитета\n",
      "\n",
      "Толстая Екатерина Александровна\n",
      "Фракция «Единая Россия»Член фракции\n",
      "Комитет по социальной политикеЧлен комитета\n",
      "Комиссия по регламенту и депутатской этикеЧлен комиссии\n",
      "Трифонов Виктор Александрович\n",
      " \n",
      "Комитет по государственному строительству, безопасности и местному самоуправлениюПредседатель комитета\n",
      "\n",
      "Харитонов Сергей Алексеевич\n",
      "Фракция «Единая Россия»Член фракции\n",
      " \n",
      "\n"
     ]
    }
   ],
   "source": [
    "for t in table.find_all('td', valign = \"top\"):\n",
    "    print(t.text)"
   ]
  },
  {
   "cell_type": "markdown",
   "metadata": {},
   "source": [
    "Что получилось? Атрибутом `valign=\"top\"` обладают не только ячейки с именами! Давайте найдем другую зацепку, но чтобы наверняка! Обратим внимание на атрибут `width` ‒ ширина ячейки. У ФИО он равен 20%, а у других ‒ 25%! Воспользуемся этим фактом."
   ]
  },
  {
   "cell_type": "code",
   "execution_count": 11,
   "metadata": {},
   "outputs": [
    {
     "name": "stdout",
     "output_type": "stream",
     "text": [
      "Абакумов Владимир Евгеньевич\n",
      "Алёшина Галина Ивановна\n",
      "Альховик Алексей Иванович\n",
      "Артемьев Сергей Александрович\n",
      "Атанов Егор Васильевич\n",
      "Балберов Александр Александрович\n",
      "Белов Сергей Александрович\n",
      "Бычков Денис Владимирович\n",
      "Воробьев Николай Юрьевич\n",
      "Выставкин Михаил Борисович\n",
      "Грязев Михаил Васильевич\n",
      "Ермаков Александр Сергеевич\n",
      "Зайцева Ольга Сергеевна\n",
      "Залетин Сергей Викторович\n",
      "Иванцов Михаил Евгеньевич\n",
      "Кирьянова Елена Сергеевна\n",
      "Кондрашов Юрий Викторович\n",
      "Котик Людмила Ивановна\n",
      "Лебедев Алексей Александрович\n",
      "Макаровец Николай Александрович\n",
      "Малазония Надежда Николаевна\n",
      "Марьясова Юлия Александровна\n",
      "Моисеев Юрий Фясыхович\n",
      "Москалец Александр Петрович\n",
      "Николаева Наталия Вячеславовна\n",
      "Нуждихин Григорий Вячеславович\n",
      "Панин Владимир Алексеевич\n",
      "Парамонова Ольга Владимировна\n",
      "Попов Николай Кузьмич\n",
      "Рем Александр Викторович\n",
      "Самошин Андрей Анатольевич\n",
      "Симонов Александр Федорович\n",
      "Слюсарева Ольга Анатольевна\n",
      "Судариков Анатолий Павлович\n",
      "Тесов Михаил Николаевич\n",
      "Толстая Екатерина Александровна\n",
      "Трифонов Виктор Александрович\n",
      "Харитонов Сергей Алексеевич\n"
     ]
    }
   ],
   "source": [
    "for t in table.find_all('td', valign= \"top\", width = \"20%\"):\n",
    "    print(t.text)"
   ]
  },
  {
   "cell_type": "markdown",
   "metadata": {},
   "source": [
    "Получилось!\n",
    "\n",
    "(К слову, при создании своих html-страниц очень рекомендуется задавать размер в относительном, а не абсолютном виде, то есть в процентах от общего размера страницы, а не фиксированным числом. Если выставить определенную ширину объекта, например, 10 см, то она никак не будет изменяться в зависимости от браузера, масштаба, устройства, на котором просматривается страница, что плохо.)\n",
    "\n",
    "Будем выбирать только те ячейки, где `width` равен `25%`. Из них будем доставать только текст (ФИО) и добавлять его в заранее приготовленный пустой список `names`."
   ]
  },
  {
   "cell_type": "code",
   "execution_count": 12,
   "metadata": {},
   "outputs": [],
   "source": [
    "names = []\n",
    "for t in table.find_all('td', valign= \"top\", width = \"20%\"):\n",
    "    names.append(t.text)"
   ]
  },
  {
   "cell_type": "markdown",
   "metadata": {},
   "source": [
    "Посмотрим на список:"
   ]
  },
  {
   "cell_type": "code",
   "execution_count": 13,
   "metadata": {},
   "outputs": [
    {
     "data": {
      "text/plain": [
       "['Абакумов Владимир Евгеньевич',\n",
       " 'Алёшина Галина Ивановна',\n",
       " 'Альховик Алексей Иванович',\n",
       " 'Артемьев Сергей Александрович',\n",
       " 'Атанов Егор Васильевич',\n",
       " 'Балберов Александр Александрович',\n",
       " 'Белов Сергей Александрович',\n",
       " 'Бычков Денис Владимирович',\n",
       " 'Воробьев Николай Юрьевич',\n",
       " 'Выставкин Михаил Борисович',\n",
       " 'Грязев Михаил Васильевич',\n",
       " 'Ермаков Александр Сергеевич',\n",
       " 'Зайцева Ольга Сергеевна',\n",
       " 'Залетин Сергей Викторович',\n",
       " 'Иванцов Михаил Евгеньевич',\n",
       " 'Кирьянова Елена Сергеевна',\n",
       " 'Кондрашов Юрий Викторович',\n",
       " 'Котик Людмила Ивановна',\n",
       " 'Лебедев Алексей Александрович',\n",
       " 'Макаровец Николай Александрович',\n",
       " 'Малазония Надежда Николаевна',\n",
       " 'Марьясова Юлия Александровна',\n",
       " 'Моисеев Юрий Фясыхович',\n",
       " 'Москалец Александр Петрович',\n",
       " 'Николаева Наталия Вячеславовна',\n",
       " 'Нуждихин Григорий Вячеславович',\n",
       " 'Панин Владимир Алексеевич',\n",
       " 'Парамонова Ольга Владимировна',\n",
       " 'Попов Николай Кузьмич',\n",
       " 'Рем Александр Викторович',\n",
       " 'Самошин Андрей Анатольевич',\n",
       " 'Симонов Александр Федорович',\n",
       " 'Слюсарева Ольга Анатольевна',\n",
       " 'Судариков Анатолий Павлович',\n",
       " 'Тесов Михаил Николаевич',\n",
       " 'Толстая Екатерина Александровна',\n",
       " 'Трифонов Виктор Александрович',\n",
       " 'Харитонов Сергей Алексеевич']"
      ]
     },
     "execution_count": 13,
     "metadata": {},
     "output_type": "execute_result"
    }
   ],
   "source": [
    "names"
   ]
  },
  {
   "cell_type": "markdown",
   "metadata": {},
   "source": [
    "Теперь перейдем к партиям. Тут нет никакого отличительного атрибута, но, к счастью, в каждой нужной ячейке есть слово *Фракция*. Давайте вооружимся этим фактом и с помощью цикла и условия заполним список `fracs`:"
   ]
  },
  {
   "cell_type": "code",
   "execution_count": 14,
   "metadata": {},
   "outputs": [],
   "source": [
    "fracs = []\n",
    "for t in table.find_all('td', valign= \"top\", width = \"25%\"):\n",
    "    if \"Фракция\" in t.text:\n",
    "        fracs.append(t.text)"
   ]
  },
  {
   "cell_type": "markdown",
   "metadata": {},
   "source": [
    "Вроде бы, все хорошо:"
   ]
  },
  {
   "cell_type": "code",
   "execution_count": 15,
   "metadata": {},
   "outputs": [
    {
     "data": {
      "text/plain": [
       "['Фракция «Единая Россия»Член фракции',\n",
       " 'Фракция «Единая Россия»Член фракции',\n",
       " 'Фракция «Единая Россия»Член фракции',\n",
       " 'Фракция «Единая Россия»Член фракции',\n",
       " 'Фракция «Единая Россия»Член фракции',\n",
       " 'Фракция «ЛДПР»Руководитель фракции',\n",
       " 'Фракция «Единая Россия»Член фракции',\n",
       " 'Фракция «Единая Россия»Член фракции',\n",
       " 'Фракция «ЛДПР»Заместитель руководителя фракции',\n",
       " 'Фракция «Единая Россия»Член фракции',\n",
       " 'Фракция «Единая Россия»Член фракции',\n",
       " 'Фракция «Единая Россия»Член фракции',\n",
       " 'Фракция «Единая Россия»Член фракции',\n",
       " 'Фракция «Единая Россия»Член фракции',\n",
       " 'Фракция «Единая Россия»Член фракции',\n",
       " 'Фракция «Единая Россия»Член фракции',\n",
       " 'Фракция «Единая Россия»Член фракции',\n",
       " 'Фракция «КПРФ»Руководитель фракции',\n",
       " 'Фракция «Единая Россия»Член фракции',\n",
       " 'Фракция «Единая Россия»Член фракции',\n",
       " 'Фракция «Единая Россия»Руководитель фракции',\n",
       " 'Фракция «КПРФ»Заместитель руководителя фракции',\n",
       " 'Фракция «Единая Россия»Член фракции',\n",
       " 'Фракция «Единая Россия»Член фракции',\n",
       " 'Фракция «Единая Россия»Член фракции',\n",
       " 'Фракция «Единая Россия»Член фракции',\n",
       " 'Фракция «Единая Россия»Член фракции',\n",
       " 'Фракция «Единая Россия»Член фракции',\n",
       " 'Фракция «Единая Россия»Член фракции',\n",
       " 'Фракция «Единая Россия»Член фракции',\n",
       " 'Фракция «Единая Россия»Член фракции',\n",
       " 'Фракция «Единая Россия»Член фракции',\n",
       " 'Фракция «Единая Россия»Член фракции',\n",
       " 'Фракция «Единая Россия»Член фракции',\n",
       " 'Фракция «Единая Россия»Член фракции',\n",
       " 'Фракция «Единая Россия»Член фракции']"
      ]
     },
     "execution_count": 15,
     "metadata": {},
     "output_type": "execute_result"
    }
   ],
   "source": [
    "fracs"
   ]
  },
  {
   "cell_type": "markdown",
   "metadata": {},
   "source": [
    "На самом деле, не очень. Давайте сравним число депутатов и партий:"
   ]
  },
  {
   "cell_type": "code",
   "execution_count": 16,
   "metadata": {},
   "outputs": [
    {
     "name": "stdout",
     "output_type": "stream",
     "text": [
      "38\n",
      "36\n"
     ]
    }
   ],
   "source": [
    "print(len(names))\n",
    "print(len(fracs))"
   ]
  },
  {
   "cell_type": "markdown",
   "metadata": {},
   "source": [
    "Партий получилось меньше! И это неудивительно: в таблице есть два беспартийных депутата. Так как их всего двое, давайте просто вручную добавим на соответствующие им позиции в списке `fracs` пустые строки. Заодно вспомним про метод `.insert()` ‒ метод, который позволяет вставить в список новый элемент на определенную позию, сдвинув остальные."
   ]
  },
  {
   "cell_type": "code",
   "execution_count": 17,
   "metadata": {},
   "outputs": [
    {
     "data": {
      "text/plain": [
       "7"
      ]
     },
     "execution_count": 17,
     "metadata": {},
     "output_type": "execute_result"
    }
   ],
   "source": [
    "names.index('Бычков Денис Владимирович') # место 7"
   ]
  },
  {
   "cell_type": "code",
   "execution_count": 18,
   "metadata": {},
   "outputs": [
    {
     "data": {
      "text/plain": [
       "36"
      ]
     },
     "execution_count": 18,
     "metadata": {},
     "output_type": "execute_result"
    }
   ],
   "source": [
    "names.index('Трифонов Виктор Александрович') # место 36"
   ]
  },
  {
   "cell_type": "code",
   "execution_count": 19,
   "metadata": {},
   "outputs": [
    {
     "data": {
      "text/plain": [
       "['Фракция «Единая Россия»Член фракции',\n",
       " 'Фракция «Единая Россия»Член фракции',\n",
       " 'Фракция «Единая Россия»Член фракции',\n",
       " 'Фракция «Единая Россия»Член фракции',\n",
       " 'Фракция «Единая Россия»Член фракции',\n",
       " 'Фракция «ЛДПР»Руководитель фракции',\n",
       " 'Фракция «Единая Россия»Член фракции',\n",
       " '',\n",
       " 'Фракция «Единая Россия»Член фракции',\n",
       " 'Фракция «ЛДПР»Заместитель руководителя фракции',\n",
       " 'Фракция «Единая Россия»Член фракции',\n",
       " 'Фракция «Единая Россия»Член фракции',\n",
       " 'Фракция «Единая Россия»Член фракции',\n",
       " 'Фракция «Единая Россия»Член фракции',\n",
       " 'Фракция «Единая Россия»Член фракции',\n",
       " 'Фракция «Единая Россия»Член фракции',\n",
       " 'Фракция «Единая Россия»Член фракции',\n",
       " 'Фракция «Единая Россия»Член фракции',\n",
       " 'Фракция «КПРФ»Руководитель фракции',\n",
       " 'Фракция «Единая Россия»Член фракции',\n",
       " 'Фракция «Единая Россия»Член фракции',\n",
       " 'Фракция «Единая Россия»Руководитель фракции',\n",
       " 'Фракция «КПРФ»Заместитель руководителя фракции',\n",
       " 'Фракция «Единая Россия»Член фракции',\n",
       " 'Фракция «Единая Россия»Член фракции',\n",
       " 'Фракция «Единая Россия»Член фракции',\n",
       " 'Фракция «Единая Россия»Член фракции',\n",
       " 'Фракция «Единая Россия»Член фракции',\n",
       " 'Фракция «Единая Россия»Член фракции',\n",
       " 'Фракция «Единая Россия»Член фракции',\n",
       " 'Фракция «Единая Россия»Член фракции',\n",
       " 'Фракция «Единая Россия»Член фракции',\n",
       " 'Фракция «Единая Россия»Член фракции',\n",
       " 'Фракция «Единая Россия»Член фракции',\n",
       " 'Фракция «Единая Россия»Член фракции',\n",
       " 'Фракция «Единая Россия»Член фракции',\n",
       " '',\n",
       " 'Фракция «Единая Россия»Член фракции']"
      ]
     },
     "execution_count": 19,
     "metadata": {},
     "output_type": "execute_result"
    }
   ],
   "source": [
    "fracs.insert(7, \"\")\n",
    "fracs.insert(36, \"\")\n",
    "fracs"
   ]
  },
  {
   "cell_type": "markdown",
   "metadata": {},
   "source": [
    "Теперь все хорошо. Разобраться с комитетами и комиссиями мы сегодня не успеем, но вот выцепить из элементов списка `fracs` только названия партий сумеем. И на помощь нам придут уже знакомые регулярные выражения.\n",
    "\n",
    "Импортируем библиотеку *re*."
   ]
  },
  {
   "cell_type": "code",
   "execution_count": 20,
   "metadata": {},
   "outputs": [],
   "source": [
    "import re"
   ]
  },
  {
   "cell_type": "markdown",
   "metadata": {},
   "source": [
    "Воспользуемся функцией `findall()`: найдем все названия внутри кавычек-елочек (их проще скопировать из текста или кода). "
   ]
  },
  {
   "cell_type": "code",
   "execution_count": 21,
   "metadata": {},
   "outputs": [
    {
     "ename": "IndexError",
     "evalue": "list index out of range",
     "output_type": "error",
     "traceback": [
      "\u001b[0;31m---------------------------------------------------------------------------\u001b[0m",
      "\u001b[0;31mIndexError\u001b[0m                                Traceback (most recent call last)",
      "\u001b[0;32m<ipython-input-21-00bb1a315aff>\u001b[0m in \u001b[0;36m<module>\u001b[0;34m()\u001b[0m\n\u001b[1;32m      1\u001b[0m \u001b[0mparties\u001b[0m \u001b[0;34m=\u001b[0m \u001b[0;34m[\u001b[0m\u001b[0;34m]\u001b[0m\u001b[0;34m\u001b[0m\u001b[0m\n\u001b[1;32m      2\u001b[0m \u001b[0;32mfor\u001b[0m \u001b[0mf\u001b[0m \u001b[0;32min\u001b[0m \u001b[0mfracs\u001b[0m\u001b[0;34m:\u001b[0m\u001b[0;34m\u001b[0m\u001b[0m\n\u001b[0;32m----> 3\u001b[0;31m     \u001b[0mp\u001b[0m \u001b[0;34m=\u001b[0m \u001b[0mre\u001b[0m\u001b[0;34m.\u001b[0m\u001b[0mfindall\u001b[0m\u001b[0;34m(\u001b[0m\u001b[0;34m'«.+»'\u001b[0m\u001b[0;34m,\u001b[0m \u001b[0mf\u001b[0m\u001b[0;34m)\u001b[0m\u001b[0;34m[\u001b[0m\u001b[0;36m0\u001b[0m\u001b[0;34m]\u001b[0m\u001b[0;34m\u001b[0m\u001b[0m\n\u001b[0m\u001b[1;32m      4\u001b[0m     \u001b[0mparties\u001b[0m\u001b[0;34m.\u001b[0m\u001b[0mappend\u001b[0m\u001b[0;34m(\u001b[0m\u001b[0mp\u001b[0m\u001b[0;34m)\u001b[0m\u001b[0;34m\u001b[0m\u001b[0m\n",
      "\u001b[0;31mIndexError\u001b[0m: list index out of range"
     ]
    }
   ],
   "source": [
    "parties = []\n",
    "for f in fracs:\n",
    "    p = re.findall('«.+»', f)[0]\n",
    "    parties.append(p)"
   ]
  },
  {
   "cell_type": "markdown",
   "metadata": {},
   "source": [
    "Почему мы получили ошибку? Посмотрим, что представляют собой совпадения, найденные с помощью `findall()`:"
   ]
  },
  {
   "cell_type": "code",
   "execution_count": 22,
   "metadata": {},
   "outputs": [
    {
     "name": "stdout",
     "output_type": "stream",
     "text": [
      "['«Единая Россия»']\n",
      "['«Единая Россия»']\n",
      "['«Единая Россия»']\n",
      "['«Единая Россия»']\n",
      "['«Единая Россия»']\n",
      "['«ЛДПР»']\n",
      "['«Единая Россия»']\n",
      "[]\n",
      "['«Единая Россия»']\n",
      "['«ЛДПР»']\n",
      "['«Единая Россия»']\n",
      "['«Единая Россия»']\n",
      "['«Единая Россия»']\n",
      "['«Единая Россия»']\n",
      "['«Единая Россия»']\n",
      "['«Единая Россия»']\n",
      "['«Единая Россия»']\n",
      "['«Единая Россия»']\n",
      "['«КПРФ»']\n",
      "['«Единая Россия»']\n",
      "['«Единая Россия»']\n",
      "['«Единая Россия»']\n",
      "['«КПРФ»']\n",
      "['«Единая Россия»']\n",
      "['«Единая Россия»']\n",
      "['«Единая Россия»']\n",
      "['«Единая Россия»']\n",
      "['«Единая Россия»']\n",
      "['«Единая Россия»']\n",
      "['«Единая Россия»']\n",
      "['«Единая Россия»']\n",
      "['«Единая Россия»']\n",
      "['«Единая Россия»']\n",
      "['«Единая Россия»']\n",
      "['«Единая Россия»']\n",
      "['«Единая Россия»']\n",
      "[]\n",
      "['«Единая Россия»']\n"
     ]
    }
   ],
   "source": [
    "for f in fracs:\n",
    "    print(re.findall('«.+»', f))"
   ]
  },
  {
   "cell_type": "markdown",
   "metadata": {},
   "source": [
    "У нас есть пустые списки! Они соответствуют беспартийным депутатам. Поэтому в таких списках без элементов Python не может найти элемент с индексом 0. Давайте добавим условную конструкцию: если длина списка не равна 0, то пусть в `parties` добавляется единственный элемент из списка, возвращенного `findall()`, если длина списка равна 0, то пусть в `parties` добавляется пустая строка."
   ]
  },
  {
   "cell_type": "code",
   "execution_count": 23,
   "metadata": {},
   "outputs": [],
   "source": [
    "parties = []\n",
    "for f in fracs:\n",
    "    if len(f) != 0:\n",
    "        p = re.findall('«.+»', f)[0]\n",
    "        parties.append(p)\n",
    "    else:\n",
    "        parties.append('')"
   ]
  },
  {
   "cell_type": "code",
   "execution_count": 24,
   "metadata": {
    "scrolled": true
   },
   "outputs": [
    {
     "data": {
      "text/plain": [
       "['«Единая Россия»',\n",
       " '«Единая Россия»',\n",
       " '«Единая Россия»',\n",
       " '«Единая Россия»',\n",
       " '«Единая Россия»',\n",
       " '«ЛДПР»',\n",
       " '«Единая Россия»',\n",
       " '',\n",
       " '«Единая Россия»',\n",
       " '«ЛДПР»',\n",
       " '«Единая Россия»',\n",
       " '«Единая Россия»',\n",
       " '«Единая Россия»',\n",
       " '«Единая Россия»',\n",
       " '«Единая Россия»',\n",
       " '«Единая Россия»',\n",
       " '«Единая Россия»',\n",
       " '«Единая Россия»',\n",
       " '«КПРФ»',\n",
       " '«Единая Россия»',\n",
       " '«Единая Россия»',\n",
       " '«Единая Россия»',\n",
       " '«КПРФ»',\n",
       " '«Единая Россия»',\n",
       " '«Единая Россия»',\n",
       " '«Единая Россия»',\n",
       " '«Единая Россия»',\n",
       " '«Единая Россия»',\n",
       " '«Единая Россия»',\n",
       " '«Единая Россия»',\n",
       " '«Единая Россия»',\n",
       " '«Единая Россия»',\n",
       " '«Единая Россия»',\n",
       " '«Единая Россия»',\n",
       " '«Единая Россия»',\n",
       " '«Единая Россия»',\n",
       " '',\n",
       " '«Единая Россия»']"
      ]
     },
     "execution_count": 24,
     "metadata": {},
     "output_type": "execute_result"
    }
   ],
   "source": [
    "parties"
   ]
  },
  {
   "cell_type": "markdown",
   "metadata": {},
   "source": [
    "А теперь уберем сами кавычки: если названия партий будут хранится в датафрейме в таком виде, искать их будет неудобно, поскольку придется искать или копировать откуда-то эти кавычки-елочки.\n",
    "Для этого выберем в строке все символы, кроме первого (с индексом 0) и последнего (с индексом -1)."
   ]
  },
  {
   "cell_type": "code",
   "execution_count": 25,
   "metadata": {},
   "outputs": [],
   "source": [
    "parties = []\n",
    "for f in fracs:\n",
    "    if len(f) != 0:\n",
    "        p = re.findall('«.+»', f)[0]\n",
    "        parties.append(p[1:-1]) # правый конец не включается в интервал\n",
    "    else:\n",
    "        parties.append('')"
   ]
  },
  {
   "cell_type": "code",
   "execution_count": 26,
   "metadata": {},
   "outputs": [
    {
     "data": {
      "text/plain": [
       "['Единая Россия',\n",
       " 'Единая Россия',\n",
       " 'Единая Россия',\n",
       " 'Единая Россия',\n",
       " 'Единая Россия',\n",
       " 'ЛДПР',\n",
       " 'Единая Россия',\n",
       " '',\n",
       " 'Единая Россия',\n",
       " 'ЛДПР',\n",
       " 'Единая Россия',\n",
       " 'Единая Россия',\n",
       " 'Единая Россия',\n",
       " 'Единая Россия',\n",
       " 'Единая Россия',\n",
       " 'Единая Россия',\n",
       " 'Единая Россия',\n",
       " 'Единая Россия',\n",
       " 'КПРФ',\n",
       " 'Единая Россия',\n",
       " 'Единая Россия',\n",
       " 'Единая Россия',\n",
       " 'КПРФ',\n",
       " 'Единая Россия',\n",
       " 'Единая Россия',\n",
       " 'Единая Россия',\n",
       " 'Единая Россия',\n",
       " 'Единая Россия',\n",
       " 'Единая Россия',\n",
       " 'Единая Россия',\n",
       " 'Единая Россия',\n",
       " 'Единая Россия',\n",
       " 'Единая Россия',\n",
       " 'Единая Россия',\n",
       " 'Единая Россия',\n",
       " 'Единая Россия',\n",
       " '',\n",
       " 'Единая Россия']"
      ]
     },
     "execution_count": 26,
     "metadata": {},
     "output_type": "execute_result"
    }
   ],
   "source": [
    "parties"
   ]
  },
  {
   "cell_type": "markdown",
   "metadata": {},
   "source": [
    "Теперь у нас есть два списка: ФИО депутатов и их партийная принадлежность. Осталось объединить их в датафрейм *pandas*.\n",
    "\n",
    "Импортируем библиотеку:"
   ]
  },
  {
   "cell_type": "code",
   "execution_count": 27,
   "metadata": {},
   "outputs": [],
   "source": [
    "import pandas as pd"
   ]
  },
  {
   "cell_type": "markdown",
   "metadata": {},
   "source": [
    "Создадим датафрейм, подав на вход функции `DataFrame()` словарь, ключами которого являются названия столбцов, а значениями ‒ списки, которые станут столбцами таблицы."
   ]
  },
  {
   "cell_type": "code",
   "execution_count": 28,
   "metadata": {},
   "outputs": [],
   "source": [
    "df = pd.DataFrame({'name': names, 'party': parties})"
   ]
  },
  {
   "cell_type": "markdown",
   "metadata": {},
   "source": [
    "Готово!"
   ]
  },
  {
   "cell_type": "code",
   "execution_count": 29,
   "metadata": {},
   "outputs": [
    {
     "data": {
      "text/html": [
       "<div>\n",
       "<style scoped>\n",
       "    .dataframe tbody tr th:only-of-type {\n",
       "        vertical-align: middle;\n",
       "    }\n",
       "\n",
       "    .dataframe tbody tr th {\n",
       "        vertical-align: top;\n",
       "    }\n",
       "\n",
       "    .dataframe thead th {\n",
       "        text-align: right;\n",
       "    }\n",
       "</style>\n",
       "<table border=\"1\" class=\"dataframe\">\n",
       "  <thead>\n",
       "    <tr style=\"text-align: right;\">\n",
       "      <th></th>\n",
       "      <th>name</th>\n",
       "      <th>party</th>\n",
       "    </tr>\n",
       "  </thead>\n",
       "  <tbody>\n",
       "    <tr>\n",
       "      <th>0</th>\n",
       "      <td>Абакумов Владимир Евгеньевич</td>\n",
       "      <td>Единая Россия</td>\n",
       "    </tr>\n",
       "    <tr>\n",
       "      <th>1</th>\n",
       "      <td>Алёшина Галина Ивановна</td>\n",
       "      <td>Единая Россия</td>\n",
       "    </tr>\n",
       "    <tr>\n",
       "      <th>2</th>\n",
       "      <td>Альховик Алексей Иванович</td>\n",
       "      <td>Единая Россия</td>\n",
       "    </tr>\n",
       "    <tr>\n",
       "      <th>3</th>\n",
       "      <td>Артемьев Сергей Александрович</td>\n",
       "      <td>Единая Россия</td>\n",
       "    </tr>\n",
       "    <tr>\n",
       "      <th>4</th>\n",
       "      <td>Атанов Егор Васильевич</td>\n",
       "      <td>Единая Россия</td>\n",
       "    </tr>\n",
       "  </tbody>\n",
       "</table>\n",
       "</div>"
      ],
      "text/plain": [
       "                            name          party\n",
       "0   Абакумов Владимир Евгеньевич  Единая Россия\n",
       "1        Алёшина Галина Ивановна  Единая Россия\n",
       "2      Альховик Алексей Иванович  Единая Россия\n",
       "3  Артемьев Сергей Александрович  Единая Россия\n",
       "4         Атанов Егор Васильевич  Единая Россия"
      ]
     },
     "execution_count": 29,
     "metadata": {},
     "output_type": "execute_result"
    }
   ],
   "source": [
    "df.head()"
   ]
  },
  {
   "cell_type": "markdown",
   "metadata": {},
   "source": [
    "Можем выгрузить таблицу в csv-файл и на этом закончить."
   ]
  },
  {
   "cell_type": "code",
   "execution_count": 30,
   "metadata": {},
   "outputs": [],
   "source": [
    "df.to_csv(\"Tula_Obl_Duma.csv\")"
   ]
  }
 ],
 "metadata": {
  "kernelspec": {
   "display_name": "Python 3",
   "language": "python",
   "name": "python3"
  },
  "language_info": {
   "codemirror_mode": {
    "name": "ipython",
    "version": 3
   },
   "file_extension": ".py",
   "mimetype": "text/x-python",
   "name": "python",
   "nbconvert_exporter": "python",
   "pygments_lexer": "ipython3",
   "version": "3.5.2"
  }
 },
 "nbformat": 4,
 "nbformat_minor": 2
}
