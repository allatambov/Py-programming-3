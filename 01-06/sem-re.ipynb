{
 "cells": [
  {
   "cell_type": "markdown",
   "metadata": {},
   "source": [
    "# Основы программирования в Python\n",
    "\n",
    "*Алла Тамбовцева*"
   ]
  },
  {
   "cell_type": "markdown",
   "metadata": {},
   "source": [
    "## Семинар 8"
   ]
  },
  {
   "cell_type": "markdown",
   "metadata": {},
   "source": [
    "1. Загрузите таблицу из файла `contacts.csv` (все данные *вымышленные*). Обратите внимание, что разделителем столбцов является точка с запятой.\n",
    "2. Используя регулярные выражения и циклы, создайте на основе столбцов в этой базе данных списки:\n",
    "\n",
    "    * список инициалов (*inic*)\n",
    "    * список фамилий (*surnames*)\n",
    "    * список email'ов (*mails*)\n",
    "    * список телефонов (*tels*)\n",
    "\n",
    "3. Приведите все элементы в списках к единому виду (удалите лишние пробелы) и создайте из этих списков новую базу данных.\n",
    "\n",
    "4. Сохраните полученнную базу в csv-файл."
   ]
  }
 ],
 "metadata": {
  "kernelspec": {
   "display_name": "Python 3",
   "language": "python",
   "name": "python3"
  },
  "language_info": {
   "codemirror_mode": {
    "name": "ipython",
    "version": 3
   },
   "file_extension": ".py",
   "mimetype": "text/x-python",
   "name": "python",
   "nbconvert_exporter": "python",
   "pygments_lexer": "ipython3",
   "version": "3.5.2"
  }
 },
 "nbformat": 4,
 "nbformat_minor": 2
}
