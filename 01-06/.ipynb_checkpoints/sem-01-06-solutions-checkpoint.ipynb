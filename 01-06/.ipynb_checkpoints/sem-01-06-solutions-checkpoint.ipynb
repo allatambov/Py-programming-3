{
 "cells": [
  {
   "cell_type": "markdown",
   "metadata": {},
   "source": [
    "# Основы программирования в Python\n",
    "\n",
    "*Алла Тамбовцева*"
   ]
  },
  {
   "cell_type": "markdown",
   "metadata": {},
   "source": [
    "## Семинар 8"
   ]
  },
  {
   "cell_type": "markdown",
   "metadata": {},
   "source": [
    "1.Загрузите таблицу из файла `contacts.csv` (все данные *вымышленные*). Обратите внимание, что разделителем столбцов является точка с запятой."
   ]
  },
  {
   "cell_type": "code",
   "execution_count": 1,
   "metadata": {},
   "outputs": [],
   "source": [
    "import pandas as pd"
   ]
  },
  {
   "cell_type": "code",
   "execution_count": 2,
   "metadata": {},
   "outputs": [
    {
     "data": {
      "text/html": [
       "<div>\n",
       "<style scoped>\n",
       "    .dataframe tbody tr th:only-of-type {\n",
       "        vertical-align: middle;\n",
       "    }\n",
       "\n",
       "    .dataframe tbody tr th {\n",
       "        vertical-align: top;\n",
       "    }\n",
       "\n",
       "    .dataframe thead th {\n",
       "        text-align: right;\n",
       "    }\n",
       "</style>\n",
       "<table border=\"1\" class=\"dataframe\">\n",
       "  <thead>\n",
       "    <tr style=\"text-align: right;\">\n",
       "      <th></th>\n",
       "      <th>name</th>\n",
       "      <th>contacts</th>\n",
       "    </tr>\n",
       "  </thead>\n",
       "  <tbody>\n",
       "    <tr>\n",
       "      <th>0</th>\n",
       "      <td>Иванов И.И.</td>\n",
       "      <td>iviv@mail.ru 8(903)033-33-33</td>\n",
       "    </tr>\n",
       "    <tr>\n",
       "      <th>1</th>\n",
       "      <td>Петров, И.В.</td>\n",
       "      <td>905-555-55-55 petroviv85@ya.ru</td>\n",
       "    </tr>\n",
       "    <tr>\n",
       "      <th>2</th>\n",
       "      <td>Селигеров   М.В.</td>\n",
       "      <td>seliger200@gmail.com, +7(985)1232323</td>\n",
       "    </tr>\n",
       "    <tr>\n",
       "      <th>3</th>\n",
       "      <td>А.А. Петухова</td>\n",
       "      <td>petuhova.aa@gmail.com Тел 3232323</td>\n",
       "    </tr>\n",
       "    <tr>\n",
       "      <th>4</th>\n",
       "      <td>Заяц, О.В.</td>\n",
       "      <td>Mail: zayatsolga56@mail.ru, , 8-916-000-00-01</td>\n",
       "    </tr>\n",
       "    <tr>\n",
       "      <th>5</th>\n",
       "      <td>А.Китов</td>\n",
       "      <td>kitkit@rambler.ru. нет</td>\n",
       "    </tr>\n",
       "    <tr>\n",
       "      <th>6</th>\n",
       "      <td>Ш.Ш.Шаблонов</td>\n",
       "      <td>shabshab13@ya.ru 9958967</td>\n",
       "    </tr>\n",
       "  </tbody>\n",
       "</table>\n",
       "</div>"
      ],
      "text/plain": [
       "               name                                       contacts\n",
       "0       Иванов И.И.                   iviv@mail.ru 8(903)033-33-33\n",
       "1      Петров, И.В.                 905-555-55-55 petroviv85@ya.ru\n",
       "2  Селигеров   М.В.           seliger200@gmail.com, +7(985)1232323\n",
       "3     А.А. Петухова              petuhova.aa@gmail.com Тел 3232323\n",
       "4        Заяц, О.В.  Mail: zayatsolga56@mail.ru, , 8-916-000-00-01\n",
       "5           А.Китов                         kitkit@rambler.ru. нет\n",
       "6      Ш.Ш.Шаблонов                       shabshab13@ya.ru 9958967"
      ]
     },
     "execution_count": 2,
     "metadata": {},
     "output_type": "execute_result"
    }
   ],
   "source": [
    "df = pd.read_csv(\"contacts.csv\", sep = \";\") # разделитель ;\n",
    "df"
   ]
  },
  {
   "cell_type": "markdown",
   "metadata": {},
   "source": [
    "2.Используя регулярные выражения и циклы, создайте на основе столбцов в этой базе данных списки:\n",
    "\n",
    "    * список инициалов (*inic*)\n",
    "    * список фамилий (*surnames*)\n",
    "    * список email'ов (*mails*)\n",
    "    * список телефонов (*tels*)"
   ]
  },
  {
   "cell_type": "code",
   "execution_count": 3,
   "metadata": {},
   "outputs": [],
   "source": [
    "import re"
   ]
  },
  {
   "cell_type": "markdown",
   "metadata": {},
   "source": [
    "Начнем с инициалов. Сначала для удобства сохраним столбец с ФИО в виде списка."
   ]
  },
  {
   "cell_type": "code",
   "execution_count": 5,
   "metadata": {},
   "outputs": [],
   "source": [
    "names = list(df.name)"
   ]
  },
  {
   "cell_type": "markdown",
   "metadata": {},
   "source": [
    "Теперь в цикле будем обращаться к элементам `names` и искать в них подстроки, соответствующие инициалам. Какое регулярное выражение написать? Нужно учесть, что инициалы здесь ‒ всегда заглавные русские буквы, после которых стоит точка. Обратите внимание: инициал может быть один!"
   ]
  },
  {
   "cell_type": "code",
   "execution_count": 6,
   "metadata": {},
   "outputs": [
    {
     "name": "stdout",
     "output_type": "stream",
     "text": [
      "['И.', 'И.']\n",
      "['И.', 'В.']\n",
      "['М.', 'В.']\n",
      "['А.', 'А.']\n",
      "['О.', 'В.']\n",
      "['А.']\n",
      "['Ш.', 'Ш.']\n"
     ]
    }
   ],
   "source": [
    "for n in names:\n",
    "    print(re.findall(\"[А-Я]\\.+\", n)) "
   ]
  },
  {
   "cell_type": "markdown",
   "metadata": {},
   "source": [
    "В регулярном выражении в `findall` мы экранировали точку: поставили перед ней обратный слэш, чтобы Python понимал, что это знак препинания, а не служебный знак, соответствующий одному любому символу. После нее мы написали плюс, так как он означает, что последовательность слева от него может встречаться один и более раз. Если бы мы его не использовали, а просто задали два раза заглавные буквы, мы бы потеряли А.Китова с одним инициалом: "
   ]
  },
  {
   "cell_type": "code",
   "execution_count": 7,
   "metadata": {},
   "outputs": [
    {
     "name": "stdout",
     "output_type": "stream",
     "text": [
      "['И.И.']\n",
      "['И.В.']\n",
      "['М.В.']\n",
      "['А.А.']\n",
      "['О.В.']\n",
      "[]\n",
      "['Ш.Ш.']\n"
     ]
    }
   ],
   "source": [
    "# не надо так\n",
    "for n in names:\n",
    "    print(re.findall(\"[А-Я]\\.[А-Я]\\.\", n)) "
   ]
  },
  {
   "cell_type": "markdown",
   "metadata": {},
   "source": [
    "Теперь осталось создать пустой список `inic` и добавлять в него найденные совпадения. Результаты применения `findall()` являются списками (из одного или двух элементов), их можно склеить с помощью метода `.join()`, чтобы получить \"целые\" инициалы."
   ]
  },
  {
   "cell_type": "code",
   "execution_count": 12,
   "metadata": {},
   "outputs": [
    {
     "data": {
      "text/plain": [
       "['И.И.', 'И.В.', 'М.В.', 'А.А.', 'О.В.', 'А.', 'Ш.Ш.']"
      ]
     },
     "execution_count": 12,
     "metadata": {},
     "output_type": "execute_result"
    }
   ],
   "source": [
    "inic = []\n",
    "\n",
    "for n in names:\n",
    "    r = re.findall(\"[А-Я]\\.+\",n)\n",
    "    inic.append(\"\".join(r))\n",
    "\n",
    "inic    "
   ]
  },
  {
   "cell_type": "markdown",
   "metadata": {},
   "source": [
    "Теперь перейдем к фамилиям. Фамилия ‒ это последовательность символов, где первая буква заглавная, а остальные ‒строчные. Заглавная буква одна, и она стоит на первом месте (у нас нет опечаток), а за ней может идти сколько угодно строчных."
   ]
  },
  {
   "cell_type": "code",
   "execution_count": 9,
   "metadata": {},
   "outputs": [
    {
     "name": "stdout",
     "output_type": "stream",
     "text": [
      "['Иванов']\n",
      "['Петров']\n",
      "['Селигеров']\n",
      "['Петухова']\n",
      "['Заяц']\n",
      "['Китов']\n",
      "['Шаблонов']\n"
     ]
    }
   ],
   "source": [
    "for n in names:\n",
    "    print(re.findall(\"[А-Я][а-я]+\", n))"
   ]
  },
  {
   "cell_type": "markdown",
   "metadata": {},
   "source": [
    "Создадим список. Обратите внимание: мы добавили 0 в квадратных скобках. Это индекс элемента в списке, который выдает `findall()`. Если мы этот элемент не извлечем, `surnames` у нас будет списком списков."
   ]
  },
  {
   "cell_type": "code",
   "execution_count": 11,
   "metadata": {},
   "outputs": [
    {
     "data": {
      "text/plain": [
       "['Иванов', 'Петров', 'Селигеров', 'Петухова', 'Заяц', 'Китов', 'Шаблонов']"
      ]
     },
     "execution_count": 11,
     "metadata": {},
     "output_type": "execute_result"
    }
   ],
   "source": [
    "surnames = []\n",
    "\n",
    "for n in names:\n",
    "    r = re.findall(\"[А-Я][а-я]+\", n)[0]\n",
    "    surnames.append(r)\n",
    "    \n",
    "surnames"
   ]
  },
  {
   "cell_type": "markdown",
   "metadata": {},
   "source": [
    "Перейдем к email'ам. Сначала сохраним столбец с контактами в виде списка."
   ]
  },
  {
   "cell_type": "code",
   "execution_count": 13,
   "metadata": {},
   "outputs": [],
   "source": [
    "conts = list(df.contacts)"
   ]
  },
  {
   "cell_type": "markdown",
   "metadata": {},
   "source": [
    "Адрес электронной почты имеет свои особенности. Он состоит из латинских букв и цифр, там есть \"собака\" и точка. У нас здесь все буквы строчные, после них могут встретиться цифры (а могут не встретиться)."
   ]
  },
  {
   "cell_type": "code",
   "execution_count": 16,
   "metadata": {},
   "outputs": [
    {
     "name": "stdout",
     "output_type": "stream",
     "text": [
      "['iviv@mail.ru']\n",
      "['petroviv85@ya.ru']\n",
      "['seliger200@gmail.com']\n",
      "['aa@gmail.com']\n",
      "['zayatsolga56@mail.ru']\n",
      "['kitkit@rambler.ru']\n",
      "['shabshab13@ya.ru']\n"
     ]
    }
   ],
   "source": [
    "for c in conts:\n",
    "    print(re.findall(\"[a-z]+[0-9]*@[a-z]+\\.[a-z]+\", c))"
   ]
  },
  {
   "cell_type": "markdown",
   "metadata": {},
   "source": [
    "Плюс после `[a-z]` означает, что у нас может быть одна латинская буква и более, звездочка после `[0-9]` означает, что цифры могу быть (сколько угодно) или не быть (ноль цифр). Далее мы ставим знак `@`, он у нас всегда один, и экранировать его не нужно, прописываем комбинацию с плюсом для любого количества букв, ставим точку (и обязательно экранируем, так как нас интересует конкретный знак препинания) и указываем, что после точки может быть любое число букв больше 0. Добавим результаты в список."
   ]
  },
  {
   "cell_type": "code",
   "execution_count": 18,
   "metadata": {},
   "outputs": [
    {
     "data": {
      "text/plain": [
       "['iviv@mail.ru',\n",
       " 'petroviv85@ya.ru',\n",
       " 'seliger200@gmail.com',\n",
       " 'aa@gmail.com',\n",
       " 'zayatsolga56@mail.ru',\n",
       " 'kitkit@rambler.ru',\n",
       " 'shabshab13@ya.ru']"
      ]
     },
     "execution_count": 18,
     "metadata": {},
     "output_type": "execute_result"
    }
   ],
   "source": [
    "mails = []\n",
    "\n",
    "for c in conts:\n",
    "    r = re.findall(\"[a-z]+[0-9]*@[a-z]+\\.[a-z]+\", c)[0]\n",
    "    mails.append(r)\n",
    "mails"
   ]
  },
  {
   "cell_type": "markdown",
   "metadata": {},
   "source": [
    "Осталось самое сложное: разобраться с телефонами. Телефоны здесь представлены в самом разном формате, и все это нужно учитывать. Скобки, дефисы, плюсы, и, что важно, их возможное отсутствие. Тут проще сначала записать само выражение, а потом по частям его разобрать. \n",
    "\n",
    "**NB:** данное выражение не является компактным и оптимальным (можно написать умнее и красивее, но оставим такое для максимальной наглядности)."
   ]
  },
  {
   "cell_type": "code",
   "execution_count": 20,
   "metadata": {},
   "outputs": [
    {
     "name": "stdout",
     "output_type": "stream",
     "text": [
      "['8(903)033-33-33']\n",
      "['905-555-55-55']\n",
      "['+7(985)1232323']\n",
      "['3232323']\n",
      "['8-916-000-00']\n",
      "[]\n",
      "['9958967']\n"
     ]
    }
   ],
   "source": [
    "for c in conts:\n",
    "    print(re.findall(\"\\+?\\d?\\(?\\d+[\\)|-]?\\d+-?\\d+-?\\d+\", c))"
   ]
  },
  {
   "cell_type": "markdown",
   "metadata": {},
   "source": [
    "Перед разбором выражения сразу отметим, что один пустой список выше ‒ это нормально, поскольку у одного человека (А.Китов) телефон не указан. \n",
    "\n",
    "1. Сначала мы экранируем плюс, чтобы Python знал, что мы имеем в виду сам знак, а не служебный символ, принятый в регулярных выражениях. Потом после него мы ставим знак вопроса, который означает, что плюса в начале строки может не быть (`?` - либо 0, либо 1 символ).\n",
    "2. Потом мы пишем `\\d` ‒ принятое сокращение для цифр (*digits*), то же самое, что `[0-9]`. И опять говорим, что цифра может быть (одна, 8 или 7) или не быть ‒ ставим знак вопроса.\n",
    "3. Далее ставим открывающую скобку и экранируем ее (в регулярных выражениях скобки являются специальным символом для ограничения групп). И опять указываем, что число таких скобок либо 0, либо 1.\n",
    "4. Затем опять цифры (сколько угодно, больше 0).\n",
    "5. Теперь скажем, что после цифр идет либо закрывающая скобка (если была открывающая), либо дефис: указываем эти символы в квадратных скобках через `|` (*или*). И после закрывающей квадратной скобки фиксируем, что скобок и дефисов вообще могло не быть ‒ снова знак вопроса.\n",
    "6. Далее неколько раз мы повторяем одно и то же: несколько цифр и (возможно) дефис, несколько цифр и опять дефис..."
   ]
  },
  {
   "cell_type": "markdown",
   "metadata": {},
   "source": [
    "Создадим список телефонов. Так как у нас есть случай, когда список-результат `findall()` пустой, и чтобы не столкнуться с ошибкой при вызове элемента с индексом `0`, учтем эту особенность в условии ‒ добавим развилку."
   ]
  },
  {
   "cell_type": "code",
   "execution_count": 23,
   "metadata": {},
   "outputs": [
    {
     "data": {
      "text/plain": [
       "['8(903)033-33-33',\n",
       " '905-555-55-55',\n",
       " '+7(985)1232323',\n",
       " '3232323',\n",
       " '8-916-000-00',\n",
       " '',\n",
       " '9958967']"
      ]
     },
     "execution_count": 23,
     "metadata": {},
     "output_type": "execute_result"
    }
   ],
   "source": [
    "tels = []\n",
    "for c in conts:\n",
    "    r = re.findall(\"\\+?\\d?\\(?\\d+[\\)|-]?\\d+-?\\d+-?\\d+\", c)\n",
    "    if len(r) == 0:\n",
    "        tels.append('')\n",
    "    else:\n",
    "        tels.append(r[0])\n",
    "\n",
    "tels"
   ]
  },
  {
   "cell_type": "markdown",
   "metadata": {},
   "source": [
    "3.Приведите все элементы в списках к единому виду (удалите лишние пробелы) и создайте из этих списков новую базу данных."
   ]
  },
  {
   "cell_type": "code",
   "execution_count": 26,
   "metadata": {},
   "outputs": [
    {
     "data": {
      "text/plain": [
       "['И.И.', 'И.В.', 'М.В.', 'А.А.', 'О.В.', 'А.', 'Ш.Ш.']"
      ]
     },
     "execution_count": 26,
     "metadata": {},
     "output_type": "execute_result"
    }
   ],
   "source": [
    "# лишние пробелы могут быть только в inic\n",
    "\n",
    "inic = [i.strip() for i in inic]\n",
    "inic"
   ]
  },
  {
   "cell_type": "code",
   "execution_count": 30,
   "metadata": {},
   "outputs": [],
   "source": [
    "import pandas as pd"
   ]
  },
  {
   "cell_type": "code",
   "execution_count": 35,
   "metadata": {},
   "outputs": [],
   "source": [
    "d = pd.DataFrame({'surname': surnames, 'inic': inic, 'mail': mails,'tel': tels})"
   ]
  },
  {
   "cell_type": "code",
   "execution_count": 36,
   "metadata": {},
   "outputs": [
    {
     "data": {
      "text/html": [
       "<div>\n",
       "<style scoped>\n",
       "    .dataframe tbody tr th:only-of-type {\n",
       "        vertical-align: middle;\n",
       "    }\n",
       "\n",
       "    .dataframe tbody tr th {\n",
       "        vertical-align: top;\n",
       "    }\n",
       "\n",
       "    .dataframe thead th {\n",
       "        text-align: right;\n",
       "    }\n",
       "</style>\n",
       "<table border=\"1\" class=\"dataframe\">\n",
       "  <thead>\n",
       "    <tr style=\"text-align: right;\">\n",
       "      <th></th>\n",
       "      <th>inic</th>\n",
       "      <th>mail</th>\n",
       "      <th>surname</th>\n",
       "      <th>tel</th>\n",
       "    </tr>\n",
       "  </thead>\n",
       "  <tbody>\n",
       "    <tr>\n",
       "      <th>0</th>\n",
       "      <td>И.И.</td>\n",
       "      <td>iviv@mail.ru</td>\n",
       "      <td>Иванов</td>\n",
       "      <td>8(903)033-33-33</td>\n",
       "    </tr>\n",
       "    <tr>\n",
       "      <th>1</th>\n",
       "      <td>И.В.</td>\n",
       "      <td>petroviv85@ya.ru</td>\n",
       "      <td>Петров</td>\n",
       "      <td>905-555-55-55</td>\n",
       "    </tr>\n",
       "    <tr>\n",
       "      <th>2</th>\n",
       "      <td>М.В.</td>\n",
       "      <td>seliger200@gmail.com</td>\n",
       "      <td>Селигеров</td>\n",
       "      <td>+7(985)1232323</td>\n",
       "    </tr>\n",
       "    <tr>\n",
       "      <th>3</th>\n",
       "      <td>А.А.</td>\n",
       "      <td>aa@gmail.com</td>\n",
       "      <td>Петухова</td>\n",
       "      <td>3232323</td>\n",
       "    </tr>\n",
       "    <tr>\n",
       "      <th>4</th>\n",
       "      <td>О.В.</td>\n",
       "      <td>zayatsolga56@mail.ru</td>\n",
       "      <td>Заяц</td>\n",
       "      <td>8-916-000-00</td>\n",
       "    </tr>\n",
       "    <tr>\n",
       "      <th>5</th>\n",
       "      <td>А.</td>\n",
       "      <td>kitkit@rambler.ru</td>\n",
       "      <td>Китов</td>\n",
       "      <td></td>\n",
       "    </tr>\n",
       "    <tr>\n",
       "      <th>6</th>\n",
       "      <td>Ш.Ш.</td>\n",
       "      <td>shabshab13@ya.ru</td>\n",
       "      <td>Шаблонов</td>\n",
       "      <td>9958967</td>\n",
       "    </tr>\n",
       "  </tbody>\n",
       "</table>\n",
       "</div>"
      ],
      "text/plain": [
       "   inic                  mail    surname              tel\n",
       "0  И.И.          iviv@mail.ru     Иванов  8(903)033-33-33\n",
       "1  И.В.      petroviv85@ya.ru     Петров    905-555-55-55\n",
       "2  М.В.  seliger200@gmail.com  Селигеров   +7(985)1232323\n",
       "3  А.А.          aa@gmail.com   Петухова          3232323\n",
       "4  О.В.  zayatsolga56@mail.ru       Заяц     8-916-000-00\n",
       "5    А.     kitkit@rambler.ru      Китов                 \n",
       "6  Ш.Ш.      shabshab13@ya.ru   Шаблонов          9958967"
      ]
     },
     "execution_count": 36,
     "metadata": {},
     "output_type": "execute_result"
    }
   ],
   "source": [
    "d"
   ]
  },
  {
   "cell_type": "markdown",
   "metadata": {},
   "source": [
    "4.Сохраните полученнную базу в csv-файл."
   ]
  },
  {
   "cell_type": "code",
   "execution_count": 37,
   "metadata": {},
   "outputs": [],
   "source": [
    "d.to_csv(\"new-contacts.csv\")"
   ]
  }
 ],
 "metadata": {
  "kernelspec": {
   "display_name": "Python 3",
   "language": "python",
   "name": "python3"
  },
  "language_info": {
   "codemirror_mode": {
    "name": "ipython",
    "version": 3
   },
   "file_extension": ".py",
   "mimetype": "text/x-python",
   "name": "python",
   "nbconvert_exporter": "python",
   "pygments_lexer": "ipython3",
   "version": "3.5.2"
  }
 },
 "nbformat": 4,
 "nbformat_minor": 2
}
