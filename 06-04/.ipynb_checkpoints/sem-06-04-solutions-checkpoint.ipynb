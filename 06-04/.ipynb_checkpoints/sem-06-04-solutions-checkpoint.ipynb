{
 "cells": [
  {
   "cell_type": "markdown",
   "metadata": {},
   "source": [
    "# Основы программирования в Python\n",
    "\n",
    "*Алла Тамбовцева, НИУ ВШЭ*\n",
    "\n",
    "\n",
    "## Семинар 1\n",
    "\n",
    "*Примечание: под программой в заданиях подразумевается просто блок работающего кода, который выполняет нужную задачу.* \n"
   ]
  },
  {
   "cell_type": "markdown",
   "metadata": {},
   "source": [
    "### Задание 0 (вычислительное)\n",
    "\n",
    "Посчитайте:\n",
    "\n",
    "* $log(25)$, $log(exp(3))$, $log_{10}1000$\n",
    "* $\\pi^3$, $123^4$ \n",
    "* $\\sqrt{459}$"
   ]
  },
  {
   "cell_type": "code",
   "execution_count": 1,
   "metadata": {},
   "outputs": [],
   "source": [
    "# импортируем модуль math\n",
    "import math"
   ]
  },
  {
   "cell_type": "code",
   "execution_count": 2,
   "metadata": {},
   "outputs": [
    {
     "data": {
      "text/plain": [
       "3.2188758248682006"
      ]
     },
     "execution_count": 2,
     "metadata": {},
     "output_type": "execute_result"
    }
   ],
   "source": [
    "# посчитаем\n",
    "math.log(25)"
   ]
  },
  {
   "cell_type": "code",
   "execution_count": 3,
   "metadata": {},
   "outputs": [
    {
     "data": {
      "text/plain": [
       "3.0"
      ]
     },
     "execution_count": 3,
     "metadata": {},
     "output_type": "execute_result"
    }
   ],
   "source": [
    "math.log(math.exp(3))"
   ]
  },
  {
   "cell_type": "code",
   "execution_count": 4,
   "metadata": {},
   "outputs": [
    {
     "data": {
      "text/plain": [
       "3.0"
      ]
     },
     "execution_count": 4,
     "metadata": {},
     "output_type": "execute_result"
    }
   ],
   "source": [
    "math.log10(1000)"
   ]
  },
  {
   "cell_type": "code",
   "execution_count": 5,
   "metadata": {},
   "outputs": [
    {
     "data": {
      "text/plain": [
       "31.006276680299816"
      ]
     },
     "execution_count": 5,
     "metadata": {},
     "output_type": "execute_result"
    }
   ],
   "source": [
    "math.pi ** 3"
   ]
  },
  {
   "cell_type": "code",
   "execution_count": 6,
   "metadata": {},
   "outputs": [
    {
     "data": {
      "text/plain": [
       "228886641"
      ]
     },
     "execution_count": 6,
     "metadata": {},
     "output_type": "execute_result"
    }
   ],
   "source": [
    "123 ** 4"
   ]
  },
  {
   "cell_type": "code",
   "execution_count": 7,
   "metadata": {},
   "outputs": [
    {
     "data": {
      "text/plain": [
       "21.42428528562855"
      ]
     },
     "execution_count": 7,
     "metadata": {},
     "output_type": "execute_result"
    }
   ],
   "source": [
    "math.sqrt(459)"
   ]
  },
  {
   "cell_type": "markdown",
   "metadata": {},
   "source": [
    "### Задание 1 (стартовое)\n",
    "\n",
    "В переменных a и b хранятся некоторые числа. Напишите код, который бы менял значения переменных местами. Пример:"
   ]
  },
  {
   "cell_type": "code",
   "execution_count": 12,
   "metadata": {},
   "outputs": [],
   "source": [
    "# до\n",
    "a = 2\n",
    "b = 5"
   ]
  },
  {
   "cell_type": "code",
   "execution_count": 10,
   "metadata": {},
   "outputs": [
    {
     "name": "stdout",
     "output_type": "stream",
     "text": [
      "5\n",
      "2\n"
     ]
    }
   ],
   "source": [
    "# после\n",
    "print(a)\n",
    "print(b)"
   ]
  },
  {
   "cell_type": "code",
   "execution_count": 13,
   "metadata": {},
   "outputs": [
    {
     "name": "stdout",
     "output_type": "stream",
     "text": [
      "5\n",
      "2\n"
     ]
    }
   ],
   "source": [
    "# создадим дополнительную переменную\n",
    "# она будет выступать в роли пустой коробки, \n",
    "# в которую мы на время будем \"перекладывать\" значения\n",
    "\n",
    "c = a \n",
    "a = b\n",
    "b = c\n",
    "\n",
    "print(a)\n",
    "print(b)"
   ]
  },
  {
   "cell_type": "markdown",
   "metadata": {},
   "source": [
    "Для тех, кто знаком с множественным присваиванием в Python:"
   ]
  },
  {
   "cell_type": "code",
   "execution_count": 14,
   "metadata": {},
   "outputs": [
    {
     "name": "stdout",
     "output_type": "stream",
     "text": [
      "5 2\n"
     ]
    }
   ],
   "source": [
    "a = 2\n",
    "b = 5\n",
    "\n",
    "a, b = b, a\n",
    "\n",
    "print(a, b)"
   ]
  },
  {
   "cell_type": "markdown",
   "metadata": {},
   "source": [
    "### Задание 2 (экономическое)\n",
    "\n",
    "Напишите программу, которая логарифмирует значение ВВП, которое хранится в переменной gdp и округляет результат до второго знака после запятой."
   ]
  },
  {
   "cell_type": "code",
   "execution_count": 15,
   "metadata": {},
   "outputs": [
    {
     "data": {
      "text/plain": [
       "14.56"
      ]
     },
     "execution_count": 15,
     "metadata": {},
     "output_type": "execute_result"
    }
   ],
   "source": [
    "gdp = 2104568\n",
    "\n",
    "round(math.log(gdp), 2)"
   ]
  },
  {
   "cell_type": "markdown",
   "metadata": {},
   "source": [
    "### Задание 3 (политологическое)\n",
    "\n",
    "В переменной fh хранится значение индекса политической свободы Freedom House, а в переменной p\n",
    "значение индекса Polity IV. Напишите программу, которая будет считать индекс Freedom:\n",
    "\n",
    "$Freedom = 0.4 \\cdot Freedom House + 0.6 \\cdot Polity IV$"
   ]
  },
  {
   "cell_type": "code",
   "execution_count": 16,
   "metadata": {},
   "outputs": [
    {
     "data": {
      "text/plain": [
       "0.2400000000000002"
      ]
     },
     "execution_count": 16,
     "metadata": {},
     "output_type": "execute_result"
    }
   ],
   "source": [
    "fh = 3.6\n",
    "p = -2\n",
    "\n",
    "0.4 * fh + 0.6 * p # не совсем ожидаемый результат - это все особенности float"
   ]
  },
  {
   "cell_type": "markdown",
   "metadata": {},
   "source": [
    "### Задание 4 (весеннее)\n",
    "\n",
    "С приходом весны питон решил каждый день выползать погреться на солнышко. Однако он знал, что солнце весной довольно активное, и поэтому разработал такую схему: в первый день он греется одну минуту, а в каждый последующий день увеличивает время пребывания на солнце на 3 минуты. Напишите код, который позволит вычислять, сколько минут питон будет тратить на солнечные ванны в некоторый выбранный день.\n",
    "\n",
    "*Внимание:* ваш код должен выводить номер дня и число минут. Использовать циклы нельзя, в задании предполагается многократный запуск ячеек с кодом."
   ]
  },
  {
   "cell_type": "code",
   "execution_count": 17,
   "metadata": {},
   "outputs": [
    {
     "name": "stdout",
     "output_type": "stream",
     "text": [
      "1 1\n"
     ]
    }
   ],
   "source": [
    "time = 1 # число минут в первый день\n",
    "i = 1 # номер дня\n",
    "print(i, time)"
   ]
  },
  {
   "cell_type": "code",
   "execution_count": 18,
   "metadata": {},
   "outputs": [
    {
     "name": "stdout",
     "output_type": "stream",
     "text": [
      "2 4\n"
     ]
    }
   ],
   "source": [
    "time = time + 3 # будем каждый раз обновлять значение - к уже сохраненному добавлять 3\n",
    "i = i + 1 # увеличиваем номер дня на 1\n",
    "print(i, time)"
   ]
  },
  {
   "cell_type": "code",
   "execution_count": 19,
   "metadata": {},
   "outputs": [
    {
     "name": "stdout",
     "output_type": "stream",
     "text": [
      "3 7\n"
     ]
    }
   ],
   "source": [
    "# можно просто прогонять предыдущую ячейку через Ctrl+Enter много раз,\n",
    "# я скопирую пару раз для наглядности\n",
    "\n",
    "time = time + 3\n",
    "i = i + 1\n",
    "print(i, time)"
   ]
  },
  {
   "cell_type": "code",
   "execution_count": 20,
   "metadata": {},
   "outputs": [
    {
     "name": "stdout",
     "output_type": "stream",
     "text": [
      "4 10\n"
     ]
    }
   ],
   "source": [
    "time = time + 3\n",
    "i = i + 1\n",
    "print(i, time)"
   ]
  },
  {
   "cell_type": "markdown",
   "metadata": {},
   "source": [
    "Для тех, кому интересно – еще один способ увеличивать значения переменных на какое-то число:"
   ]
  },
  {
   "cell_type": "code",
   "execution_count": 21,
   "metadata": {},
   "outputs": [
    {
     "name": "stdout",
     "output_type": "stream",
     "text": [
      "5 13\n"
     ]
    }
   ],
   "source": [
    "time += 3 # плюс равно - увеличивать на 3 текущее значение\n",
    "i += 1 \n",
    "print(i, time)"
   ]
  },
  {
   "cell_type": "markdown",
   "metadata": {},
   "source": [
    "Для других операций такое тоже будет работать:"
   ]
  },
  {
   "cell_type": "code",
   "execution_count": 22,
   "metadata": {},
   "outputs": [
    {
     "name": "stdout",
     "output_type": "stream",
     "text": [
      "6\n"
     ]
    }
   ],
   "source": [
    "# пример с умножением\n",
    "y = 3\n",
    "y *= 2\n",
    "print(y)"
   ]
  },
  {
   "cell_type": "code",
   "execution_count": 23,
   "metadata": {},
   "outputs": [
    {
     "name": "stdout",
     "output_type": "stream",
     "text": [
      "12\n"
     ]
    }
   ],
   "source": [
    "y *= 2\n",
    "print(y)"
   ]
  },
  {
   "cell_type": "markdown",
   "metadata": {},
   "source": [
    "### Задание 5 (приветственное)\n",
    "\n",
    "Напишите программу, которая запрашивает у пользователя имя и фамилию и выводит на экран сообщение "
   ]
  },
  {
   "cell_type": "markdown",
   "metadata": {},
   "source": [
    "```Имя Фамилия```, добро пожаловать!"
   ]
  },
  {
   "cell_type": "code",
   "execution_count": 24,
   "metadata": {},
   "outputs": [
    {
     "name": "stdout",
     "output_type": "stream",
     "text": [
      "Введите имя: Алла\n",
      "Введите фамилию: Тамбовцева\n"
     ]
    }
   ],
   "source": [
    "name = input(\"Введите имя: \")\n",
    "surname = input(\"Введите фамилию: \")"
   ]
  },
  {
   "cell_type": "code",
   "execution_count": 25,
   "metadata": {},
   "outputs": [
    {
     "name": "stdout",
     "output_type": "stream",
     "text": [
      "Алла Тамбовцева, добро пожаловать!\n"
     ]
    }
   ],
   "source": [
    "print('%s %s, добро пожаловать!' % (name, surname))"
   ]
  },
  {
   "cell_type": "markdown",
   "metadata": {},
   "source": [
    "Если кто-то чувствует себя некомфортно с форматированием строк через `%`, еще вариант:"
   ]
  },
  {
   "cell_type": "code",
   "execution_count": 26,
   "metadata": {},
   "outputs": [
    {
     "name": "stdout",
     "output_type": "stream",
     "text": [
      "Алла Тамбовцева, добро пожаловать!\n"
     ]
    }
   ],
   "source": [
    "# плюс - для склеивания строк, иначе перед запятой будет пробел \n",
    "# можно проверить: наберите print(name, surname, ',', 'добро пожаловать!') \n",
    "\n",
    "print(name, surname + ',', 'добро пожаловать!') "
   ]
  },
  {
   "cell_type": "markdown",
   "metadata": {},
   "source": [
    "### Задание 6 (кулинарно-политологическое)\n",
    "\n",
    "Перед вами шаблон рецепта жизни политолога на факультете социальных наук:"
   ]
  },
  {
   "cell_type": "markdown",
   "metadata": {},
   "source": [
    "Рецепт\n",
    "\n",
    "`название курса`: 200 г\n",
    "\n",
    "`название курса`: 300 г\n",
    "\n",
    "`название курса`: 100 г\n",
    "\n",
    "Приправить политической историей. Добавить математические модели по вкусу."
   ]
  },
  {
   "cell_type": "markdown",
   "metadata": {},
   "source": [
    "Напишите код, который делает следующее: запрашивает у пользователя названия курсов (три отдельных вопроса), а потом подставляет их в имеющийся шаблон.\n",
    "\n",
    "*Пример:*"
   ]
  },
  {
   "cell_type": "markdown",
   "metadata": {},
   "source": [
    "```\n",
    "Введите название первого курса: политическая теория\n",
    "Введите название второго курса: история политических учений\n",
    "Введите название третьего курса: математика\n",
    "```"
   ]
  },
  {
   "cell_type": "markdown",
   "metadata": {},
   "source": [
    "```\n",
    "Рецепт\n",
    "\n",
    "политическая теория : 200 г\n",
    "\n",
    "история политических учений: 300 г\n",
    "\n",
    "математика: 100 г\n",
    "\n",
    "Приправить политической историей. Добавить математические модели по вкусу.```"
   ]
  },
  {
   "cell_type": "markdown",
   "metadata": {},
   "source": [
    "### Задание 7 (кулинарно-математическое)\n",
    "\n",
    "У вас есть шаблон, похожий на шаблон рецепта из предыдущей задачи: "
   ]
  },
  {
   "cell_type": "markdown",
   "metadata": {},
   "source": [
    "```\n",
    "Рецепт\n",
    "\n",
    "политическая теория : __ кг\n",
    "\n",
    "история политических учений: __ кг\n",
    "\n",
    "математика: __ кг\n",
    "\n",
    "Приправить политической историей. Добавить математические модели по вкусу.```"
   ]
  },
  {
   "cell_type": "markdown",
   "metadata": {},
   "source": [
    "Напишите программу, которая запрашивает у пользователя три значения массы ингредиентов в граммах (три вопроса), переводит их в килограммы и подставляет полученные значения в шаблон так, чтобы числа содержали ровно 3 знака после запятой."
   ]
  }
 ],
 "metadata": {
  "kernelspec": {
   "display_name": "Python 3",
   "language": "python",
   "name": "python3"
  },
  "language_info": {
   "codemirror_mode": {
    "name": "ipython",
    "version": 3
   },
   "file_extension": ".py",
   "mimetype": "text/x-python",
   "name": "python",
   "nbconvert_exporter": "python",
   "pygments_lexer": "ipython3",
   "version": "3.5.2"
  }
 },
 "nbformat": 4,
 "nbformat_minor": 2
}
