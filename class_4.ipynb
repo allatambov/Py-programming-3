{
 "cells": [
  {
   "cell_type": "markdown",
   "metadata": {},
   "source": [
    "# Основы программирования в Python\n",
    "\n",
    "*Материал подготовил: Виталий Евтушенко, НИУ ВШЭ*"
   ]
  },
  {
   "cell_type": "markdown",
   "metadata": {
    "collapsed": true
   },
   "source": [
    "# Code Style, Variable scopes and Namespace, Testing and Debugging basics, Exception handling and Error Rising"
   ]
  },
  {
   "cell_type": "markdown",
   "metadata": {},
   "source": [
    "## [Coding style](https://en.wikipedia.org/wiki/Programming_style) (Стандарт оформления кода)"
   ]
  },
  {
   "cell_type": "markdown",
   "metadata": {},
   "source": [
    "<a href=\"http://www.freeimagehosting.net/commercial-photography/\"><img src=\"https://i.imgur.com/ONe2o9w.png\" width=\"400\" height=\"80\" alt=\"Commercial Photography\"></a>"
   ]
  },
  {
   "cell_type": "markdown",
   "metadata": {},
   "source": [
    "Чтобы упростить процессы и жизнь, человечество начало придумывать некие стандарты: стандарты красоты, золотые стандарты, стандарты уровня жизни, стандарты ведения войны, [стандарты обработки чисел с плавающей точкой](https://en.wikipedia.org/wiki/IEEE_754). Можно предоложить, что **прикладное программирование не обошла стороной стандартизация и в нём тоже есть свои стандарты**. Это предположение будет верным. \n",
    "\n",
    "Один из стандартов: **стандарт оформления кода**. Также есть стандарты документации, стандарты используемых библиотек. Почти на всё есть свой стандарт, а иногда еще и внутренняя/локальная/корпоративная договоренность (конвенция). \n",
    "\n",
    "**Зачем нужен Coding style?** \n",
    "- В целом, это очень утилитарная идея. \n",
    "- **Ограничение на количество символов в строке** - максимальная возможная длина одного монитора, чтобы не использовать scroll bar (полосу прокрутки); \n",
    "- **Осмысленные имена переменных** (Meaningful variables) ‒ чтобы другой человек _(а также разработчик, который уже через несколько дней ‒ другой человек)_ понимал, что делает переменная. **Пример:** переменная `today_temp` вместо A или переменная `number_of_revolution_per_year_in_developing_countries_first_database` вместо переменной с названием B; \n",
    "- **Пробелы** ‒ максимизации для читаемости кода; \n",
    "- **Отступы vs Пробелы** - для отсутствия проблем с компиляцией.\n",
    "- С его помощью человек, впервые увидевший Ваш код, может потратить меньше времени на понимание кода, если он выполнен согласно стандарту (\"согласно стандарту\" - примерно равно согласно \"здравому смыслу\")\n",
    "- Возможно, *coding style documents* не всегда написаны кровью (по аналогии с техникой безопасности и правилами дорожного движения), но написаны ценой человеко-часов, которые не стоит отдавать вновь и стоит экономить.\n",
    "\n",
    "**Что почитать?**\n",
    "- [PEP 8 ‒ Style Guide for Python Code](https://www.python.org/dev/peps/pep-0008/) (**README**)\n",
    "- [Chech PEP8 online](http://pep8online.com/) (**Just paste your code here**)\n",
    "- [Тест: а у вас стильный Python? (tproger)](https://tproger.ru/quiz/python-style-quiz/)\n",
    "- [Why does Google not follow PEP8 for Python code?](https://www.quora.com/Why-does-Google-not-follow-PEP8-for-Python-code) и [Google Python Style Guide](https://google.github.io/styleguide/pyguide.html) (**пример корпоративной конвенции о коде**)."
   ]
  },
  {
   "cell_type": "markdown",
   "metadata": {},
   "source": [
    "## [Variable scopes and Namespace](https://docs.python.org/3/tutorial/classes.html)"
   ]
  },
  {
   "cell_type": "markdown",
   "metadata": {},
   "source": [
    "Каждый объект в Python'е существует в своём scope (область видимости). Есть несколько областей видимости\n",
    "<a href=\"http://sebastianraschka.com/images/blog/2014/scope_resolution_legb_rule/scope_resolution_1.png\"><img src=\"http://sebastianraschka.com/images/blog/2014/scope_resolution_legb_rule/scope_resolution_1.png\" width=\"400\" height=\"80\" alt=\"Commercial Photography\"></a>\n",
    "\n",
    "**Как это выглядит на практике?**\n",
    "<a href=\"http://www.freeimagehosting.net/commercial-photography/\"><img src=\"https://i.imgur.com/S6JenmJ.png\" width=\"600\" height=\"80\" alt=\"Commercial Photography\"></a>\n",
    ">**Scopes rules**\n",
    "- Each name exists in a certain scope.\n",
    "- When entering a function a new local scope is created.\n",
    "- After exiting a function its local scope (with all the names\n",
    "in it) is deleted.\n",
    "- When referencing a name the Python interpreter first\n",
    "searches the local scope, then the global scope and finally\n",
    "the built-in scope. The complete picture also includes an Enclosing scope - check Python\n",
    "resources.\n",
    "\n",
    "**Что почитать?**\n",
    "- [Documentation](https://docs.python.org/3/tutorial/classes.html) (**стоит почитать**)\n",
    "- [What Are Python Namespaces (And Why Are They Needed?)](https://code.tutsplus.com/tutorials/what-are-python-namespaces-and-why-are-they-needed--cms-28598) (**стоит почитать**)\n",
    "- [global_&_return, Intermediate Python](https://lancelote.gitbooks.io/intermediate-python/content/book/global_&_return.html)\n",
    "- [A Beginner's Guide to Python's Namespaces, Scope Resolution, and the LEGB Rule](http://sebastianraschka.com/Articles/2014_python_scope_and_namespaces.html) (**стоит почитать**)\n",
    "- [Short Description of the Scoping Rules?](https://stackoverflow.com/questions/291978/short-description-of-the-scoping-rules) (**стоит почитать**)"
   ]
  },
  {
   "cell_type": "markdown",
   "metadata": {},
   "source": [
    "**Пример #1.** На этом примере видно, как **интерпретатор Python'а сначала ищет переменную a в local scope, не находит и обращается к глобальной переменной a**, плюсуя к ней 5."
   ]
  },
  {
   "cell_type": "code",
   "execution_count": 1,
   "metadata": {},
   "outputs": [
    {
     "name": "stdout",
     "output_type": "stream",
     "text": [
      "function results is 10 and a is still 5\n"
     ]
    }
   ],
   "source": [
    "def function1():\n",
    "    return a + 5\n",
    "\n",
    "\n",
    "a = 5\n",
    "print(f'function results is {function1()} and a is still {a}')"
   ]
  },
  {
   "cell_type": "markdown",
   "metadata": {},
   "source": [
    "**Пример #2.**\n",
    "А здесь мы **явно говорим, что следует использовать переменную a из global scope**"
   ]
  },
  {
   "cell_type": "code",
   "execution_count": 2,
   "metadata": {},
   "outputs": [
    {
     "name": "stdout",
     "output_type": "stream",
     "text": [
      "function results is 10 and a is 10\n"
     ]
    }
   ],
   "source": [
    "def function1():\n",
    "    global a\n",
    "    a = a + 5\n",
    "    return a \n",
    "\n",
    "\n",
    "a = 5\n",
    "print(f'function results is {function1()} and a is {a}')"
   ]
  },
  {
   "cell_type": "markdown",
   "metadata": {},
   "source": [
    "**Пример #3.** В этом примере происходит то же самое, что и в первом примере, но исходное значение глобальной переменной изменяется, потому что **list** (*список*) ‒ **mutable type** (*изменяемый тип*)."
   ]
  },
  {
   "cell_type": "code",
   "execution_count": 3,
   "metadata": {},
   "outputs": [
    {
     "name": "stdout",
     "output_type": "stream",
     "text": [
      "function results is [5, 5] and b is [5, 5]\n"
     ]
    }
   ],
   "source": [
    "def function2():\n",
    "    a.append(5)\n",
    "    return a\n",
    "\n",
    "\n",
    "a = [5]\n",
    "print(f'function results is {function2()} and b is {a}')"
   ]
  },
  {
   "cell_type": "markdown",
   "metadata": {},
   "source": [
    "## Testing and Debugging basics (Тестирование и отладка)"
   ]
  },
  {
   "cell_type": "markdown",
   "metadata": {},
   "source": [
    "При написании программы, которая будет выполнять хоть немного важное задание, требуется тестировать свой код. Одним из примеров тестирования может выступать конструкция [assert](http://pythonz.net/references/named/assert/). Она нужна для проверки истинности утверждения. Примером отладки могут выступать встроенные в IDE отладчики или [библиотеки, позволяющие проводить отладку дажев Jupyter'е](https://davidhamann.de/2017/04/22/debugging-jupyter-notebooks/)."
   ]
  },
  {
   "cell_type": "markdown",
   "metadata": {},
   "source": [
    "### Testing "
   ]
  },
  {
   "cell_type": "code",
   "execution_count": 1,
   "metadata": {},
   "outputs": [
    {
     "name": "stdout",
     "output_type": "stream",
     "text": [
      "right statement\n"
     ]
    }
   ],
   "source": [
    "assert 2 + 2 == 4\n",
    "print('right statement')"
   ]
  },
  {
   "cell_type": "code",
   "execution_count": 2,
   "metadata": {
    "scrolled": true
   },
   "outputs": [
    {
     "ename": "AssertionError",
     "evalue": "Уверены ли Вы, что сумма двух и двух равняется пяти?",
     "output_type": "error",
     "traceback": [
      "\u001b[0;31m---------------------------------------------------------------------------\u001b[0m",
      "\u001b[0;31mAssertionError\u001b[0m                            Traceback (most recent call last)",
      "\u001b[0;32m<ipython-input-2-686801ed7846>\u001b[0m in \u001b[0;36m<module>\u001b[0;34m()\u001b[0m\n\u001b[0;32m----> 1\u001b[0;31m \u001b[0;32massert\u001b[0m \u001b[0;36m2\u001b[0m \u001b[0;34m+\u001b[0m \u001b[0;36m2\u001b[0m \u001b[0;34m==\u001b[0m \u001b[0;36m5\u001b[0m\u001b[0;34m,\u001b[0m \u001b[0;34m\"Уверены ли Вы, что сумма двух и двух равняется пяти?\"\u001b[0m\u001b[0;34m\u001b[0m\u001b[0m\n\u001b[0m\u001b[1;32m      2\u001b[0m \u001b[0;32mprint\u001b[0m\u001b[0;34m(\u001b[0m\u001b[0;34m'right statement'\u001b[0m\u001b[0;34m)\u001b[0m\u001b[0;34m\u001b[0m\u001b[0m\n",
      "\u001b[0;31mAssertionError\u001b[0m: Уверены ли Вы, что сумма двух и двух равняется пяти?"
     ]
    }
   ],
   "source": [
    "assert 2 + 2 == 5, \"Уверены ли Вы, что сумма двух и двух равняется пяти?\"\n",
    "print('right statement')"
   ]
  },
  {
   "cell_type": "code",
   "execution_count": 3,
   "metadata": {},
   "outputs": [
    {
     "name": "stdout",
     "output_type": "stream",
     "text": [
      "right statement\n"
     ]
    }
   ],
   "source": [
    "assert isinstance(4, int)\n",
    "print('right statement')"
   ]
  },
  {
   "cell_type": "code",
   "execution_count": 4,
   "metadata": {},
   "outputs": [
    {
     "ename": "AssertionError",
     "evalue": "Почему тут ошибка? Потому что сильная типизация.",
     "output_type": "error",
     "traceback": [
      "\u001b[0;31m---------------------------------------------------------------------------\u001b[0m",
      "\u001b[0;31mAssertionError\u001b[0m                            Traceback (most recent call last)",
      "\u001b[0;32m<ipython-input-4-4f990796fd98>\u001b[0m in \u001b[0;36m<module>\u001b[0;34m()\u001b[0m\n\u001b[0;32m----> 1\u001b[0;31m \u001b[0;32massert\u001b[0m \u001b[0misinstance\u001b[0m\u001b[0;34m(\u001b[0m\u001b[0;36m4\u001b[0m\u001b[0;34m,\u001b[0m \u001b[0mstr\u001b[0m\u001b[0;34m)\u001b[0m\u001b[0;34m,\u001b[0m \u001b[0;34m\"Почему тут ошибка? Потому что сильная типизация.\"\u001b[0m\u001b[0;34m\u001b[0m\u001b[0m\n\u001b[0m\u001b[1;32m      2\u001b[0m \u001b[0;32mprint\u001b[0m\u001b[0;34m(\u001b[0m\u001b[0;34m'right statement'\u001b[0m\u001b[0;34m)\u001b[0m\u001b[0;34m\u001b[0m\u001b[0m\n",
      "\u001b[0;31mAssertionError\u001b[0m: Почему тут ошибка? Потому что сильная типизация."
     ]
    }
   ],
   "source": [
    "assert isinstance(4, str), \"Почему тут ошибка? Потому что сильная типизация.\"\n",
    "print('right statement')"
   ]
  },
  {
   "cell_type": "markdown",
   "metadata": {},
   "source": [
    "**По примеру #2 стоит прочитать**:\n",
    "- [Strong, Weak, Dynamic, and Static Typed Programming Languages Explained](http://www.josephspurrier.com/strong-weak-dynamic-and-static-typed-programming-languages/)\n",
    "- [Is python strong typed?](https://stackoverflow.com/questions/11328920/is-python-strongly-typed)\n",
    "- [Static/Dynamic vs Strong/Weak](https://stackoverflow.com/questions/2351190/static-dynamic-vs-strong-weak)\n",
    "- [static vs dynamic vs strong vs weak vs duck typing](https://www.koffeinfrei.org/2012/03/19/static-vs-dynamic-vs-strong-vs-weak-vs-duck-typing/)"
   ]
  },
  {
   "cell_type": "markdown",
   "metadata": {},
   "source": [
    "### [Debugging](https://ru.wikipedia.org/wiki/%D0%9E%D1%82%D0%BB%D0%B0%D0%B4%D0%BA%D0%B0_%D0%BF%D1%80%D0%BE%D0%B3%D1%80%D0%B0%D0%BC%D0%BC%D1%8B) [(en)](https://en.wikipedia.org/wiki/Debugging)"
   ]
  },
  {
   "cell_type": "markdown",
   "metadata": {},
   "source": [
    "**В очень общих словах**, это процесс очень подробного исполнения программы (контролируемое исполнение каждого действия, каждой операции и итерации) с мониторингом значения всех переменных или всех желаемых переменных и особо тщательном внимании (остановке) в местах, которые того требуют (где выставлен *breakpoint* ‒ точка остановки). **Нужно, чтобы не выставлять print(variable) в каждом месте программы, когда что-то идёт не так, а использовать уже готовый интерфейс для этого**.\n",
    "\n",
    "**Что посмотреть и почитать?**\n",
    "- [Отладка, Intermediate Python](https://lancelote.gitbooks.io/intermediate-python/content/book/debugging.html)\n",
    "- [Разработка через тестирование](https://ru.wikipedia.org/wiki/%D0%A0%D0%B0%D0%B7%D1%80%D0%B0%D0%B1%D0%BE%D1%82%D0%BA%D0%B0_%D1%87%D0%B5%D1%80%D0%B5%D0%B7_%D1%82%D0%B5%D1%81%D1%82%D0%B8%D1%80%D0%BE%D0%B2%D0%B0%D0%BD%D0%B8%D0%B5)\n",
    "- [История термина дебаггинг/отладка на wiki en](https://en.wikipedia.org/wiki/Debugging#Origin_of_the_term)\n",
    "- [Getting Started with PyCharm 6/8: Debugging](https://www.youtube.com/watch?v=QJtWxm12Eo0) **(стоит посмотреть)**\n",
    "- [debugging-jupyter-notebooks](https://davidhamann.de/2017/04/22/debugging-jupyter-notebooks/) **(стоит не только посмотреть, почитать код но и установить себе библиотеку для отладки и начать ей пользовать)**. \n",
    "\n",
    "**ПАСХАЛЬНОЕ ЯЙЦО**: Первые три человека, кто прочитает эту статью и отправит мне на почту скрин с установленной работающей библиотекой и пример отладки, или окно отладки из IDE (например PyCharm) в процессе отладки с объяснением происходящего получит $+0.5$ балла к накопленной или экзамену, на выбор."
   ]
  },
  {
   "cell_type": "markdown",
   "metadata": {},
   "source": [
    "### Также, мы можем совмещать assert с более сложной концепцией ловли ошибок (см. ниже)."
   ]
  },
  {
   "cell_type": "code",
   "execution_count": null,
   "metadata": {},
   "outputs": [],
   "source": [
    "try:\n",
    "    assert 2 + 2 == 5\n",
    "except AssertionError:\n",
    "    print('Wow, there were unclear statment!')"
   ]
  },
  {
   "cell_type": "markdown",
   "metadata": {},
   "source": [
    "## Exception handling and Error rising (Ловля ошибок и вызов ошибок)"
   ]
  },
  {
   "cell_type": "markdown",
   "metadata": {},
   "source": [
    "<a href=\"http://www.freeimagehosting.net/commercial-photography/\"><img src=\"https://i.imgur.com/ybuvfov.png\" width=\"400\" height=\"80\" alt=\"Commercial Photography\"></a>\n",
    "\n",
    "**Иногда, человек пишет код, который наиболее вероятно может сломаться наиболее вероятным образом**. В целом, когда пишешь код, нужно заранее понимать, какие ошибки могут возникнуть и как их обойти, не прибегая к экстренным мерам вроде полной перезагрузки работающей программы (hello, windows blue screan). **Одним из способов контролировать ошибки может служить концепция ловли ошибок.** \n",
    "\n",
    "В общем виде, ловля ошибок - управляющая конструкция со следующей схемой [1](https://hadoopguru.blogspot.com/2013/09/java-interview-question-part03.html):\n",
    "<a href=\"http://www.freeimagehosting.net/commercial-photography/\"><img src=\"https://i.imgur.com/5SYjG0G.png\" alt=\"Commercial Photography\"></a>\n",
    "\n",
    "**Что почитать?**\n",
    "- [Встроенные в язык исключения](https://docs.python.org/3.6/library/exceptions.html)\n",
    "- [sklearn eceptions](http://scikit-learn.org/stable/modules/classes.html#module-sklearn.exceptions), [numpy seterr](https://docs.scipy.org/doc/numpy-1.14.0/reference/ufuncs.html#error-handling)\n",
    "- [What is the use of exception handling? Quora](https://www.quora.com/What-is-the-use-of-exception-handling)\n",
    "- [wiki ru](https://ru.wikipedia.org/wiki/%D0%9E%D0%B1%D1%80%D0%B0%D0%B1%D0%BE%D1%82%D0%BA%D0%B0_%D0%B8%D1%81%D0%BA%D0%BB%D1%8E%D1%87%D0%B5%D0%BD%D0%B8%D0%B9), [Хабр](https://habr.com/post/311214/)"
   ]
  },
  {
   "cell_type": "code",
   "execution_count": 8,
   "metadata": {},
   "outputs": [
    {
     "name": "stdout",
     "output_type": "stream",
     "text": [
      "Введите числое число. Или хотя бы с плавающей точкой. Но вы же можете ввести буквы, \n",
      "        я знаю и готов к этому \n",
      "FiftyFive\n",
      "Ha-ha, i was ready!!1!\n",
      "Введите числое число. Или хотя бы с плавающей точкой. Но вы же можете ввести буквы, \n",
      "        я знаю и готов к этому \n",
      "55\n",
      "Wow, nice job. That is a NUMBER!\n"
     ]
    }
   ],
   "source": [
    "for i in range(2):\n",
    "    try:\n",
    "        int(input('''Введите числое число. Или хотя бы с плавающей точкой. Но вы же можете ввести буквы, \n",
    "        я знаю и готов к этому \\n'''))\n",
    "        print('Wow, nice job. That is a NUMBER!')\n",
    "    except ValueError:\n",
    "        print('Ha-ha, i was ready!!1!')"
   ]
  },
  {
   "cell_type": "markdown",
   "metadata": {},
   "source": [
    "Можно ловить совершенно любую ошибку возникшую. Но так делать не стоит, потому что программа перестает быть очевидной и **Errors should never pass silently (The Zen of Python 0:10).** Лучше (хотя бы) перед этим рассмотреть наиболее вероятные. Пример, при работе с интернетом: ошибка соединения, ошибка возвращаемого кода. **Часто в задачах требуются шаблоные исключения, которые достаточно выучить или держать рядом чтобы сделать copy-paste**"
   ]
  },
  {
   "cell_type": "code",
   "execution_count": 9,
   "metadata": {},
   "outputs": [
    {
     "name": "stdout",
     "output_type": "stream",
     "text": [
      "lst is [0, 1, 2, 3, 4, '5']\n",
      "Сейчас я попробую суммировать элементы в листе\n",
      "Итак, сумма равна...\n",
      "\n",
      "Ой, что-то пошло не так. Не знаю, что могло пойти не так.\n",
      "И Вы не узнаете. Потому что я выставил исключение на любую ошибку.\n",
      "Как правило, нет достаточно весомых оснований так делать\n"
     ]
    }
   ],
   "source": [
    "lst = list(range(5))\n",
    "lst.append('5')\n",
    "print(f'lst is {lst}')\n",
    "try:\n",
    "    print('Сейчас я попробую суммировать элементы в листе')\n",
    "    print('Итак, сумма равна...\\n')\n",
    "    print(sum(lst))\n",
    "except:\n",
    "    print('''Ой, что-то пошло не так. Не знаю, что могло пойти не так.\\n\\\n",
    "И Вы не узнаете. Потому что я выставил исключение на любую ошибку.\\n\\\n",
    "Как правило, нет достаточно весомых оснований так делать''')"
   ]
  },
  {
   "cell_type": "markdown",
   "metadata": {},
   "source": [
    "Ошибка, которая возникает в описанном выше примере: \n",
    "```python\n",
    "TypeError: unsupported operand type(s) for +: 'int' and 'str\n",
    "```\n",
    "Попробуем решить её:"
   ]
  },
  {
   "cell_type": "code",
   "execution_count": 11,
   "metadata": {},
   "outputs": [
    {
     "name": "stdout",
     "output_type": "stream",
     "text": [
      "lst is [0, 1, 2, 3, 4, '5']\n",
      "Сейчас я попробую суммировать элементы в листе\n",
      "Итак, сумма равна...\n",
      "\n",
      "TypeError was catched. Good work!\n"
     ]
    }
   ],
   "source": [
    "lst = list(range(5))\n",
    "lst.append('5')\n",
    "print(f'lst is {lst}')\n",
    "try:\n",
    "    print('Сейчас я попробую суммировать элементы в листе')\n",
    "    print('Итак, сумма равна...\\n')\n",
    "    print(sum(lst))\n",
    "except TypeError:\n",
    "    print('TypeError was catched. Good work!')\n",
    "except:\n",
    "    print('''Ой, что-то пошло не так. Не знаю, что могло пойти не так.\\n\\\n",
    "И Вы не узнаете. Потому что я выставил исключение на любую ошибку.\\n\\\n",
    "Как правило, нет достаточно весомых оснований так делать''')"
   ]
  },
  {
   "cell_type": "markdown",
   "metadata": {},
   "source": [
    "Очевидно, что **таким образом можно ловить любую ошибку, встроенную в языке, так и придуманную другими людьми в своих пакетах, фреймворках, библиотеках, проектах**. Люди любят придумывать ошибки, а другие люди любят их ловить, иногда это одни и те же люди.\n",
    "\n",
    "**Более того, иногда люди любят вызывать ошибки** [How to catch NotImplementedError Exception in Python?](https://www.tutorialspoint.com/How-to-catch-NotImplementedError-Exception-in-Python). Например, если есть готовый интерфейс, но его методы (функции) еще не до конца реализованы."
   ]
  },
  {
   "cell_type": "code",
   "execution_count": 12,
   "metadata": {},
   "outputs": [
    {
     "name": "stdout",
     "output_type": "stream",
     "text": [
      "Sorry, The New Ultimate Question of Life, the Universe and Everything is not found yet. Time to be.\n"
     ]
    }
   ],
   "source": [
    "def function_that_finds_life_meaning():\n",
    "    '''\n",
    "    Эта функция находит смысл жизни.\n",
    "    \n",
    "    Другая постановка задачи: ответ на главный вопрос жизни, \n",
    "    вселенной и всего такого.\n",
    "    \n",
    "    :input something_meaningfull: dict\n",
    "    :output: life_meaning\n",
    "    '''\n",
    "    # YOUR CODE HERE\n",
    "    raise NotImplementedError() # - here the error rise\n",
    "    return life_meaning\n",
    "\n",
    "try:\n",
    "    function_that_finds_life_meaning()\n",
    "except NotImplementedError:\n",
    "    print('Sorry, The New Ultimate Question of Life, the Universe and Everything is not found yet. Time to be.')"
   ]
  }
 ],
 "metadata": {
  "kernelspec": {
   "display_name": "Python 2",
   "language": "python",
   "name": "python2"
  },
  "language_info": {
   "codemirror_mode": {
    "name": "ipython",
    "version": 2
   },
   "file_extension": ".py",
   "mimetype": "text/x-python",
   "name": "python",
   "nbconvert_exporter": "python",
   "pygments_lexer": "ipython2",
   "version": "2.7.12"
  }
 },
 "nbformat": 4,
 "nbformat_minor": 2
}
